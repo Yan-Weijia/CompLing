{
 "cells": [
  {
   "cell_type": "markdown",
   "metadata": {},
   "source": [
    "# 词义消歧 Word Sense Disambiguation (снятие лексической неоднозначности) и 词义归纳 Word Sense Induction (нахождение значений слова)"
   ]
  },
  {
   "cell_type": "markdown",
   "metadata": {},
   "source": [
    "WSD 词义消歧 и WSI 词义归纳 - это связанные задачи про определение значений, в которых употребляются слова. WSI занимается определением возможных значений слова, а WSD нужна для того, чтобы определить, в каком из имеющихся значений слово употреблено в тексте. \n",
    "确定词使用的含义。WSI:归纳所有可能的含义；WSD:在上下文中使用的含义。\n",
    "\n",
    "На прошлых занятиях мы вообще закрывали глаза на то, что у слов может быть несколько значений, т.к. в целом это не такая уж серьезная проблема. Однако в некоторых практических задачах учёт многозначности может сильно помочь (например, в поиске результат будет отличаться для запросов \"гоголь фильм\" и \"гоголь писатель\")"
   ]
  },
  {
   "cell_type": "markdown",
   "metadata": {},
   "source": [
    "在特定的上下文中的词的意义\n",
    "Основное предположение, на котором строятся все модели для снятия и определения неоднозначности - значение определяется в контексте (отличие от эмбедингов в том, что тут имеется в виду конкретный контекст и конкретное значение, а не набор всех контекстов и общее значение=смысл слова). Т.к контекст может включать в себя невероятного много всего (от 1 соседнего слова до актуальных мемов), решить задачу полностью пока нельзя и это, наверное, сложная и интересная тема для исследований. На ACL прошлого года одна из oustanding работ как раз про **WSD** - \n",
    "https://github.com/malllabiisc/EWISE  \n",
    "Но в рамках семинара давайте посмотрим, какие есть уже готовые инструменты или простые алгоритмы для работы с многозначностью."
   ]
  },
  {
   "cell_type": "markdown",
   "metadata": {},
   "source": [
    "对单词出现的上下文（窗口）进行聚类\n",
    "**WSI** можно представить как задачу кластеризации контекстов, в которых встречается слово (тут и дальше контекст - это окно в несколько слов, стоящих рядом с целевым словом в каком-то тексте). Мы попробуем это поделать на следующем семинаре по машинному обучению."
   ]
  },
  {
   "cell_type": "markdown",
   "metadata": {},
   "source": [
    "А сейчас попробуем Адаграм!\n",
    "Adagram (Adaptive Skip-gram, 自适应跳频模型) 是一种在word2vec软件中实现的名为per模型的非参数扩展，能够学习不同词义。基于非参数贝叶斯方法实现动态多义（dynamic polysemy）。"
   ]
  },
  {
   "cell_type": "code",
   "execution_count": 1,
   "metadata": {},
   "outputs": [],
   "source": [
    "import adagram\n",
    "from lxml import html\n",
    "from nltk.tokenize import word_tokenize\n",
    "from nltk.corpus import stopwords\n",
    "from nltk.corpus import wordnet as wn\n",
    "from pymorphy2 import MorphAnalyzer\n",
    "from string import punctuation\n",
    "import json, os\n",
    "from collections import Counter\n",
    "import numpy as np\n",
    "from matplotlib import pyplot as plt\n",
    "%matplotlib inline\n",
    "import warnings\n",
    "warnings.filterwarnings('ignore')\n",
    "morph = MorphAnalyzer()\n",
    "punct = punctuation+'«»—…“”*№–'\n",
    "stops = set(stopwords.words('russian'))\n",
    "\n",
    "\n",
    "\n",
    "def tokenize(text):\n",
    "    \n",
    "    words = [word.strip(punct) for word in text.lower().split() if word and word not in stops]\n",
    "    words = [word for word in words if word]\n",
    "\n",
    "    return words\n",
    "\n",
    "def normalize(text):\n",
    "    \n",
    "    words = tokenize(text)\n",
    "    words = [morph.parse(word)[0].normal_form for word in words if word]\n",
    "\n",
    "    return words"
   ]
  },
  {
   "cell_type": "markdown",
   "metadata": {},
   "source": [
    "## Адаграм"
   ]
  },
  {
   "cell_type": "markdown",
   "metadata": {},
   "source": [
    "Word2Vec и Fasttext каждому слову (или буквенному нграму) сопоставляют 1 вектор. Это значит, что у каждого слова в векторном пространстве только 1 значение. У многозначных слов векторы будут просто каким-то усреднением или обобщением всех его значений. \n",
    "Word2Vec和Fasttext每个单词（或字母ngram）映射1个向量。 这意味着向量空间中的每个单词只有1个含义。 对于多义词，向量将只是其所有词义平均或概括。"
   ]
  },
  {
   "cell_type": "markdown",
   "metadata": {},
   "source": [
    "В работе https://arxiv.org/pdf/1502.07257.pdf предлагается способ улучшить Skip Gram, так чтобы каждому слову сопостовлялось K различных векторов, так что каждый из них представляет какое-то из его значений. При этом сам параметр K задавать не нужно, модель сама находит нужное количество \"значений\" для каждого слова (т.е. делает WSI).\n",
    "优化Skip-gram的方法，每个词有不同的K个向量，分别表示不同的词义。模型自动为每个词找到词义数量K（即形成WSI）"
   ]
  },
  {
   "cell_type": "markdown",
   "metadata": {},
   "source": [
    "Изначально этот  подход реализован на julia, но есть реализация на питоне - https://github.com/lopuhin/python-adagram"
   ]
  },
  {
   "cell_type": "code",
   "execution_count": 37,
   "metadata": {
    "collapsed": true
   },
   "outputs": [
    {
     "name": "stdout",
     "output_type": "stream",
     "text": [
      "Requirement already satisfied: Cython in /Users/mnefedov/.pyenv/versions/3.6.5/lib/python3.6/site-packages (0.28.5)\n",
      "Requirement already satisfied: numpy in /Users/mnefedov/.pyenv/versions/3.6.5/lib/python3.6/site-packages (1.18.1)\n",
      "Collecting git+https://github.com/lopuhin/python-adagram.git\n",
      "  Cloning https://github.com/lopuhin/python-adagram.git to /private/var/folders/sw/k25rhtrn2psc2hztd0t4tqmh0000gn/T/pip-req-build-9w1jahw3\n",
      "  Running command git clone -q https://github.com/lopuhin/python-adagram.git /private/var/folders/sw/k25rhtrn2psc2hztd0t4tqmh0000gn/T/pip-req-build-9w1jahw3\n",
      "Requirement already satisfied (use --upgrade to upgrade): adagram==0.0.1 from git+https://github.com/lopuhin/python-adagram.git in /Users/mnefedov/.pyenv/versions/3.6.5/lib/python3.6/site-packages\n",
      "Requirement already satisfied: cython in /Users/mnefedov/.pyenv/versions/3.6.5/lib/python3.6/site-packages (from adagram==0.0.1) (0.28.5)\n",
      "Requirement already satisfied: joblib in /Users/mnefedov/.pyenv/versions/3.6.5/lib/python3.6/site-packages (from adagram==0.0.1) (0.14.1)\n",
      "Requirement already satisfied: numpy>=1.9 in /Users/mnefedov/.pyenv/versions/3.6.5/lib/python3.6/site-packages (from adagram==0.0.1) (1.18.1)\n",
      "Requirement already satisfied: six in /Users/mnefedov/.pyenv/versions/3.6.5/lib/python3.6/site-packages (from adagram==0.0.1) (1.11.0)\n",
      "Building wheels for collected packages: adagram\n",
      "  Building wheel for adagram (setup.py) ... \u001b[?25ldone\n",
      "\u001b[?25h  Created wheel for adagram: filename=adagram-0.0.1-cp36-cp36m-macosx_10_15_x86_64.whl size=229290 sha256=d26eca1434831ee4aad00276e2fae0ca6c5e1ac0eaf151bea5aa092e396a4e02\n",
      "  Stored in directory: /private/var/folders/sw/k25rhtrn2psc2hztd0t4tqmh0000gn/T/pip-ephem-wheel-cache-jtv6tcb6/wheels/d4/94/02/8c84fcc5d21cf2825971f268d8367c25dd78b6c0bf5743f644\n",
      "Successfully built adagram\n"
     ]
    }
   ],
   "source": [
    "!pip install Cython numpy\n",
    "!pip install git+https://github.com/lopuhin/python-adagram.git"
   ]
  },
  {
   "cell_type": "markdown",
   "metadata": {},
   "source": [
    "Обучается адаграм через командную строку."
   ]
  },
  {
   "cell_type": "markdown",
   "metadata": {},
   "source": [
    "Возьмем небольшой новостной корпус. Нормализуем."
   ]
  },
  {
   "cell_type": "code",
   "execution_count": 3,
   "metadata": {},
   "outputs": [],
   "source": [
    "corpus = open('corpus_ng.txt', encoding=\"utf-8\").read()\n",
    "corpus = normalize(corpus)"
   ]
  },
  {
   "cell_type": "code",
   "execution_count": 4,
   "metadata": {},
   "outputs": [
    {
     "data": {
      "text/plain": [
       "['бой',\n",
       " 'сопоцкина',\n",
       " 'друскеник',\n",
       " 'закончиться',\n",
       " 'отступление',\n",
       " 'германец',\n",
       " 'неприятель',\n",
       " 'приблизиться',\n",
       " 'север',\n",
       " 'осовца']"
      ]
     },
     "execution_count": 4,
     "metadata": {},
     "output_type": "execute_result"
    }
   ],
   "source": [
    "corpus[:10]"
   ]
  },
  {
   "cell_type": "markdown",
   "metadata": {},
   "source": [
    "И положим одним куском в файл."
   ]
  },
  {
   "cell_type": "code",
   "execution_count": 6,
   "metadata": {},
   "outputs": [],
   "source": [
    "# 词 词 词 ...\n",
    "f = open('corpus.txt', 'w', encoding='utf-8')\n",
    "f.write(' '.join(corpus))\n",
    "f.close()"
   ]
  },
  {
   "cell_type": "markdown",
   "metadata": {},
   "source": [
    "Обучим модель (обучается достаточно долго)"
   ]
  },
  {
   "cell_type": "code",
   "execution_count": null,
   "metadata": {},
   "outputs": [],
   "source": [
    "!adagram-train corpus.txt out.pkl"
   ]
  },
  {
   "cell_type": "markdown",
   "metadata": {},
   "source": [
    "Обученная модель загружается вот так."
   ]
  },
  {
   "cell_type": "code",
   "execution_count": 2,
   "metadata": {},
   "outputs": [],
   "source": [
    "vm = adagram.VectorModel.load(\"out.pkl\")"
   ]
  },
  {
   "cell_type": "code",
   "execution_count": 6,
   "metadata": {},
   "outputs": [],
   "source": [
    "# модель обученная на большом корпусе (осторожно 1.5 гб)\n",
    "# !wget 'https://s3.amazonaws.com/kostia.lopuhin/all.a010.p10.d300.w5.m100.nonorm.slim.joblib'\n",
    "# vm = adagram.VectorModel.load('all.a010.p10.d300.w5.m100.nonorm.slim.joblib')"
   ]
  },
  {
   "cell_type": "markdown",
   "metadata": {},
   "source": [
    "Посмотрим на значения каких-нибудь слова."
   ]
  },
  {
   "cell_type": "code",
   "execution_count": 3,
   "metadata": {},
   "outputs": [
    {
     "data": {
      "text/plain": [
       "[(0, 0.7585169498833962), (1, 0.24146439423939348)]"
      ]
     },
     "execution_count": 3,
     "metadata": {},
     "output_type": "execute_result"
    }
   ],
   "source": [
    "vm.word_sense_probs('мир')\n",
    "# возвращается список туплов, где первая цифра - номер значения, а вторая - вероятность (распространенность) этого значения\n",
    "# 第一个数：该词的第几个词义；第二个数：同义概率。这个词共两个词义。"
   ]
  },
  {
   "cell_type": "markdown",
   "metadata": {},
   "source": [
    "Посмотрим какие слова близки к каждому из значений."
   ]
  },
  {
   "cell_type": "code",
   "execution_count": 4,
   "metadata": {},
   "outputs": [
    {
     "data": {
      "text/plain": [
       "[('чемпионат', 0, 0.71359706),\n",
       " ('футбол', 0, 0.63420445),\n",
       " ('самый', 0, 0.5430565),\n",
       " ('количественный', 0, 0.53455245),\n",
       " ('место', 1, 0.52710235),\n",
       " ('двухметровый', 0, 0.5229766),\n",
       " ('который', 0, 0.5075667),\n",
       " ('трофей', 0, 0.4926684),\n",
       " ('стартовать', 0, 0.4906729),\n",
       " ('матч', 0, 0.48958433)]"
      ]
     },
     "execution_count": 4,
     "metadata": {},
     "output_type": "execute_result"
    }
   ],
   "source": [
    "vm.sense_neighbors('мир', 0) # первое значение слова мир"
   ]
  },
  {
   "cell_type": "code",
   "execution_count": 5,
   "metadata": {},
   "outputs": [
    {
     "data": {
      "text/plain": [
       "[('сша', 2, 0.4559447),\n",
       " ('отделять', 0, 0.43212086),\n",
       " ('директор-распорядитель', 0, 0.4233097),\n",
       " ('арафат', 0, 0.41910806),\n",
       " ('думать', 0, 0.41224533),\n",
       " ('ясный', 0, 0.4083918),\n",
       " ('уик-энд', 0, 0.40513057),\n",
       " ('реликвия', 0, 0.4044521),\n",
       " ('коррумпировать', 0, 0.40200907),\n",
       " ('конструктор', 0, 0.40080503)]"
      ]
     },
     "execution_count": 5,
     "metadata": {},
     "output_type": "execute_result"
    }
   ],
   "source": [
    "vm.sense_neighbors('мир', 1) # второе"
   ]
  },
  {
   "cell_type": "markdown",
   "metadata": {},
   "source": [
    "Чтобы не гадать, можно посмотреть на все слова у которых есть хотя бы 2 устойчивых значения."
   ]
  },
  {
   "cell_type": "code",
   "execution_count": 6,
   "metadata": {},
   "outputs": [],
   "source": [
    "ambiguous = []\n",
    "for word in vm.dictionary.id2word:\n",
    "    probs = vm.word_sense_probs(word)\n",
    "    if len(probs) > 1 and probs[0][1] < 0.8: # второе условие нужно, чтоб выкинуть слова с не очень сильным вторым значением\n",
    "        ambiguous.append(word)"
   ]
  },
  {
   "cell_type": "code",
   "execution_count": 7,
   "metadata": {
    "scrolled": true
   },
   "outputs": [
    {
     "data": {
      "text/plain": [
       "['который',\n",
       " 'год',\n",
       " 'сообщать',\n",
       " 'россия',\n",
       " 'тот',\n",
       " 'один',\n",
       " 'это',\n",
       " 'свой',\n",
       " 'время',\n",
       " 'также',\n",
       " 'человек',\n",
       " 'российский',\n",
       " 'слово',\n",
       " 'дело',\n",
       " 'сша',\n",
       " 'москва',\n",
       " 'представитель',\n",
       " 'суд',\n",
       " 'страна',\n",
       " 'однако',\n",
       " 'стать',\n",
       " 'быть',\n",
       " 'находиться',\n",
       " 'место',\n",
       " 'город',\n",
       " 'такой',\n",
       " 'правительство',\n",
       " 'должный',\n",
       " 'около',\n",
       " 'новый',\n",
       " 'министр',\n",
       " 'несколько',\n",
       " 'другой',\n",
       " 'американский',\n",
       " 'информация',\n",
       " 'работа',\n",
       " 'передавать',\n",
       " 'вопрос',\n",
       " 'самый',\n",
       " 'сотрудник',\n",
       " 'являться',\n",
       " 'данные',\n",
       " 'рф',\n",
       " 'власть',\n",
       " 'сказать',\n",
       " 'мнение',\n",
       " 'весь',\n",
       " 'дать',\n",
       " 'сторона',\n",
       " 'этот',\n",
       " 'напомнить',\n",
       " 'провести',\n",
       " 'среда',\n",
       " 'мир',\n",
       " 'часть',\n",
       " 'вторник',\n",
       " 'программа',\n",
       " 'александр',\n",
       " 'система',\n",
       " 'местный',\n",
       " 'три',\n",
       " 'имя',\n",
       " 'состояться',\n",
       " 'первое',\n",
       " 'ряд',\n",
       " 'ситуация',\n",
       " 'ближний',\n",
       " 'начало',\n",
       " 'объявить',\n",
       " 'момент',\n",
       " 'из-за',\n",
       " 'счёт',\n",
       " '20',\n",
       " 'столица',\n",
       " 'составить',\n",
       " 'проблема',\n",
       " 'апрель',\n",
       " '15',\n",
       " 'подобный',\n",
       " 'уровень',\n",
       " 'представить',\n",
       " 'утверждение']"
      ]
     },
     "execution_count": 7,
     "metadata": {},
     "output_type": "execute_result"
    }
   ],
   "source": [
    "ambiguous"
   ]
  },
  {
   "cell_type": "markdown",
   "metadata": {},
   "source": [
    "Определить значение по контексту можно вот так:"
   ]
  },
  {
   "cell_type": "code",
   "execution_count": 8,
   "metadata": {},
   "outputs": [
    {
     "data": {
      "text/plain": [
       "array([9.99999390e-01, 6.10483239e-07, 0.00000000e+00, 0.00000000e+00,\n",
       "       0.00000000e+00])"
      ]
     },
     "execution_count": 8,
     "metadata": {},
     "output_type": "execute_result"
    }
   ],
   "source": [
    "vm.disambiguate(\"мир\", ['чемпионат', \"россия\", \"игра\", \"футбол\"]) # выдает вероятности"
   ]
  },
  {
   "cell_type": "code",
   "execution_count": 9,
   "metadata": {},
   "outputs": [
    {
     "data": {
      "text/plain": [
       "0"
      ]
     },
     "execution_count": 9,
     "metadata": {},
     "output_type": "execute_result"
    }
   ],
   "source": [
    "# достаем номер самого вероятного значения\n",
    "# 找出最可能的词义\n",
    "vm.disambiguate(\"мир\", ['чемпионат', \"россия\", \"игра\", \"футбол\"]).argmax()"
   ]
  },
  {
   "cell_type": "markdown",
   "metadata": {},
   "source": [
    "А вектор нужно смысла можно достать вот так:"
   ]
  },
  {
   "cell_type": "code",
   "execution_count": 10,
   "metadata": {},
   "outputs": [],
   "source": [
    "v = vm.sense_vector(\"мир\", 0)"
   ]
  },
  {
   "cell_type": "code",
   "execution_count": 11,
   "metadata": {},
   "outputs": [
    {
     "data": {
      "text/plain": [
       "array([ 0.21857241, -0.19681907, -0.5560458 , -0.07562307, -0.06614514,\n",
       "       -0.5298711 , -0.3350853 , -0.21661294, -0.17929274, -0.35121813,\n",
       "        0.01084073,  0.13938892,  0.37095338, -0.12841676,  0.48621222,\n",
       "       -0.3279031 ,  0.12087911, -0.10189174,  0.488112  ,  0.11160047,\n",
       "       -0.03435271, -0.02623419,  0.15724562, -0.5418932 ,  0.63560325,\n",
       "        0.37539992,  0.18900745,  0.17000622, -0.16006947, -0.31228983,\n",
       "        0.03106318, -0.3362801 ,  0.29733288,  0.15608653, -0.24047466,\n",
       "       -0.4088852 , -0.41123718, -0.56447005, -0.8364846 ,  0.25177887,\n",
       "        0.41088405, -0.5626779 , -0.03709328,  0.286673  , -0.14786933,\n",
       "       -0.19767037, -0.26824385,  0.11949118, -0.06241646,  0.10927774,\n",
       "        0.95082784,  0.62484556,  0.01240286, -0.05965324,  0.00185431,\n",
       "       -0.02804244,  0.35740525, -0.1488468 ,  0.3368631 , -0.6270757 ,\n",
       "       -0.5291102 ,  0.42989293, -0.00576099,  0.4400545 , -0.22105707,\n",
       "        0.03283279,  0.20690419, -0.39560303,  0.3642957 , -0.28891328,\n",
       "       -0.02838917, -0.3659283 ,  0.28569448, -0.32284343,  0.05692741,\n",
       "        0.23288576,  0.30674544,  0.09887697, -0.5434592 ,  0.10463778,\n",
       "       -0.3716888 ,  0.11321875,  0.2598624 ,  0.06829247, -0.21412559,\n",
       "       -0.23689283,  0.07353818,  0.5125179 ,  0.28862557,  0.10803823,\n",
       "        0.5034941 ,  0.17097184, -0.25795996,  0.18125087, -0.39542744,\n",
       "       -0.32066676,  0.11350033,  0.08285823,  0.06324972, -0.7054151 ],\n",
       "      dtype=float32)"
      ]
     },
     "execution_count": 11,
     "metadata": {},
     "output_type": "execute_result"
    }
   ],
   "source": [
    "v"
   ]
  },
  {
   "cell_type": "markdown",
   "metadata": {},
   "source": [
    "Как и с другими векторными моделями, проверять Адаграм нужно на реальной задаче."
   ]
  },
  {
   "cell_type": "markdown",
   "metadata": {},
   "source": [
    "## Задание № 1. Протестировать адаграм в определении перефразирования"
   ]
  },
  {
   "cell_type": "code",
   "execution_count": 13,
   "metadata": {},
   "outputs": [],
   "source": [
    "import pandas as pd\n",
    "corpus_xml = html.fromstring(open('paraphraser/paraphrases.xml', 'rb').read())\n",
    "texts_1 = []\n",
    "texts_2 = []\n",
    "classes = []\n",
    "\n",
    "for p in corpus_xml.xpath('//paraphrase'):\n",
    "    texts_1.append(p.xpath('./value[@name=\"text_1\"]/text()')[0])\n",
    "    texts_2.append(p.xpath('./value[@name=\"text_2\"]/text()')[0])\n",
    "    classes.append(p.xpath('./value[@name=\"class\"]/text()')[0])\n",
    "    \n",
    "data = pd.DataFrame({'text_1':texts_1, 'text_2':texts_2, 'label':classes})"
   ]
  },
  {
   "cell_type": "code",
   "execution_count": 14,
   "metadata": {},
   "outputs": [],
   "source": [
    "data['text_1_norm'] = data['text_1'].apply(normalize)\n",
    "data['text_2_norm'] = data['text_2'].apply(normalize)"
   ]
  },
  {
   "cell_type": "code",
   "execution_count": 15,
   "metadata": {},
   "outputs": [
    {
     "data": {
      "text/html": [
       "<div>\n",
       "<style scoped>\n",
       "    .dataframe tbody tr th:only-of-type {\n",
       "        vertical-align: middle;\n",
       "    }\n",
       "\n",
       "    .dataframe tbody tr th {\n",
       "        vertical-align: top;\n",
       "    }\n",
       "\n",
       "    .dataframe thead th {\n",
       "        text-align: right;\n",
       "    }\n",
       "</style>\n",
       "<table border=\"1\" class=\"dataframe\">\n",
       "  <thead>\n",
       "    <tr style=\"text-align: right;\">\n",
       "      <th></th>\n",
       "      <th>text_1</th>\n",
       "      <th>text_2</th>\n",
       "      <th>label</th>\n",
       "      <th>text_1_norm</th>\n",
       "      <th>text_2_norm</th>\n",
       "    </tr>\n",
       "  </thead>\n",
       "  <tbody>\n",
       "    <tr>\n",
       "      <th>0</th>\n",
       "      <td>Полицейским разрешат стрелять на поражение по ...</td>\n",
       "      <td>Полиции могут разрешить стрелять по хулиганам ...</td>\n",
       "      <td>0</td>\n",
       "      <td>[полицейский, разрешить, стрелять, поражение, ...</td>\n",
       "      <td>[полиция, мочь, разрешить, стрелять, хулиган, ...</td>\n",
       "    </tr>\n",
       "    <tr>\n",
       "      <th>1</th>\n",
       "      <td>Право полицейских на проникновение в жилище ре...</td>\n",
       "      <td>Правила внесудебного проникновения полицейских...</td>\n",
       "      <td>0</td>\n",
       "      <td>[право, полицейский, проникновение, жилища, ре...</td>\n",
       "      <td>[правило, внесудебный, проникновение, полицейс...</td>\n",
       "    </tr>\n",
       "    <tr>\n",
       "      <th>2</th>\n",
       "      <td>Президент Египта ввел чрезвычайное положение в...</td>\n",
       "      <td>Власти Египта угрожают ввести в стране чрезвыч...</td>\n",
       "      <td>0</td>\n",
       "      <td>[президент, египет, ввести, чрезвычайный, поло...</td>\n",
       "      <td>[власть, египет, угрожать, ввести, страна, чре...</td>\n",
       "    </tr>\n",
       "    <tr>\n",
       "      <th>3</th>\n",
       "      <td>Вернувшихся из Сирии россиян волнует вопрос тр...</td>\n",
       "      <td>Самолеты МЧС вывезут россиян из разрушенной Си...</td>\n",
       "      <td>-1</td>\n",
       "      <td>[вернуться, сирия, россиянин, волновать, вопро...</td>\n",
       "      <td>[самолёт, мчс, вывезти, россиянин, разрушить, ...</td>\n",
       "    </tr>\n",
       "    <tr>\n",
       "      <th>4</th>\n",
       "      <td>В Москву из Сирии вернулись 2 самолета МЧС с р...</td>\n",
       "      <td>Самолеты МЧС вывезут россиян из разрушенной Си...</td>\n",
       "      <td>0</td>\n",
       "      <td>[москва, сирия, вернуться, 2, самолёт, мчс, ро...</td>\n",
       "      <td>[самолёт, мчс, вывезти, россиянин, разрушить, ...</td>\n",
       "    </tr>\n",
       "  </tbody>\n",
       "</table>\n",
       "</div>"
      ],
      "text/plain": [
       "                                              text_1  \\\n",
       "0  Полицейским разрешат стрелять на поражение по ...   \n",
       "1  Право полицейских на проникновение в жилище ре...   \n",
       "2  Президент Египта ввел чрезвычайное положение в...   \n",
       "3  Вернувшихся из Сирии россиян волнует вопрос тр...   \n",
       "4  В Москву из Сирии вернулись 2 самолета МЧС с р...   \n",
       "\n",
       "                                              text_2 label  \\\n",
       "0  Полиции могут разрешить стрелять по хулиганам ...     0   \n",
       "1  Правила внесудебного проникновения полицейских...     0   \n",
       "2  Власти Египта угрожают ввести в стране чрезвыч...     0   \n",
       "3  Самолеты МЧС вывезут россиян из разрушенной Си...    -1   \n",
       "4  Самолеты МЧС вывезут россиян из разрушенной Си...     0   \n",
       "\n",
       "                                         text_1_norm  \\\n",
       "0  [полицейский, разрешить, стрелять, поражение, ...   \n",
       "1  [право, полицейский, проникновение, жилища, ре...   \n",
       "2  [президент, египет, ввести, чрезвычайный, поло...   \n",
       "3  [вернуться, сирия, россиянин, волновать, вопро...   \n",
       "4  [москва, сирия, вернуться, 2, самолёт, мчс, ро...   \n",
       "\n",
       "                                         text_2_norm  \n",
       "0  [полиция, мочь, разрешить, стрелять, хулиган, ...  \n",
       "1  [правило, внесудебный, проникновение, полицейс...  \n",
       "2  [власть, египет, угрожать, ввести, страна, чре...  \n",
       "3  [самолёт, мчс, вывезти, россиянин, разрушить, ...  \n",
       "4  [самолёт, мчс, вывезти, россиянин, разрушить, ...  "
      ]
     },
     "execution_count": 15,
     "metadata": {},
     "output_type": "execute_result"
    }
   ],
   "source": [
    "data[:5]"
   ]
  },
  {
   "cell_type": "markdown",
   "metadata": {},
   "source": [
    "Векторизуйте пары текстов с помощью Адаграма, обучите любую модель и оцените качество (кросс-валидацией). \n",
    "用adagram矢量化成对的文本，训练任意模型，交叉验证模型质量\n",
    "\n",
    "За основу возьмите код из предыдущего семинара/домашки, только в функции \n",
    "get_embedding вам нужно выбирать вектор нужного значения (импользуйте model.disambiguate и model.sense_vector). Отдельные векторы усредните как и в предыдущем семинаре.\n",
    "上节课的代码，在get_embedding函数中需要添加选需要的词义的代码（用model.disambiguate 和 model.sense_vector）。单义词按原来的方式取平均值"
   ]
  },
  {
   "cell_type": "markdown",
   "metadata": {},
   "source": [
    "Для вытаскивания пар (целевое слово, контекстые слова) вам нужно будет написать специальную функцию.\n",
    "编写函数提取对（目标词，上下文词）"
   ]
  },
  {
   "cell_type": "code",
   "execution_count": 24,
   "metadata": {},
   "outputs": [],
   "source": [
    "# проверяте на списке из чисел, чтобы было удобно дебажить\n",
    "# 检查数字列表以方便使用\n",
    "words = [10,1,2,3,4,5,6,7,8,9]\n",
    "\n",
    "def get_words_in_context(words, window=3):\n",
    "    \"\"\"Ваш код здесь \"\"\"\n",
    "\n",
    "    return words_in_context"
   ]
  },
  {
   "cell_type": "code",
   "execution_count": 62,
   "metadata": {},
   "outputs": [],
   "source": [
    "# words = [0,1,2,3,4,5,6,7,8,9]\n",
    "def get_words_in_context(words, window=3):\n",
    "    words_context = []\n",
    "    for i, w in enumerate(words):\n",
    "        context = [words[c] for c in range(i - window, i + window + 1) if c != i and  c >= 0 and c < len(words)]  \n",
    "        words_context.append([w, context])\n",
    "    return words_context"
   ]
  },
  {
   "cell_type": "code",
   "execution_count": 61,
   "metadata": {
    "scrolled": true
   },
   "outputs": [
    {
     "data": {
      "text/plain": [
       "[[0, [1, 2, 3]],\n",
       " [1, [0, 2, 3, 4]],\n",
       " [2, [0, 1, 3, 4, 5]],\n",
       " [3, [0, 1, 2, 4, 5, 6]],\n",
       " [4, [1, 2, 3, 5, 6, 7]],\n",
       " [5, [2, 3, 4, 6, 7, 8]],\n",
       " [6, [3, 4, 5, 7, 8, 9]],\n",
       " [7, [4, 5, 6, 8, 9]],\n",
       " [8, [5, 6, 7, 9]],\n",
       " [9, [6, 7, 8]]]"
      ]
     },
     "execution_count": 61,
     "metadata": {},
     "output_type": "execute_result"
    }
   ],
   "source": [
    "# работать должно вот так\n",
    "get_words_in_context(words)"
   ]
  },
  {
   "cell_type": "markdown",
   "metadata": {},
   "source": [
    "Когда получиться такой же результат, добавьте эту функцию в get_embedding. Проходите циклом по результату работы get_words_in_context и поставляйте каждый элемент-список в model.disambiguate.\n",
    "得到此结果后，将此函数添加到get_embedding。 遍历get_words_in_context的结果，并将每个列表的元素放入model.disambiguate中。"
   ]
  },
  {
   "cell_type": "code",
   "execution_count": 93,
   "metadata": {},
   "outputs": [],
   "source": [
    "def get_embedding_adagram(text, model, window, dim):\n",
    "    \n",
    "    word2context = get_words_in_context(text, window)\n",
    "    \n",
    "    \n",
    "    vectors = np.zeros((len(word2context), dim))\n",
    "    \n",
    "    for i, (word, context) in enumerate(word2context):\n",
    "        \n",
    "        try:\n",
    "            ### ваш код \n",
    "            vectors[i] = v\n",
    "        \n",
    "        except (KeyError, ValueError):\n",
    "            continue\n",
    "    \n",
    "    if vectors.any():\n",
    "        vector = np.average(vectors, axis=0)\n",
    "    else:\n",
    "        vector = np.zeros((dim))\n",
    "    \n",
    "    return vector\n",
    "        "
   ]
  },
  {
   "cell_type": "markdown",
   "metadata": {},
   "source": [
    "## WordNet"
   ]
  },
  {
   "cell_type": "markdown",
   "metadata": {},
   "source": [
    "Выводить значения просто из текста тяжело, поэтому можно попробовать воспользоваться словарями (wsi сделанное людьми). Для русского придется парсить сайты словарей, а для английского можно воспользоваться WordNet'ом (https://wordnet.princeton.edu/), который есть в nltk."
   ]
  },
  {
   "cell_type": "markdown",
   "metadata": {},
   "source": [
    "WordNet - это лексическая база данных, где существительные, прилагательные и глаголы английского сгруппированы по значению. К тому же между ними установлены связи (гипонимия, гипоронимия, миронимия и т.п.)."
   ]
  },
  {
   "cell_type": "code",
   "execution_count": 102,
   "metadata": {},
   "outputs": [
    {
     "name": "stdout",
     "output_type": "stream",
     "text": [
      "[nltk_data] Downloading package wordnet to\n",
      "[nltk_data]     /Users/mnefedov/nltk_data...\n",
      "[nltk_data]   Package wordnet is already up-to-date!\n"
     ]
    },
    {
     "data": {
      "text/plain": [
       "True"
      ]
     },
     "execution_count": 102,
     "metadata": {},
     "output_type": "execute_result"
    }
   ],
   "source": [
    "# запустите если не установлен ворднет\n",
    "import nltk\n",
    "nltk.download('wordnet')"
   ]
  },
  {
   "cell_type": "markdown",
   "metadata": {},
   "source": [
    "Группа синонимичных слов в WordNet'е называются синсеты. "
   ]
  },
  {
   "cell_type": "code",
   "execution_count": 103,
   "metadata": {},
   "outputs": [
    {
     "data": {
      "text/plain": [
       "117659"
      ]
     },
     "execution_count": 103,
     "metadata": {},
     "output_type": "execute_result"
    }
   ],
   "source": [
    "# всего синсетов\n",
    "len(list(wn.all_synsets()))"
   ]
  },
  {
   "cell_type": "markdown",
   "metadata": {},
   "source": [
    "Из них существительных:"
   ]
  },
  {
   "cell_type": "code",
   "execution_count": 104,
   "metadata": {},
   "outputs": [
    {
     "data": {
      "text/plain": [
       "82115"
      ]
     },
     "execution_count": 104,
     "metadata": {},
     "output_type": "execute_result"
    }
   ],
   "source": [
    "len(list(wn.all_synsets('n')))"
   ]
  },
  {
   "cell_type": "markdown",
   "metadata": {},
   "source": [
    "А глаголов:"
   ]
  },
  {
   "cell_type": "code",
   "execution_count": 105,
   "metadata": {},
   "outputs": [
    {
     "data": {
      "text/plain": [
       "13767"
      ]
     },
     "execution_count": 105,
     "metadata": {},
     "output_type": "execute_result"
    }
   ],
   "source": [
    "len(list(wn.all_synsets('v')))"
   ]
  },
  {
   "cell_type": "markdown",
   "metadata": {},
   "source": [
    "А прилагательных:"
   ]
  },
  {
   "cell_type": "code",
   "execution_count": 106,
   "metadata": {},
   "outputs": [
    {
     "data": {
      "text/plain": [
       "18156"
      ]
     },
     "execution_count": 106,
     "metadata": {},
     "output_type": "execute_result"
    }
   ],
   "source": [
    "len(list(wn.all_synsets('a')))"
   ]
  },
  {
   "cell_type": "markdown",
   "metadata": {},
   "source": [
    "Синсеты для слова можно достать вот так:"
   ]
  },
  {
   "cell_type": "code",
   "execution_count": 107,
   "metadata": {},
   "outputs": [
    {
     "data": {
      "text/plain": [
       "[Synset('car.n.01'),\n",
       " Synset('car.n.02'),\n",
       " Synset('car.n.03'),\n",
       " Synset('car.n.04'),\n",
       " Synset('cable_car.n.01')]"
      ]
     },
     "execution_count": 107,
     "metadata": {},
     "output_type": "execute_result"
    }
   ],
   "source": [
    "wn.synsets('car')"
   ]
  },
  {
   "cell_type": "markdown",
   "metadata": {},
   "source": [
    "Можно ограничить часть речи:"
   ]
  },
  {
   "cell_type": "code",
   "execution_count": 108,
   "metadata": {},
   "outputs": [
    {
     "data": {
      "text/plain": [
       "[Synset('travel.v.01'),\n",
       " Synset('go.v.02'),\n",
       " Synset('go.v.03'),\n",
       " Synset('become.v.01'),\n",
       " Synset('go.v.05'),\n",
       " Synset('run.v.05'),\n",
       " Synset('run.v.03'),\n",
       " Synset('proceed.v.04'),\n",
       " Synset('go.v.09'),\n",
       " Synset('go.v.10'),\n",
       " Synset('sound.v.02'),\n",
       " Synset('function.v.01'),\n",
       " Synset('run_low.v.01'),\n",
       " Synset('move.v.13'),\n",
       " Synset('survive.v.01'),\n",
       " Synset('go.v.16'),\n",
       " Synset('die.v.01'),\n",
       " Synset('belong.v.03'),\n",
       " Synset('go.v.19'),\n",
       " Synset('start.v.09'),\n",
       " Synset('move.v.15'),\n",
       " Synset('go.v.22'),\n",
       " Synset('go.v.23'),\n",
       " Synset('blend.v.02'),\n",
       " Synset('go.v.25'),\n",
       " Synset('fit.v.02'),\n",
       " Synset('rifle.v.02'),\n",
       " Synset('go.v.28'),\n",
       " Synset('plump.v.04'),\n",
       " Synset('fail.v.04')]"
      ]
     },
     "execution_count": 108,
     "metadata": {},
     "output_type": "execute_result"
    }
   ],
   "source": [
    "wn.synsets('go', pos='v')"
   ]
  },
  {
   "cell_type": "markdown",
   "metadata": {},
   "source": [
    "У многих из них есть определения:"
   ]
  },
  {
   "cell_type": "code",
   "execution_count": 109,
   "metadata": {},
   "outputs": [
    {
     "name": "stdout",
     "output_type": "stream",
     "text": [
      "day - time for Earth to make a complete rotation on its axis\n",
      "day - some point or period in time\n",
      "day - a day assigned to a particular purpose or observance\n",
      "day - the time after sunrise and before sunset while it is light outside\n",
      "day - the recurring hours when you are not sleeping (especially those when you are working)\n",
      "day - an era of existence or influence\n",
      "day - the period of time taken by a particular planet (e.g. Mars) to make a complete rotation on its axis\n",
      "day - the time for one complete rotation of the earth relative to a particular star, about 4 minutes shorter than a mean solar day\n",
      "day - a period of opportunity\n",
      "day - United States writer best known for his autobiographical works (1874-1935)\n"
     ]
    }
   ],
   "source": [
    "word = 'day'\n",
    "for synset in wn.synsets(word):\n",
    "    print(word + ' - ' + synset.definition())\n",
    "#     print()"
   ]
  },
  {
   "cell_type": "markdown",
   "metadata": {},
   "source": [
    "И даже примеры:"
   ]
  },
  {
   "cell_type": "code",
   "execution_count": 110,
   "metadata": {},
   "outputs": [
    {
     "name": "stdout",
     "output_type": "stream",
     "text": [
      "day - two days later they left | they put on two performances every day | there are 30,000 passengers per day\n",
      "day - it should arrive any day now | after that day she never trusted him again | those were the days | these days it is not unusual\n",
      "day - Mother's Day\n",
      "day - the dawn turned night into day | it is easier to make the repairs in the daytime\n",
      "day - my day began early this morning | it was a busy day on the stock exchange | she called it a day and went to bed\n",
      "day - in the day of the dinosaurs | in the days of the Roman Empire | in the days of sailing ships | he was a successful pianist in his day\n",
      "day - how long is a day on Jupiter?\n",
      "day - \n",
      "day - he deserves his day in court | every dog has his day\n",
      "day - \n"
     ]
    }
   ],
   "source": [
    "word = 'day'\n",
    "for synset in wn.synsets(word):\n",
    "    print(word + ' - ' + ' | '.join(synset.examples()))\n",
    "#     print()"
   ]
  },
  {
   "cell_type": "markdown",
   "metadata": {},
   "source": [
    "Посмотрим на связанные синсеты (гипонимы, антонимы, синонимы, меронимы)."
   ]
  },
  {
   "cell_type": "code",
   "execution_count": 111,
   "metadata": {},
   "outputs": [],
   "source": [
    "s = wn.synsets('car')[0]"
   ]
  },
  {
   "cell_type": "code",
   "execution_count": 112,
   "metadata": {
    "scrolled": true
   },
   "outputs": [
    {
     "data": {
      "text/plain": [
       "[Synset('accelerator.n.01'),\n",
       " Synset('air_bag.n.01'),\n",
       " Synset('auto_accessory.n.01'),\n",
       " Synset('automobile_engine.n.01'),\n",
       " Synset('automobile_horn.n.01'),\n",
       " Synset('buffer.n.06'),\n",
       " Synset('bumper.n.02'),\n",
       " Synset('car_door.n.01'),\n",
       " Synset('car_mirror.n.01'),\n",
       " Synset('car_seat.n.01'),\n",
       " Synset('car_window.n.01'),\n",
       " Synset('fender.n.01'),\n",
       " Synset('first_gear.n.01'),\n",
       " Synset('floorboard.n.02'),\n",
       " Synset('gasoline_engine.n.01'),\n",
       " Synset('glove_compartment.n.01'),\n",
       " Synset('grille.n.02'),\n",
       " Synset('high_gear.n.01'),\n",
       " Synset('hood.n.09'),\n",
       " Synset('luggage_compartment.n.01'),\n",
       " Synset('rear_window.n.01'),\n",
       " Synset('reverse.n.02'),\n",
       " Synset('roof.n.02'),\n",
       " Synset('running_board.n.01'),\n",
       " Synset('stabilizer_bar.n.01'),\n",
       " Synset('sunroof.n.01'),\n",
       " Synset('tail_fin.n.02'),\n",
       " Synset('third_gear.n.01'),\n",
       " Synset('window.n.02')]"
      ]
     },
     "execution_count": 112,
     "metadata": {},
     "output_type": "execute_result"
    }
   ],
   "source": [
    "s.part_meronyms()"
   ]
  },
  {
   "cell_type": "markdown",
   "metadata": {},
   "source": [
    "Антонимы только достаются не очень удобно:"
   ]
  },
  {
   "cell_type": "code",
   "execution_count": 113,
   "metadata": {},
   "outputs": [
    {
     "data": {
      "text/plain": [
       "[Lemma('bad.n.01.bad')]"
      ]
     },
     "execution_count": 113,
     "metadata": {},
     "output_type": "execute_result"
    }
   ],
   "source": [
    "wn.synsets('good')[2].lemmas()[0].antonyms()"
   ]
  },
  {
   "cell_type": "markdown",
   "metadata": {},
   "source": [
    "Можно засунуть это все в граф и нарисовать:"
   ]
  },
  {
   "cell_type": "code",
   "execution_count": 115,
   "metadata": {},
   "outputs": [
    {
     "name": "stdout",
     "output_type": "stream",
     "text": [
      "Collecting networkx\n",
      "  Downloading networkx-2.4-py3-none-any.whl (1.6 MB)\n",
      "\u001b[K     |████████████████████████████████| 1.6 MB 607 kB/s eta 0:00:01\n",
      "\u001b[?25hRequirement already satisfied: decorator>=4.3.0 in /Users/mnefedov/.pyenv/versions/3.6.5/lib/python3.6/site-packages (from networkx) (4.4.1)\n",
      "Installing collected packages: networkx\n",
      "Successfully installed networkx-2.4\n"
     ]
    }
   ],
   "source": [
    "!pip install networkx"
   ]
  },
  {
   "cell_type": "code",
   "execution_count": 116,
   "metadata": {},
   "outputs": [
    {
     "name": "stdout",
     "output_type": "stream",
     "text": [
      "[Synset('accelerator.n.01'), Synset('air_bag.n.01'), Synset('auto_accessory.n.01'), Synset('automobile_engine.n.01'), Synset('automobile_horn.n.01'), Synset('buffer.n.06'), Synset('bumper.n.02'), Synset('car_door.n.01'), Synset('car_mirror.n.01'), Synset('car_seat.n.01'), Synset('car_window.n.01'), Synset('fender.n.01'), Synset('first_gear.n.01'), Synset('floorboard.n.02'), Synset('gasoline_engine.n.01'), Synset('glove_compartment.n.01'), Synset('grille.n.02'), Synset('high_gear.n.01'), Synset('hood.n.09'), Synset('luggage_compartment.n.01'), Synset('rear_window.n.01'), Synset('reverse.n.02'), Synset('roof.n.02'), Synset('running_board.n.01'), Synset('stabilizer_bar.n.01'), Synset('sunroof.n.01'), Synset('tail_fin.n.02'), Synset('third_gear.n.01'), Synset('window.n.02')]\n"
     ]
    }
   ],
   "source": [
    "import networkx as nx\n",
    "\n",
    "words = wn.synsets('car')\n",
    "hyponyms = words[0].part_meronyms()\n",
    "print(hyponyms)\n",
    "\n",
    "G=nx.Graph()\n",
    "\n",
    "for w in hyponyms: \n",
    "    G.add_edge(words[0].name().split('.')[0],\n",
    "               w.name().split('.')[0], \n",
    "               weight=words[0].wup_similarity(w))"
   ]
  },
  {
   "cell_type": "code",
   "execution_count": 117,
   "metadata": {
    "scrolled": true
   },
   "outputs": [
    {
     "data": {
      "image/png": "[encoded data removed]",
      "text/plain": [
       "<Figure size 720x720 with 1 Axes>"
      ]
     },
     "metadata": {},
     "output_type": "display_data"
    }
   ],
   "source": [
    "plt.figure(figsize=(10,10))\n",
    "plt.axis('off')\n",
    "\n",
    "nx.draw_networkx(G,with_labels=True,node_size=2000,\n",
    "                 font_size=10,\n",
    "                 node_shape='s',\n",
    "                 alpha=0.9,\n",
    "                 node_color='red')\n"
   ]
  },
  {
   "cell_type": "markdown",
   "metadata": {},
   "source": [
    "Можно посчитать близость между синсетами (зависит от того, какой путь нужно пройти по этим связям от одного объекта до другого и есть ли он вообще)"
   ]
  },
  {
   "cell_type": "code",
   "execution_count": 118,
   "metadata": {},
   "outputs": [],
   "source": [
    "car = wn.synsets('car')[0]\n",
    "bike = wn.synsets('bike')[0]"
   ]
  },
  {
   "cell_type": "code",
   "execution_count": 119,
   "metadata": {},
   "outputs": [
    {
     "data": {
      "text/plain": [
       "0.3333333333333333"
      ]
     },
     "execution_count": 119,
     "metadata": {},
     "output_type": "execute_result"
    }
   ],
   "source": [
    "bike.path_similarity(car)"
   ]
  },
  {
   "cell_type": "markdown",
   "metadata": {},
   "source": [
    "Есть и другие метрики:"
   ]
  },
  {
   "cell_type": "code",
   "execution_count": 120,
   "metadata": {},
   "outputs": [
    {
     "data": {
      "text/plain": [
       "2.538973871058276"
      ]
     },
     "execution_count": 120,
     "metadata": {},
     "output_type": "execute_result"
    }
   ],
   "source": [
    "wn.lch_similarity(bike, car)"
   ]
  },
  {
   "cell_type": "code",
   "execution_count": 121,
   "metadata": {},
   "outputs": [
    {
     "data": {
      "text/plain": [
       "0.9166666666666666"
      ]
     },
     "execution_count": 121,
     "metadata": {},
     "output_type": "execute_result"
    }
   ],
   "source": [
    "wn.wup_similarity(bike, car)"
   ]
  },
  {
   "cell_type": "markdown",
   "metadata": {},
   "source": [
    "### Задание 2. Реализовать алгоритм Леска и проверить его на реальном датасете"
   ]
  },
  {
   "cell_type": "markdown",
   "metadata": {},
   "source": [
    "Ворднет можно использовать для дизамбигуации. Самый простой алгоритм дизамбигуации - алгоритм Леска. В нём нужное значение слова находится через пересечение слов контекста, в котором употреблено это слово, с определениями значений слова из ворднета. Значение с максимальным пересечением - нужное."
   ]
  },
  {
   "cell_type": "markdown",
   "metadata": {},
   "source": [
    "Реализуйте его"
   ]
  },
  {
   "cell_type": "code",
   "execution_count": 209,
   "metadata": {},
   "outputs": [],
   "source": [
    "def lesk( word, sentence ):\n",
    "    \"\"\"Ваш код тут\"\"\"\n",
    "    bestsense = 0\n",
    "    maxoverlap = 0\n",
    "    #ваш код\n",
    "    \n",
    "    for i, syns in enumerate(synsets):\n",
    "        # ваш код \n",
    "        \n",
    "        \n",
    "    return bestsense\n"
   ]
  },
  {
   "cell_type": "markdown",
   "metadata": {},
   "source": [
    "Работать функция должна как-то так:"
   ]
  },
  {
   "cell_type": "code",
   "execution_count": 216,
   "metadata": {},
   "outputs": [
    {
     "data": {
      "text/plain": [
       "1"
      ]
     },
     "execution_count": 216,
     "metadata": {},
     "output_type": "execute_result"
    }
   ],
   "source": [
    "# на вход подается элемент результата работы уже написанной вами функции get_words_in_context\n",
    "lesk('day', 'some point or period in time'.split()) # для примера контекст совпадает с одним из определений\n",
    "# а на выходе индекс подходящего синсета"
   ]
  },
  {
   "cell_type": "code",
   "execution_count": 217,
   "metadata": {},
   "outputs": [
    {
     "data": {
      "text/plain": [
       "'some point or period in time'"
      ]
     },
     "execution_count": 217,
     "metadata": {},
     "output_type": "execute_result"
    }
   ],
   "source": [
    "# с помощью этого индекса достаем нужный синсет\n",
    "wn.synsets('day')[1].definition()"
   ]
  },
  {
   "cell_type": "markdown",
   "metadata": {},
   "source": [
    "**Проверьте насколько хорошо работает такой метод на реальном датасете.** http://lcl.uniroma1.it/wsdeval/ - большой фреймворк для оценки WSD. Там много данных и я взял кусочек, чтобы не было проблем с памятью"
   ]
  },
  {
   "cell_type": "code",
   "execution_count": 25,
   "metadata": {},
   "outputs": [],
   "source": [
    "corpus_wsd = []\n",
    "corpus = open('corpus_wsd_50k.txt').read().split('\\n\\n')\n",
    "for sent in corpus:\n",
    "    corpus_wsd.append([s.split('\\t') for s in sent.split('\\n')])"
   ]
  },
  {
   "cell_type": "markdown",
   "metadata": {},
   "source": [
    "Корпус состоит из предложений, где у каждого слова три поля - значение, лемма и само слово. Значение пустое, когда слово однозначное, а у многозначных слов стоит тэг вида **'long%3:00:02::'** Это тэг wordnet'ного формата"
   ]
  },
  {
   "cell_type": "code",
   "execution_count": 26,
   "metadata": {},
   "outputs": [
    {
     "data": {
      "text/plain": [
       "[['', 'how', 'How'],\n",
       " ['long%3:00:02::', 'long', 'long'],\n",
       " ['', 'have', 'has'],\n",
       " ['', 'it', 'it'],\n",
       " ['be%2:42:03::', 'be', 'been'],\n",
       " ['', 'since', 'since'],\n",
       " ['', 'you', 'you'],\n",
       " ['review%2:31:00::', 'review', 'reviewed'],\n",
       " ['', 'the', 'the'],\n",
       " ['objective%1:09:00::', 'objective', 'objectives'],\n",
       " ['', 'of', 'of'],\n",
       " ['', 'you', 'your'],\n",
       " ['benefit%1:21:00::', 'benefit', 'benefit'],\n",
       " ['', 'and', 'and'],\n",
       " ['service%1:04:07::', 'service', 'service'],\n",
       " ['program%1:09:01::', 'program', 'program'],\n",
       " ['', '?', '?']]"
      ]
     },
     "execution_count": 26,
     "metadata": {},
     "output_type": "execute_result"
    }
   ],
   "source": [
    "corpus_wsd[0]"
   ]
  },
  {
   "cell_type": "markdown",
   "metadata": {},
   "source": [
    "Вот так можно достать соответствующий этому тэгу синсет:"
   ]
  },
  {
   "cell_type": "code",
   "execution_count": 220,
   "metadata": {},
   "outputs": [
    {
     "data": {
      "text/plain": [
       "Synset('long.a.01')"
      ]
     },
     "execution_count": 220,
     "metadata": {},
     "output_type": "execute_result"
    }
   ],
   "source": [
    "wn.lemma_from_key('long%3:00:02::').synset()"
   ]
  },
  {
   "cell_type": "markdown",
   "metadata": {},
   "source": [
    "Когда с помощью алгоритма Леска вы найдете подходящее значение, их можно просто сравнить"
   ]
  },
  {
   "cell_type": "code",
   "execution_count": 223,
   "metadata": {},
   "outputs": [
    {
     "data": {
      "text/plain": [
       "[Synset('hanker.v.01'),\n",
       " Synset('long.a.01'),\n",
       " Synset('long.a.02'),\n",
       " Synset('long.s.03'),\n",
       " Synset('retentive.a.01'),\n",
       " Synset('long.a.05'),\n",
       " Synset('long.a.06'),\n",
       " Synset('long.s.07'),\n",
       " Synset('farseeing.s.02'),\n",
       " Synset('long.s.09'),\n",
       " Synset('long.r.01'),\n",
       " Synset('long.r.02')]"
      ]
     },
     "execution_count": 223,
     "metadata": {},
     "output_type": "execute_result"
    }
   ],
   "source": [
    "wn.synsets('long')"
   ]
  },
  {
   "cell_type": "code",
   "execution_count": 226,
   "metadata": {},
   "outputs": [
    {
     "data": {
      "text/plain": [
       "True"
      ]
     },
     "execution_count": 226,
     "metadata": {},
     "output_type": "execute_result"
    }
   ],
   "source": [
    "# тут подходит второй синсет\n",
    "wn.synsets('long')[1] == wn.lemma_from_key('long%3:00:02::').synset()"
   ]
  },
  {
   "cell_type": "code",
   "execution_count": 227,
   "metadata": {},
   "outputs": [
    {
     "data": {
      "text/plain": [
       "[(Synset('hanker.v.01'), False),\n",
       " (Synset('long.a.01'), True),\n",
       " (Synset('long.a.02'), False),\n",
       " (Synset('long.s.03'), False),\n",
       " (Synset('retentive.a.01'), False),\n",
       " (Synset('long.a.05'), False),\n",
       " (Synset('long.a.06'), False),\n",
       " (Synset('long.s.07'), False),\n",
       " (Synset('farseeing.s.02'), False),\n",
       " (Synset('long.s.09'), False),\n",
       " (Synset('long.r.01'), False),\n",
       " (Synset('long.r.02'), False)]"
      ]
     },
     "execution_count": 227,
     "metadata": {},
     "output_type": "execute_result"
    }
   ],
   "source": [
    "# можно сравнить со всеми, чтобы убедиться\n",
    "[(syns, wn.synsets('long')[i] == wn.lemma_from_key('long%3:00:02::').synset()) \n",
    "  for i, syns in enumerate(wn.synsets('long'))]"
   ]
  },
  {
   "cell_type": "markdown",
   "metadata": {},
   "source": [
    "**Вам нужно для каждого многозначного слова (т.е. у него есть тэг в первом поле) с помощью алгоритма Леска предсказать нужный синсет и сравнить с правильным. Посчитайте процент правильных предсказаний (accuracy).**\n",
    "\n",
    "Если считается слишком долго, возьмите поменьше предложений (например, только тысячу)"
   ]
  },
  {
   "cell_type": "markdown",
   "metadata": {},
   "source": [
    "### Дополнительный балл"
   ]
  },
  {
   "cell_type": "markdown",
   "metadata": {},
   "source": [
    "Если хотите заработать дополнительный балл, попробуйте улучшить алгоритм Леска любым способом (например, использовать расстояние редактирования вместо пересечения или даже вставить машинное обучение)"
   ]
  }
 ],
 "metadata": {
  "kernelspec": {
   "display_name": "Python 3",
   "language": "python",
   "name": "python3"
  },
  "language_info": {
   "codemirror_mode": {
    "name": "ipython",
    "version": 3
   },
   "file_extension": ".py",
   "mimetype": "text/x-python",
   "name": "python",
   "nbconvert_exporter": "python",
   "pygments_lexer": "ipython3",
   "version": "3.7.6"
  }
 },
 "nbformat": 4,
 "nbformat_minor": 2
}
