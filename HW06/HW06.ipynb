{
 "cells": [
  {
   "cell_type": "markdown",
   "metadata": {},
   "source": [
    "1) 用 Word2vec 模型（自己训练的和rusvectores的）向量化文本，根据重述定义在所得向量上训练2个模型，找到最好的模型。\n",
    "\n",
    "Обучите 2 модели по определению перефразирования на получившихся векторах\n",
    "Word2Vec要在另外的库训练（不在平行句子上），可以选用课堂上的数据或其它的\n",
    "\n",
    "要用cross-validation评价模型，кросс-валидации! Метрика - f1\n",
    "\n",
    "2) 分别用5种方法训练成对的文本向量：SVD, NMF, Word2Vec (自己的和rucvectores的), Fastext. \n",
    "数据库的每行应有五对向量。在每对向量之间计算余弦相似度（一对5个） \n",
    "\n",
    "通过这些相似度建立训练样本。在此样本上训练任何一个模型（Logreg，Random Forest或其他），\n",
    "并评估cross-validation(交叉验证)的质量（使用micro-f1-measure）。\n",
    "尝试通过更改向量化时的参数来改进指标。\n",
    "\n",
    "SVD 和 NMF 直接应用于数据,  w2w 和 fastext 在其他库训练（与第一问一样） \n",
    "\n",
    "Выложите код к себе на гитхаб и вставьте ссылку в поле ниже (в тетрадке должны быть показатели метрик и ваши комментарии).\n"
   ]
  },
  {
   "cell_type": "code",
   "execution_count": 2,
   "metadata": {},
   "outputs": [],
   "source": [
    "import pandas as pd\n",
    "from lxml import html\n",
    "import numpy as np\n",
    "from tqdm import tqdm\n",
    "from matplotlib import pyplot as plt\n",
    "from sklearn.decomposition import TruncatedSVD, NMF, PCA\n",
    "from sklearn.manifold import TSNE\n",
    "from sklearn.feature_extraction.text import TfidfVectorizer, CountVectorizer\n",
    "from sklearn.metrics.pairwise import cosine_distances\n",
    "from sklearn.ensemble import RandomForestClassifier\n",
    "import gensim\n",
    "from sklearn.cluster import MiniBatchKMeans\n",
    "from sklearn.linear_model import LogisticRegression\n",
    "from sklearn.model_selection import train_test_split\n",
    "from sklearn.metrics import classification_report\n",
    "from collections import Counter,defaultdict\n",
    "from string import punctuation\n",
    "import os\n",
    "from nltk.corpus import stopwords\n",
    "from pymorphy2 import MorphAnalyzer\n",
    "%matplotlib inline\n",
    "\n",
    "morph = MorphAnalyzer()\n",
    "punct = punctuation+'«»—…“”*№–'\n",
    "stops = set(stopwords.words('russian'))"
   ]
  },
  {
   "cell_type": "code",
   "execution_count": 3,
   "metadata": {},
   "outputs": [],
   "source": [
    "def normalize(text):\n",
    "    \n",
    "    words = [word.strip(punct) for word in text.lower().split()]\n",
    "    words = [morph.parse(word)[0].normal_form for word in words if word and word not in stops]\n",
    "\n",
    "    return ' '.join(words)\n",
    "\n",
    "def tokenize(text):\n",
    "    \n",
    "    words = [word.strip(punct) for word in text.lower().split()]\n",
    "\n",
    "    return ' '.join(words)"
   ]
  },
  {
   "cell_type": "markdown",
   "metadata": {},
   "source": [
    "## corpus_hum"
   ]
  },
  {
   "cell_type": "code",
   "execution_count": 5,
   "metadata": {},
   "outputs": [],
   "source": [
    "data = open('corpus_hum.txt', encoding=\"utf-8\").read().splitlines()\n",
    "data_norm = [normalize(text) for text in data]\n",
    "data_norm = [text for text in data_norm if text]"
   ]
  },
  {
   "cell_type": "code",
   "execution_count": 83,
   "metadata": {},
   "outputs": [
    {
     "data": {
      "text/plain": [
       "['абай василий васо иван 1900–2001 русский лингвист родиться 2 15 декабрь 1900 с.коби тифлисский губерния ныне грузия 1925 окончить факультет общественный наука ленинградский университет 1928 аспирантура 1928–1930 сотрудник кавказский историко-археологический институт ан ссср 1930 полвека работать яфетический институт затем институт язык мышление институт языкознание ан ссср ленинград 1950 москва доктор филологический наука 1962 профессор 1969 лауреат государственный премия ссср 1981 почётный член азиатский королевский общество великобритания ирландия 1966 член-корреспондент финно-угорский общество хельсинки 1973 умереть абай москва 18 март 2001',\n",
       " 'также тема']"
      ]
     },
     "execution_count": 83,
     "metadata": {},
     "output_type": "execute_result"
    }
   ],
   "source": [
    "data_norm[:2]"
   ]
  },
  {
   "cell_type": "code",
   "execution_count": 7,
   "metadata": {},
   "outputs": [
    {
     "data": {
      "text/plain": [
       "115082"
      ]
     },
     "execution_count": 7,
     "metadata": {},
     "output_type": "execute_result"
    }
   ],
   "source": [
    "len(data_norm)"
   ]
  },
  {
   "cell_type": "code",
   "execution_count": 8,
   "metadata": {},
   "outputs": [],
   "source": [
    "cv = CountVectorizer(min_df=3, max_df=0.4, max_features=1000)\n",
    "X = cv.fit_transform(data_norm)"
   ]
  },
  {
   "cell_type": "code",
   "execution_count": 9,
   "metadata": {},
   "outputs": [
    {
     "data": {
      "text/plain": [
       "(115082, 1000)"
      ]
     },
     "execution_count": 9,
     "metadata": {},
     "output_type": "execute_result"
    }
   ],
   "source": [
    "X.shape"
   ]
  },
  {
   "cell_type": "markdown",
   "metadata": {},
   "source": [
    "### SVD & NMF"
   ]
  },
  {
   "cell_type": "code",
   "execution_count": 10,
   "metadata": {},
   "outputs": [],
   "source": [
    "svd = TruncatedSVD(4)\n",
    "svd.fit(X)\n",
    "tsne = TSNE(2).fit_transform(svd.components_.T)"
   ]
  },
  {
   "cell_type": "code",
   "execution_count": 11,
   "metadata": {},
   "outputs": [],
   "source": [
    "id2word = {i:w for i,w in enumerate(cv.get_feature_names())}\n",
    "word2id = {w:i for i,w in id2word.items()}"
   ]
  },
  {
   "cell_type": "code",
   "execution_count": 13,
   "metadata": {},
   "outputs": [
    {
     "data": {
      "text/plain": [
       "NMF(alpha=0.0, beta_loss='frobenius', init=None, l1_ratio=0.0, max_iter=200,\n",
       "    n_components=50, random_state=None, shuffle=False, solver='cd', tol=0.0001,\n",
       "    verbose=0)"
      ]
     },
     "execution_count": 13,
     "metadata": {},
     "output_type": "execute_result"
    }
   ],
   "source": [
    "nmf = NMF(50)\n",
    "nmf.fit(X)"
   ]
  },
  {
   "cell_type": "code",
   "execution_count": 14,
   "metadata": {},
   "outputs": [
    {
     "data": {
      "text/plain": [
       "TruncatedSVD(algorithm='randomized', n_components=50, n_iter=5,\n",
       "             random_state=None, tol=0.0)"
      ]
     },
     "execution_count": 14,
     "metadata": {},
     "output_type": "execute_result"
    }
   ],
   "source": [
    "svd = TruncatedSVD(50)\n",
    "svd.fit(X)"
   ]
  },
  {
   "cell_type": "code",
   "execution_count": 15,
   "metadata": {},
   "outputs": [],
   "source": [
    "id2vec_svd = nmf.components_.T"
   ]
  },
  {
   "cell_type": "code",
   "execution_count": 16,
   "metadata": {},
   "outputs": [],
   "source": [
    "id2vec_nmf = svd.components_.T"
   ]
  },
  {
   "cell_type": "code",
   "execution_count": 17,
   "metadata": {},
   "outputs": [],
   "source": [
    "def most_similar(word, id2vec):\n",
    "    similar = [id2word[i] for i in cosine_distances(id2vec[word2id[word]].reshape(1, -1), id2vec).argsort()[0][:10]]\n",
    "    return similar"
   ]
  },
  {
   "cell_type": "code",
   "execution_count": 24,
   "metadata": {
    "collapsed": true
   },
   "outputs": [
    {
     "name": "stdout",
     "output_type": "stream",
     "text": [
      "Init 1/3 with method: k-means++\n",
      "Inertia for init 1/3: 7.847001\n",
      "Init 2/3 with method: k-means++\n",
      "Inertia for init 2/3: 9.277354\n",
      "Init 3/3 with method: k-means++\n",
      "Inertia for init 3/3: 7.719683\n",
      "Minibatch iteration 1/1000: mean batch inertia: 0.026884, ewa inertia: 0.026884 \n",
      "Minibatch iteration 2/1000: mean batch inertia: 0.035086, ewa inertia: 0.028523 \n",
      "Minibatch iteration 3/1000: mean batch inertia: 0.049890, ewa inertia: 0.032792 \n",
      "Minibatch iteration 4/1000: mean batch inertia: 0.038418, ewa inertia: 0.033916 \n",
      "Minibatch iteration 5/1000: mean batch inertia: 0.021644, ewa inertia: 0.031464 \n",
      "Minibatch iteration 6/1000: mean batch inertia: 0.020122, ewa inertia: 0.029198 \n",
      "Minibatch iteration 7/1000: mean batch inertia: 0.050604, ewa inertia: 0.033475 \n",
      "Minibatch iteration 8/1000: mean batch inertia: 0.029602, ewa inertia: 0.032701 \n",
      "Minibatch iteration 9/1000: mean batch inertia: 0.033506, ewa inertia: 0.032862 \n",
      "[MiniBatchKMeans] Reassigning 29 cluster centers.\n",
      "Minibatch iteration 10/1000: mean batch inertia: 0.036695, ewa inertia: 0.033628 \n",
      "Minibatch iteration 11/1000: mean batch inertia: 0.030024, ewa inertia: 0.032908 \n",
      "Minibatch iteration 12/1000: mean batch inertia: 0.020258, ewa inertia: 0.030380 \n",
      "Minibatch iteration 13/1000: mean batch inertia: 0.052549, ewa inertia: 0.034810 \n",
      "Minibatch iteration 14/1000: mean batch inertia: 0.028431, ewa inertia: 0.033535 \n",
      "Minibatch iteration 15/1000: mean batch inertia: 0.044391, ewa inertia: 0.035704 \n",
      "Minibatch iteration 16/1000: mean batch inertia: 0.036144, ewa inertia: 0.035792 \n",
      "Minibatch iteration 17/1000: mean batch inertia: 0.046645, ewa inertia: 0.037960 \n",
      "Minibatch iteration 18/1000: mean batch inertia: 0.064545, ewa inertia: 0.043272 \n",
      "Minibatch iteration 19/1000: mean batch inertia: 0.050842, ewa inertia: 0.044784 \n",
      "Minibatch iteration 20/1000: mean batch inertia: 0.031202, ewa inertia: 0.042071 \n",
      "Minibatch iteration 21/1000: mean batch inertia: 0.043927, ewa inertia: 0.042442 \n",
      "Minibatch iteration 22/1000: mean batch inertia: 0.028096, ewa inertia: 0.039575 \n",
      "Minibatch iteration 23/1000: mean batch inertia: 0.028174, ewa inertia: 0.037297 \n",
      "Minibatch iteration 24/1000: mean batch inertia: 0.020776, ewa inertia: 0.033996 \n",
      "Minibatch iteration 25/1000: mean batch inertia: 0.032009, ewa inertia: 0.033599 \n",
      "Minibatch iteration 26/1000: mean batch inertia: 0.033714, ewa inertia: 0.033622 \n",
      "Minibatch iteration 27/1000: mean batch inertia: 0.047918, ewa inertia: 0.036479 \n",
      "Minibatch iteration 28/1000: mean batch inertia: 0.027452, ewa inertia: 0.034675 \n",
      "Minibatch iteration 29/1000: mean batch inertia: 0.019918, ewa inertia: 0.031727 \n",
      "Minibatch iteration 30/1000: mean batch inertia: 0.037243, ewa inertia: 0.032829 \n",
      "Minibatch iteration 31/1000: mean batch inertia: 0.052015, ewa inertia: 0.036662 \n",
      "Minibatch iteration 32/1000: mean batch inertia: 0.060262, ewa inertia: 0.041378 \n",
      "Minibatch iteration 33/1000: mean batch inertia: 0.026971, ewa inertia: 0.038499 \n",
      "Minibatch iteration 34/1000: mean batch inertia: 0.054408, ewa inertia: 0.041678 \n",
      "Minibatch iteration 35/1000: mean batch inertia: 0.040816, ewa inertia: 0.041506 \n",
      "Minibatch iteration 36/1000: mean batch inertia: 0.031449, ewa inertia: 0.039496 \n",
      "Minibatch iteration 37/1000: mean batch inertia: 0.047817, ewa inertia: 0.041159 \n",
      "Minibatch iteration 38/1000: mean batch inertia: 0.034593, ewa inertia: 0.039847 \n",
      "Minibatch iteration 39/1000: mean batch inertia: 0.039976, ewa inertia: 0.039873 \n",
      "Minibatch iteration 40/1000: mean batch inertia: 0.037427, ewa inertia: 0.039384 \n",
      "Minibatch iteration 41/1000: mean batch inertia: 0.064891, ewa inertia: 0.044480 \n",
      "Minibatch iteration 42/1000: mean batch inertia: 0.033794, ewa inertia: 0.042345 \n",
      "Minibatch iteration 43/1000: mean batch inertia: 0.021668, ewa inertia: 0.038214 \n",
      "Minibatch iteration 44/1000: mean batch inertia: 0.059458, ewa inertia: 0.042459 \n",
      "Minibatch iteration 45/1000: mean batch inertia: 0.067517, ewa inertia: 0.047465 \n",
      "Minibatch iteration 46/1000: mean batch inertia: 0.047294, ewa inertia: 0.047431 \n",
      "Minibatch iteration 47/1000: mean batch inertia: 0.039449, ewa inertia: 0.045836 \n",
      "Minibatch iteration 48/1000: mean batch inertia: 0.043885, ewa inertia: 0.045446 \n",
      "Minibatch iteration 49/1000: mean batch inertia: 0.020453, ewa inertia: 0.040453 \n",
      "Minibatch iteration 50/1000: mean batch inertia: 0.052126, ewa inertia: 0.042785 \n",
      "Minibatch iteration 51/1000: mean batch inertia: 0.045934, ewa inertia: 0.043414 \n",
      "Minibatch iteration 52/1000: mean batch inertia: 0.059412, ewa inertia: 0.046611 \n",
      "Minibatch iteration 53/1000: mean batch inertia: 0.016694, ewa inertia: 0.040633 \n",
      "Minibatch iteration 54/1000: mean batch inertia: 0.021949, ewa inertia: 0.036900 \n",
      "Minibatch iteration 55/1000: mean batch inertia: 0.049181, ewa inertia: 0.039354 \n",
      "Minibatch iteration 56/1000: mean batch inertia: 0.041561, ewa inertia: 0.039795 \n",
      "Minibatch iteration 57/1000: mean batch inertia: 0.030368, ewa inertia: 0.037911 \n",
      "Minibatch iteration 58/1000: mean batch inertia: 0.044335, ewa inertia: 0.039195 \n",
      "Minibatch iteration 59/1000: mean batch inertia: 0.021793, ewa inertia: 0.035718 \n",
      "Minibatch iteration 60/1000: mean batch inertia: 0.037895, ewa inertia: 0.036153 \n",
      "Minibatch iteration 61/1000: mean batch inertia: 0.062380, ewa inertia: 0.041393 \n",
      "Minibatch iteration 62/1000: mean batch inertia: 0.032460, ewa inertia: 0.039608 \n",
      "Minibatch iteration 63/1000: mean batch inertia: 0.027582, ewa inertia: 0.037205 \n",
      "Minibatch iteration 64/1000: mean batch inertia: 0.068760, ewa inertia: 0.043510 \n",
      "Minibatch iteration 65/1000: mean batch inertia: 0.043212, ewa inertia: 0.043450 \n",
      "Minibatch iteration 66/1000: mean batch inertia: 0.052295, ewa inertia: 0.045218 \n",
      "Minibatch iteration 67/1000: mean batch inertia: 0.038334, ewa inertia: 0.043842 \n",
      "Minibatch iteration 68/1000: mean batch inertia: 0.034960, ewa inertia: 0.042068 \n",
      "Minibatch iteration 69/1000: mean batch inertia: 0.037974, ewa inertia: 0.041250 \n",
      "Minibatch iteration 70/1000: mean batch inertia: 0.026697, ewa inertia: 0.038342 \n",
      "Minibatch iteration 71/1000: mean batch inertia: 0.028021, ewa inertia: 0.036280 \n",
      "Minibatch iteration 72/1000: mean batch inertia: 0.030191, ewa inertia: 0.035063 \n",
      "Minibatch iteration 73/1000: mean batch inertia: 0.054075, ewa inertia: 0.038862 \n",
      "Minibatch iteration 74/1000: mean batch inertia: 0.025054, ewa inertia: 0.036103 \n",
      "Minibatch iteration 75/1000: mean batch inertia: 0.039130, ewa inertia: 0.036708 \n",
      "Minibatch iteration 76/1000: mean batch inertia: 0.045617, ewa inertia: 0.038488 \n",
      "Minibatch iteration 77/1000: mean batch inertia: 0.066768, ewa inertia: 0.044138 \n",
      "Minibatch iteration 78/1000: mean batch inertia: 0.011918, ewa inertia: 0.037701 \n",
      "Minibatch iteration 79/1000: mean batch inertia: 0.042969, ewa inertia: 0.038753 \n",
      "Minibatch iteration 80/1000: mean batch inertia: 0.020002, ewa inertia: 0.035007 \n",
      "Minibatch iteration 81/1000: mean batch inertia: 0.020364, ewa inertia: 0.032081 \n",
      "Minibatch iteration 82/1000: mean batch inertia: 0.030725, ewa inertia: 0.031810 \n",
      "Minibatch iteration 83/1000: mean batch inertia: 0.045525, ewa inertia: 0.034551 \n",
      "Minibatch iteration 84/1000: mean batch inertia: 0.039995, ewa inertia: 0.035638 \n",
      "Minibatch iteration 85/1000: mean batch inertia: 0.069070, ewa inertia: 0.042318 \n",
      "Minibatch iteration 86/1000: mean batch inertia: 0.042284, ewa inertia: 0.042311 \n",
      "Minibatch iteration 87/1000: mean batch inertia: 0.022700, ewa inertia: 0.038393 \n",
      "Minibatch iteration 88/1000: mean batch inertia: 0.026598, ewa inertia: 0.036036 \n",
      "Minibatch iteration 89/1000: mean batch inertia: 0.072086, ewa inertia: 0.043239 \n",
      "Minibatch iteration 90/1000: mean batch inertia: 0.030530, ewa inertia: 0.040700 \n",
      "Minibatch iteration 91/1000: mean batch inertia: 0.029269, ewa inertia: 0.038416 \n",
      "Minibatch iteration 92/1000: mean batch inertia: 0.024956, ewa inertia: 0.035727 \n",
      "Minibatch iteration 93/1000: mean batch inertia: 0.040954, ewa inertia: 0.036771 \n",
      "Minibatch iteration 94/1000: mean batch inertia: 0.043092, ewa inertia: 0.038034 \n",
      "Minibatch iteration 95/1000: mean batch inertia: 0.037523, ewa inertia: 0.037932 \n",
      "Minibatch iteration 96/1000: mean batch inertia: 0.026304, ewa inertia: 0.035609 \n",
      "Minibatch iteration 97/1000: mean batch inertia: 0.031982, ewa inertia: 0.034884 \n",
      "Minibatch iteration 98/1000: mean batch inertia: 0.043349, ewa inertia: 0.036576 \n",
      "Minibatch iteration 99/1000: mean batch inertia: 0.028306, ewa inertia: 0.034923 \n",
      "Minibatch iteration 100/1000: mean batch inertia: 0.025127, ewa inertia: 0.032966 \n",
      "Minibatch iteration 101/1000: mean batch inertia: 0.038977, ewa inertia: 0.034167 \n",
      "Converged (lack of improvement in inertia) at iteration 101/1000\n",
      "Computing label assignment and total inertia\n"
     ]
    },
    {
     "data": {
      "text/plain": [
       "MiniBatchKMeans(batch_size=100, compute_labels=True, init='k-means++',\n",
       "                init_size=None, max_iter=100, max_no_improvement=100,\n",
       "                n_clusters=30, n_init=3, random_state=None,\n",
       "                reassignment_ratio=0.4, tol=0.0, verbose=1)"
      ]
     },
     "execution_count": 24,
     "metadata": {},
     "output_type": "execute_result"
    }
   ],
   "source": [
    "cluster_svd = MiniBatchKMeans(30, n_init=3, verbose=1, max_no_improvement=100, reassignment_ratio=0.4)\n",
    "cluster_svd.fit(svd.components_.T)"
   ]
  },
  {
   "cell_type": "code",
   "execution_count": 25,
   "metadata": {},
   "outputs": [],
   "source": [
    "cls_svd = defaultdict(list)\n",
    "\n",
    "for i, cl in enumerate(cluster_svd.labels_):\n",
    "    cls_svd[cl].append(id2word[i])\n",
    "\n",
    "f = open('cluster_svd.txt', 'w')\n",
    "for cl in cls_svd:\n",
    "    f.write('### '+ str(cl) + ' ###\\n')\n",
    "    f.write('\\n'.join(cls_svd[cl]))\n",
    "    f.write('\\n\\n')\n",
    "f.close()"
   ]
  },
  {
   "cell_type": "code",
   "execution_count": 26,
   "metadata": {
    "collapsed": true
   },
   "outputs": [
    {
     "name": "stdout",
     "output_type": "stream",
     "text": [
      "Init 1/3 with method: k-means++\n",
      "Inertia for init 1/3: 1934.028094\n",
      "Init 2/3 with method: k-means++\n",
      "Inertia for init 2/3: 963.635824\n",
      "Init 3/3 with method: k-means++\n",
      "Inertia for init 3/3: 1376.979588\n",
      "Minibatch iteration 1/1000: mean batch inertia: 16.652668, ewa inertia: 16.652668 \n",
      "Minibatch iteration 2/1000: mean batch inertia: 13.113488, ewa inertia: 15.945539 \n",
      "Minibatch iteration 3/1000: mean batch inertia: 7.904567, ewa inertia: 14.338951 \n",
      "Minibatch iteration 4/1000: mean batch inertia: 9.932406, ewa inertia: 13.458523 \n",
      "Minibatch iteration 5/1000: mean batch inertia: 7.350332, ewa inertia: 12.238105 \n",
      "Minibatch iteration 6/1000: mean batch inertia: 12.477005, ewa inertia: 12.285837 \n",
      "Minibatch iteration 7/1000: mean batch inertia: 3.562819, ewa inertia: 10.542976 \n",
      "Minibatch iteration 8/1000: mean batch inertia: 8.969881, ewa inertia: 10.228672 \n",
      "Minibatch iteration 9/1000: mean batch inertia: 10.864403, ewa inertia: 10.355691 \n",
      "[MiniBatchKMeans] Reassigning 39 cluster centers.\n",
      "Minibatch iteration 10/1000: mean batch inertia: 8.723543, ewa inertia: 10.029587 \n",
      "Minibatch iteration 11/1000: mean batch inertia: 13.269987, ewa inertia: 10.677020 \n",
      "Minibatch iteration 12/1000: mean batch inertia: 9.358248, ewa inertia: 10.413529 \n",
      "Minibatch iteration 13/1000: mean batch inertia: 10.970044, ewa inertia: 10.524721 \n",
      "Minibatch iteration 14/1000: mean batch inertia: 38.145811, ewa inertia: 16.043420 \n",
      "Minibatch iteration 15/1000: mean batch inertia: 43.078711, ewa inertia: 21.445077 \n",
      "Minibatch iteration 16/1000: mean batch inertia: 18.447480, ewa inertia: 20.846156 \n",
      "Minibatch iteration 17/1000: mean batch inertia: 34.727649, ewa inertia: 23.619681 \n",
      "Minibatch iteration 18/1000: mean batch inertia: 7.142399, ewa inertia: 20.327517 \n",
      "Minibatch iteration 19/1000: mean batch inertia: 8.527507, ewa inertia: 17.969873 \n",
      "Minibatch iteration 20/1000: mean batch inertia: 11.664777, ewa inertia: 16.710113 \n",
      "Minibatch iteration 21/1000: mean batch inertia: 9.433622, ewa inertia: 15.256269 \n",
      "Minibatch iteration 22/1000: mean batch inertia: 24.552924, ewa inertia: 17.113742 \n",
      "Minibatch iteration 23/1000: mean batch inertia: 30.129436, ewa inertia: 19.714281 \n",
      "Minibatch iteration 24/1000: mean batch inertia: 11.832603, ewa inertia: 18.139520 \n",
      "Minibatch iteration 25/1000: mean batch inertia: 4.381189, ewa inertia: 15.390603 \n",
      "Minibatch iteration 26/1000: mean batch inertia: 38.779765, ewa inertia: 20.063762 \n",
      "Minibatch iteration 27/1000: mean batch inertia: 59.582959, ewa inertia: 27.959705 \n",
      "Minibatch iteration 28/1000: mean batch inertia: 29.439840, ewa inertia: 28.255437 \n",
      "Minibatch iteration 29/1000: mean batch inertia: 10.458706, ewa inertia: 24.699646 \n",
      "Minibatch iteration 30/1000: mean batch inertia: 15.848789, ewa inertia: 22.931243 \n",
      "Minibatch iteration 31/1000: mean batch inertia: 10.333598, ewa inertia: 20.414231 \n",
      "Minibatch iteration 32/1000: mean batch inertia: 9.679847, ewa inertia: 18.269499 \n",
      "Minibatch iteration 33/1000: mean batch inertia: 4.279606, ewa inertia: 15.474316 \n",
      "Minibatch iteration 34/1000: mean batch inertia: 18.732911, ewa inertia: 16.125384 \n",
      "Minibatch iteration 35/1000: mean batch inertia: 13.854850, ewa inertia: 15.671731 \n",
      "Minibatch iteration 36/1000: mean batch inertia: 11.946163, ewa inertia: 14.927361 \n",
      "Minibatch iteration 37/1000: mean batch inertia: 45.178724, ewa inertia: 20.971590 \n",
      "Minibatch iteration 38/1000: mean batch inertia: 10.250475, ewa inertia: 18.829509 \n",
      "Minibatch iteration 39/1000: mean batch inertia: 2.157441, ewa inertia: 15.498426 \n",
      "Minibatch iteration 40/1000: mean batch inertia: 11.049436, ewa inertia: 14.609517 \n",
      "Minibatch iteration 41/1000: mean batch inertia: 9.173764, ewa inertia: 13.523453 \n",
      "Minibatch iteration 42/1000: mean batch inertia: 15.741832, ewa inertia: 13.966685 \n",
      "Minibatch iteration 43/1000: mean batch inertia: 9.941431, ewa inertia: 13.162439 \n",
      "Minibatch iteration 44/1000: mean batch inertia: 10.730128, ewa inertia: 12.676462 \n",
      "Minibatch iteration 45/1000: mean batch inertia: 37.517093, ewa inertia: 17.639625 \n",
      "Minibatch iteration 46/1000: mean batch inertia: 7.159338, ewa inertia: 15.545662 \n",
      "Minibatch iteration 47/1000: mean batch inertia: 18.616262, ewa inertia: 16.159168 \n",
      "Minibatch iteration 48/1000: mean batch inertia: 9.234628, ewa inertia: 14.775644 \n",
      "Minibatch iteration 49/1000: mean batch inertia: 10.260243, ewa inertia: 13.873466 \n",
      "Minibatch iteration 50/1000: mean batch inertia: 16.240268, ewa inertia: 14.346353 \n",
      "Minibatch iteration 51/1000: mean batch inertia: 17.933569, ewa inertia: 15.063080 \n",
      "Minibatch iteration 52/1000: mean batch inertia: 16.264145, ewa inertia: 15.303053 \n",
      "Minibatch iteration 53/1000: mean batch inertia: 12.603595, ewa inertia: 14.763701 \n",
      "Minibatch iteration 54/1000: mean batch inertia: 14.834937, ewa inertia: 14.777934 \n",
      "Minibatch iteration 55/1000: mean batch inertia: 17.043744, ewa inertia: 15.230643 \n",
      "Minibatch iteration 56/1000: mean batch inertia: 53.612203, ewa inertia: 22.899287 \n",
      "Minibatch iteration 57/1000: mean batch inertia: 26.091922, ewa inertia: 23.537176 \n",
      "Minibatch iteration 58/1000: mean batch inertia: 20.427416, ewa inertia: 22.915845 \n",
      "Minibatch iteration 59/1000: mean batch inertia: 28.022548, ewa inertia: 23.936166 \n",
      "Minibatch iteration 60/1000: mean batch inertia: 12.425056, ewa inertia: 21.636244 \n",
      "Minibatch iteration 61/1000: mean batch inertia: 13.943225, ewa inertia: 20.099177 \n",
      "Minibatch iteration 62/1000: mean batch inertia: 9.749847, ewa inertia: 18.031379 \n",
      "Minibatch iteration 63/1000: mean batch inertia: 8.385556, ewa inertia: 16.104141 \n",
      "Minibatch iteration 64/1000: mean batch inertia: 11.016040, ewa inertia: 15.087538 \n",
      "Minibatch iteration 65/1000: mean batch inertia: 11.498876, ewa inertia: 14.370522 \n",
      "Minibatch iteration 66/1000: mean batch inertia: 13.074338, ewa inertia: 14.111545 \n",
      "Minibatch iteration 67/1000: mean batch inertia: 18.017167, ewa inertia: 14.891889 \n",
      "Minibatch iteration 68/1000: mean batch inertia: 21.417100, ewa inertia: 16.195627 \n",
      "Minibatch iteration 69/1000: mean batch inertia: 14.253031, ewa inertia: 15.807496 \n",
      "Minibatch iteration 70/1000: mean batch inertia: 8.942665, ewa inertia: 14.435901 \n",
      "Minibatch iteration 71/1000: mean batch inertia: 10.647884, ewa inertia: 13.679055 \n",
      "Minibatch iteration 72/1000: mean batch inertia: 15.864095, ewa inertia: 14.115626 \n",
      "Minibatch iteration 73/1000: mean batch inertia: 6.676002, ewa inertia: 12.629188 \n",
      "Minibatch iteration 74/1000: mean batch inertia: 11.287199, ewa inertia: 12.361058 \n",
      "Minibatch iteration 75/1000: mean batch inertia: 7.861941, ewa inertia: 11.462134 \n",
      "Minibatch iteration 76/1000: mean batch inertia: 23.828140, ewa inertia: 13.932864 \n",
      "Minibatch iteration 77/1000: mean batch inertia: 8.430605, ewa inertia: 12.833512 \n",
      "Minibatch iteration 78/1000: mean batch inertia: 11.698144, ewa inertia: 12.606665 \n",
      "Minibatch iteration 79/1000: mean batch inertia: 9.401587, ewa inertia: 11.966290 \n",
      "Minibatch iteration 80/1000: mean batch inertia: 31.178369, ewa inertia: 15.804867 \n",
      "Minibatch iteration 81/1000: mean batch inertia: 11.691660, ewa inertia: 14.983047 \n",
      "Minibatch iteration 82/1000: mean batch inertia: 11.794253, ewa inertia: 14.345926 \n",
      "Minibatch iteration 83/1000: mean batch inertia: 24.487672, ewa inertia: 16.372249 \n",
      "Minibatch iteration 84/1000: mean batch inertia: 10.321919, ewa inertia: 15.163392 \n",
      "Minibatch iteration 85/1000: mean batch inertia: 12.948508, ewa inertia: 14.720857 \n",
      "Minibatch iteration 86/1000: mean batch inertia: 8.175405, ewa inertia: 13.413075 \n",
      "Minibatch iteration 87/1000: mean batch inertia: 2.588105, ewa inertia: 11.250244 \n",
      "Minibatch iteration 88/1000: mean batch inertia: 19.165663, ewa inertia: 12.831746 \n",
      "Minibatch iteration 89/1000: mean batch inertia: 14.778802, ewa inertia: 13.220768 \n",
      "Minibatch iteration 90/1000: mean batch inertia: 12.723067, ewa inertia: 13.121327 \n",
      "Minibatch iteration 91/1000: mean batch inertia: 7.907908, ewa inertia: 12.079685 \n",
      "Minibatch iteration 92/1000: mean batch inertia: 32.910974, ewa inertia: 16.241781 \n",
      "Minibatch iteration 93/1000: mean batch inertia: 16.735818, ewa inertia: 16.340489 \n",
      "Minibatch iteration 94/1000: mean batch inertia: 12.346340, ewa inertia: 15.542458 \n",
      "Minibatch iteration 95/1000: mean batch inertia: 7.311623, ewa inertia: 13.897935 \n",
      "Minibatch iteration 96/1000: mean batch inertia: 11.106567, ewa inertia: 13.340219 \n",
      "Minibatch iteration 97/1000: mean batch inertia: 17.928763, ewa inertia: 14.257011 \n",
      "Minibatch iteration 98/1000: mean batch inertia: 20.949119, ewa inertia: 15.594096 \n",
      "Minibatch iteration 99/1000: mean batch inertia: 8.038270, ewa inertia: 14.084440 \n",
      "Minibatch iteration 100/1000: mean batch inertia: 6.684538, ewa inertia: 12.605938 \n",
      "Minibatch iteration 101/1000: mean batch inertia: 14.941875, ewa inertia: 13.072659 \n",
      "Minibatch iteration 102/1000: mean batch inertia: 3.897916, ewa inertia: 11.239543 \n",
      "Minibatch iteration 103/1000: mean batch inertia: 15.917689, ewa inertia: 12.174238 \n",
      "Minibatch iteration 104/1000: mean batch inertia: 11.128462, ewa inertia: 11.965292 \n",
      "Minibatch iteration 105/1000: mean batch inertia: 15.707729, ewa inertia: 12.713031 \n",
      "Minibatch iteration 106/1000: mean batch inertia: 6.520803, ewa inertia: 11.475823 \n",
      "Minibatch iteration 107/1000: mean batch inertia: 25.085679, ewa inertia: 14.195075 \n",
      "Minibatch iteration 108/1000: mean batch inertia: 12.003532, ewa inertia: 13.757204 \n",
      "Minibatch iteration 109/1000: mean batch inertia: 16.395812, ewa inertia: 14.284398 \n",
      "Minibatch iteration 110/1000: mean batch inertia: 17.003287, ewa inertia: 14.827633 \n",
      "Converged (lack of improvement in inertia) at iteration 110/1000\n",
      "Computing label assignment and total inertia\n"
     ]
    },
    {
     "data": {
      "text/plain": [
       "MiniBatchKMeans(batch_size=100, compute_labels=True, init='k-means++',\n",
       "                init_size=None, max_iter=100, max_no_improvement=100,\n",
       "                n_clusters=40, n_init=3, random_state=None,\n",
       "                reassignment_ratio=0.5, tol=0.0, verbose=1)"
      ]
     },
     "execution_count": 26,
     "metadata": {},
     "output_type": "execute_result"
    }
   ],
   "source": [
    "cluster_nmf = MiniBatchKMeans(40, n_init=3, verbose=1, max_no_improvement=100, reassignment_ratio=0.5)\n",
    "cluster_nmf.fit(nmf.components_.T)"
   ]
  },
  {
   "cell_type": "code",
   "execution_count": 27,
   "metadata": {},
   "outputs": [],
   "source": [
    "cls_nmf = defaultdict(list)\n",
    "\n",
    "for i, cl in enumerate(cluster_nmf.labels_):\n",
    "    cls_nmf[cl].append(id2word[i])\n",
    "# откройте в любом текстовом редакторе\n",
    "f = open('cluster_nmf.txt', 'w')\n",
    "for cl in cls_nmf:\n",
    "    f.write('### '+ str(cl) + ' ###\\n')\n",
    "    f.write('\\n'.join(cls_nmf[cl]))\n",
    "    f.write('\\n\\n')\n",
    "f.close()"
   ]
  },
  {
   "cell_type": "markdown",
   "metadata": {},
   "source": [
    "# w2v"
   ]
  },
  {
   "cell_type": "markdown",
   "metadata": {},
   "source": [
    "## w2v самостоятельно обученная (лучше)"
   ]
  },
  {
   "cell_type": "code",
   "execution_count": 31,
   "metadata": {},
   "outputs": [],
   "source": [
    "corpus_xml = html.fromstring(open('paraphrases.xml', 'rb').read())\n",
    "texts_1 = []\n",
    "texts_2 = []\n",
    "classes = []\n",
    "\n",
    "for p in corpus_xml.xpath('//paraphrase'):\n",
    "    texts_1.append(p.xpath('./value[@name=\"text_1\"]/text()')[0])\n",
    "    texts_2.append(p.xpath('./value[@name=\"text_2\"]/text()')[0])\n",
    "    classes.append(p.xpath('./value[@name=\"class\"]/text()')[0])\n",
    "    \n",
    "data = pd.DataFrame({'text_1':texts_1, 'text_2':texts_2, 'label':classes})"
   ]
  },
  {
   "cell_type": "code",
   "execution_count": 32,
   "metadata": {},
   "outputs": [],
   "source": [
    "data['text_1_norm'] = data['text_1'].apply(normalize)\n",
    "data['text_2_norm'] = data['text_2'].apply(normalize)"
   ]
  },
  {
   "cell_type": "code",
   "execution_count": 61,
   "metadata": {},
   "outputs": [
    {
     "data": {
      "text/html": [
       "<div>\n",
       "<style scoped>\n",
       "    .dataframe tbody tr th:only-of-type {\n",
       "        vertical-align: middle;\n",
       "    }\n",
       "\n",
       "    .dataframe tbody tr th {\n",
       "        vertical-align: top;\n",
       "    }\n",
       "\n",
       "    .dataframe thead th {\n",
       "        text-align: right;\n",
       "    }\n",
       "</style>\n",
       "<table border=\"1\" class=\"dataframe\">\n",
       "  <thead>\n",
       "    <tr style=\"text-align: right;\">\n",
       "      <th></th>\n",
       "      <th>text_1</th>\n",
       "      <th>text_2</th>\n",
       "      <th>label</th>\n",
       "      <th>text_1_norm</th>\n",
       "      <th>text_2_norm</th>\n",
       "    </tr>\n",
       "  </thead>\n",
       "  <tbody>\n",
       "    <tr>\n",
       "      <th>0</th>\n",
       "      <td>Полицейским разрешат стрелять на поражение по ...</td>\n",
       "      <td>Полиции могут разрешить стрелять по хулиганам ...</td>\n",
       "      <td>0</td>\n",
       "      <td>полицейский разрешить стрелять поражение гражд...</td>\n",
       "      <td>полиция мочь разрешить стрелять хулиган травма...</td>\n",
       "    </tr>\n",
       "    <tr>\n",
       "      <th>1</th>\n",
       "      <td>Право полицейских на проникновение в жилище ре...</td>\n",
       "      <td>Правила внесудебного проникновения полицейских...</td>\n",
       "      <td>0</td>\n",
       "      <td>право полицейский проникновение жилища решить ...</td>\n",
       "      <td>правило внесудебный проникновение полицейский ...</td>\n",
       "    </tr>\n",
       "    <tr>\n",
       "      <th>2</th>\n",
       "      <td>Президент Египта ввел чрезвычайное положение в...</td>\n",
       "      <td>Власти Египта угрожают ввести в стране чрезвыч...</td>\n",
       "      <td>0</td>\n",
       "      <td>президент египет ввести чрезвычайный положение...</td>\n",
       "      <td>власть египет угрожать ввести страна чрезвычай...</td>\n",
       "    </tr>\n",
       "    <tr>\n",
       "      <th>3</th>\n",
       "      <td>Вернувшихся из Сирии россиян волнует вопрос тр...</td>\n",
       "      <td>Самолеты МЧС вывезут россиян из разрушенной Си...</td>\n",
       "      <td>-1</td>\n",
       "      <td>вернуться сирия россиянин волновать вопрос тру...</td>\n",
       "      <td>самолёт мчс вывезти россиянин разрушить сирия</td>\n",
       "    </tr>\n",
       "    <tr>\n",
       "      <th>4</th>\n",
       "      <td>В Москву из Сирии вернулись 2 самолета МЧС с р...</td>\n",
       "      <td>Самолеты МЧС вывезут россиян из разрушенной Си...</td>\n",
       "      <td>0</td>\n",
       "      <td>москва сирия вернуться 2 самолёт мчс россиянин...</td>\n",
       "      <td>самолёт мчс вывезти россиянин разрушить сирия</td>\n",
       "    </tr>\n",
       "    <tr>\n",
       "      <th>5</th>\n",
       "      <td>Приставы соберут отпечатки пальцев российских ...</td>\n",
       "      <td>Приставы снимут отпечатки пальцев у злостных н...</td>\n",
       "      <td>1</td>\n",
       "      <td>пристав собрать отпечаток палец российский дол...</td>\n",
       "      <td>пристав снять отпечаток палец злостный неплате...</td>\n",
       "    </tr>\n",
       "    <tr>\n",
       "      <th>6</th>\n",
       "      <td>На саратовского дебошира с борта самолета Моск...</td>\n",
       "      <td>Саратовский дебошир отказывается возвращаться ...</td>\n",
       "      <td>-1</td>\n",
       "      <td>саратовский дебошир борт самолёт москва хургад...</td>\n",
       "      <td>саратовский дебошир отказываться возвращаться ...</td>\n",
       "    </tr>\n",
       "    <tr>\n",
       "      <th>7</th>\n",
       "      <td>ЦИК хочет отказаться от электронной системы по...</td>\n",
       "      <td>ЦИК может отказаться от электронных средств по...</td>\n",
       "      <td>0</td>\n",
       "      <td>цик хотеть отказаться электронный система подс...</td>\n",
       "      <td>цик отказаться электронный средство подсчёт голос</td>\n",
       "    </tr>\n",
       "    <tr>\n",
       "      <th>8</th>\n",
       "      <td>Суд Петербурга оставил на потом дело о гибели ...</td>\n",
       "      <td>Лондонский Гайд-парк - это не место для митинг...</td>\n",
       "      <td>-1</td>\n",
       "      <td>суд петербург оставить дело гибель подросток п...</td>\n",
       "      <td>лондонский гайд-парк это место митинг прежде парк</td>\n",
       "    </tr>\n",
       "    <tr>\n",
       "      <th>9</th>\n",
       "      <td>Страны ОПЕК сократили добычу нефти на 1 млн ба...</td>\n",
       "      <td>Обама продлил полномочия НАСА по сотрудничеств...</td>\n",
       "      <td>-1</td>\n",
       "      <td>страна опека сократить добыча нефть 1 миллион ...</td>\n",
       "      <td>обама продлить полномочие наса сотрудничество ...</td>\n",
       "    </tr>\n",
       "  </tbody>\n",
       "</table>\n",
       "</div>"
      ],
      "text/plain": [
       "                                              text_1  \\\n",
       "0  Полицейским разрешат стрелять на поражение по ...   \n",
       "1  Право полицейских на проникновение в жилище ре...   \n",
       "2  Президент Египта ввел чрезвычайное положение в...   \n",
       "3  Вернувшихся из Сирии россиян волнует вопрос тр...   \n",
       "4  В Москву из Сирии вернулись 2 самолета МЧС с р...   \n",
       "5  Приставы соберут отпечатки пальцев российских ...   \n",
       "6  На саратовского дебошира с борта самолета Моск...   \n",
       "7  ЦИК хочет отказаться от электронной системы по...   \n",
       "8  Суд Петербурга оставил на потом дело о гибели ...   \n",
       "9  Страны ОПЕК сократили добычу нефти на 1 млн ба...   \n",
       "\n",
       "                                              text_2 label  \\\n",
       "0  Полиции могут разрешить стрелять по хулиганам ...     0   \n",
       "1  Правила внесудебного проникновения полицейских...     0   \n",
       "2  Власти Египта угрожают ввести в стране чрезвыч...     0   \n",
       "3  Самолеты МЧС вывезут россиян из разрушенной Си...    -1   \n",
       "4  Самолеты МЧС вывезут россиян из разрушенной Си...     0   \n",
       "5  Приставы снимут отпечатки пальцев у злостных н...     1   \n",
       "6  Саратовский дебошир отказывается возвращаться ...    -1   \n",
       "7  ЦИК может отказаться от электронных средств по...     0   \n",
       "8  Лондонский Гайд-парк - это не место для митинг...    -1   \n",
       "9  Обама продлил полномочия НАСА по сотрудничеств...    -1   \n",
       "\n",
       "                                         text_1_norm  \\\n",
       "0  полицейский разрешить стрелять поражение гражд...   \n",
       "1  право полицейский проникновение жилища решить ...   \n",
       "2  президент египет ввести чрезвычайный положение...   \n",
       "3  вернуться сирия россиянин волновать вопрос тру...   \n",
       "4  москва сирия вернуться 2 самолёт мчс россиянин...   \n",
       "5  пристав собрать отпечаток палец российский дол...   \n",
       "6  саратовский дебошир борт самолёт москва хургад...   \n",
       "7  цик хотеть отказаться электронный система подс...   \n",
       "8  суд петербург оставить дело гибель подросток п...   \n",
       "9  страна опека сократить добыча нефть 1 миллион ...   \n",
       "\n",
       "                                         text_2_norm  \n",
       "0  полиция мочь разрешить стрелять хулиган травма...  \n",
       "1  правило внесудебный проникновение полицейский ...  \n",
       "2  власть египет угрожать ввести страна чрезвычай...  \n",
       "3      самолёт мчс вывезти россиянин разрушить сирия  \n",
       "4      самолёт мчс вывезти россиянин разрушить сирия  \n",
       "5  пристав снять отпечаток палец злостный неплате...  \n",
       "6  саратовский дебошир отказываться возвращаться ...  \n",
       "7  цик отказаться электронный средство подсчёт голос  \n",
       "8  лондонский гайд-парк это место митинг прежде парк  \n",
       "9  обама продлить полномочие наса сотрудничество ...  "
      ]
     },
     "execution_count": 61,
     "metadata": {},
     "output_type": "execute_result"
    }
   ],
   "source": [
    "data.head(10)"
   ]
  },
  {
   "cell_type": "code",
   "execution_count": 79,
   "metadata": {},
   "outputs": [],
   "source": [
    "w2v = gensim.models.Word2Vec([text.split() for text in data_norm], size=50, sg=1)"
   ]
  },
  {
   "cell_type": "code",
   "execution_count": 73,
   "metadata": {},
   "outputs": [],
   "source": [
    "def get_embedding(text, model, dim):\n",
    "    text = text.split()\n",
    "    \n",
    "    # чтобы не доставать одно слово несколько раз\n",
    "    # сделаем счетчик, а потом векторы домножим на частоту\n",
    "    words = Counter(text)\n",
    "    total = len(text)\n",
    "    vectors = np.zeros((len(words), dim))\n",
    "    \n",
    "    for i,word in enumerate(words):\n",
    "        try:\n",
    "            v = model[word]\n",
    "            vectors[i] = v*(words[word]/total) # просто умножаем вектор на частоту\n",
    "        except (KeyError, ValueError):\n",
    "            continue\n",
    "    \n",
    "    if vectors.any():\n",
    "        vector = np.average(vectors, axis=0)\n",
    "    else:\n",
    "        vector = np.zeros((dim))\n",
    "    \n",
    "    return vector"
   ]
  },
  {
   "cell_type": "code",
   "execution_count": 80,
   "metadata": {},
   "outputs": [
    {
     "name": "stderr",
     "output_type": "stream",
     "text": [
      "d:\\program files\\python\\lib\\site-packages\\ipykernel_launcher.py:12: DeprecationWarning: Call to deprecated `__getitem__` (Method will be removed in 4.0.0, use self.wv.__getitem__() instead).\n",
      "  if sys.path[0] == '':\n"
     ]
    }
   ],
   "source": [
    "dim = 50\n",
    "X_text_1_w2v = np.zeros((len(data['text_1_norm']), dim))\n",
    "X_text_2_w2v = np.zeros((len(data['text_2_norm']), dim))\n",
    "\n",
    "for i, text in enumerate(data['text_1_norm'].values):\n",
    "    X_text_1_w2v[i] = get_embedding(text, w2v, dim)\n",
    "    \n",
    "for i, text in enumerate(data['text_2_norm'].values):\n",
    "    X_text_2_w2v[i] = get_embedding(text, w2v, dim)"
   ]
  },
  {
   "cell_type": "code",
   "execution_count": 81,
   "metadata": {},
   "outputs": [],
   "source": [
    "X_text_w2v = np.concatenate([X_text_1_w2v, X_text_2_w2v], axis=1)"
   ]
  },
  {
   "cell_type": "code",
   "execution_count": 87,
   "metadata": {},
   "outputs": [
    {
     "data": {
      "text/plain": [
       "(7227, 100)"
      ]
     },
     "execution_count": 87,
     "metadata": {},
     "output_type": "execute_result"
    }
   ],
   "source": [
    "X_text_w2v.shape"
   ]
  },
  {
   "cell_type": "markdown",
   "metadata": {},
   "source": [
    "### cros val"
   ]
  },
  {
   "cell_type": "code",
   "execution_count": 86,
   "metadata": {},
   "outputs": [],
   "source": [
    "from sklearn.model_selection import cross_val_score"
   ]
  },
  {
   "cell_type": "code",
   "execution_count": 37,
   "metadata": {},
   "outputs": [
    {
     "name": "stdout",
     "output_type": "stream",
     "text": [
      "(7227,)\n"
     ]
    }
   ],
   "source": [
    "y = data['label'].values\n",
    "print(y.shape)"
   ]
  },
  {
   "cell_type": "code",
   "execution_count": 99,
   "metadata": {},
   "outputs": [
    {
     "name": "stderr",
     "output_type": "stream",
     "text": [
      "d:\\program files\\python\\lib\\site-packages\\sklearn\\linear_model\\logistic.py:432: FutureWarning: Default solver will be changed to 'lbfgs' in 0.22. Specify a solver to silence this warning.\n",
      "  FutureWarning)\n",
      "d:\\program files\\python\\lib\\site-packages\\sklearn\\linear_model\\logistic.py:469: FutureWarning: Default multi_class will be changed to 'auto' in 0.22. Specify the multi_class option to silence this warning.\n",
      "  \"this warning.\", FutureWarning)\n"
     ]
    },
    {
     "name": "stdout",
     "output_type": "stream",
     "text": [
      "              precision    recall  f1-score   support\n",
      "\n",
      "          -1       0.48      0.46      0.47       629\n",
      "           0       0.45      0.67      0.54       737\n",
      "           1       0.37      0.08      0.13       441\n",
      "\n",
      "    accuracy                           0.46      1807\n",
      "   macro avg       0.43      0.41      0.38      1807\n",
      "weighted avg       0.44      0.46      0.42      1807\n",
      "\n"
     ]
    }
   ],
   "source": [
    "train_X, valid_X, train_y, valid_y = train_test_split(X_text_w2v, y,random_state=1)\n",
    "clf = LogisticRegression(C=1000)\n",
    "clf.fit(train_X, train_y)\n",
    "preds = clf.predict(valid_X)\n",
    "print(classification_report(valid_y, preds))"
   ]
  },
  {
   "cell_type": "code",
   "execution_count": 100,
   "metadata": {},
   "outputs": [
    {
     "name": "stderr",
     "output_type": "stream",
     "text": [
      "d:\\program files\\python\\lib\\site-packages\\sklearn\\linear_model\\logistic.py:432: FutureWarning: Default solver will be changed to 'lbfgs' in 0.22. Specify a solver to silence this warning.\n",
      "  FutureWarning)\n",
      "d:\\program files\\python\\lib\\site-packages\\sklearn\\linear_model\\logistic.py:469: FutureWarning: Default multi_class will be changed to 'auto' in 0.22. Specify the multi_class option to silence this warning.\n",
      "  \"this warning.\", FutureWarning)\n",
      "d:\\program files\\python\\lib\\site-packages\\sklearn\\linear_model\\logistic.py:432: FutureWarning: Default solver will be changed to 'lbfgs' in 0.22. Specify a solver to silence this warning.\n",
      "  FutureWarning)\n",
      "d:\\program files\\python\\lib\\site-packages\\sklearn\\linear_model\\logistic.py:469: FutureWarning: Default multi_class will be changed to 'auto' in 0.22. Specify the multi_class option to silence this warning.\n",
      "  \"this warning.\", FutureWarning)\n",
      "d:\\program files\\python\\lib\\site-packages\\sklearn\\linear_model\\logistic.py:432: FutureWarning: Default solver will be changed to 'lbfgs' in 0.22. Specify a solver to silence this warning.\n",
      "  FutureWarning)\n",
      "d:\\program files\\python\\lib\\site-packages\\sklearn\\linear_model\\logistic.py:469: FutureWarning: Default multi_class will be changed to 'auto' in 0.22. Specify the multi_class option to silence this warning.\n",
      "  \"this warning.\", FutureWarning)\n",
      "d:\\program files\\python\\lib\\site-packages\\sklearn\\linear_model\\logistic.py:432: FutureWarning: Default solver will be changed to 'lbfgs' in 0.22. Specify a solver to silence this warning.\n",
      "  FutureWarning)\n",
      "d:\\program files\\python\\lib\\site-packages\\sklearn\\linear_model\\logistic.py:469: FutureWarning: Default multi_class will be changed to 'auto' in 0.22. Specify the multi_class option to silence this warning.\n",
      "  \"this warning.\", FutureWarning)\n",
      "d:\\program files\\python\\lib\\site-packages\\sklearn\\linear_model\\logistic.py:432: FutureWarning: Default solver will be changed to 'lbfgs' in 0.22. Specify a solver to silence this warning.\n",
      "  FutureWarning)\n",
      "d:\\program files\\python\\lib\\site-packages\\sklearn\\linear_model\\logistic.py:469: FutureWarning: Default multi_class will be changed to 'auto' in 0.22. Specify the multi_class option to silence this warning.\n",
      "  \"this warning.\", FutureWarning)\n",
      "d:\\program files\\python\\lib\\site-packages\\sklearn\\linear_model\\logistic.py:432: FutureWarning: Default solver will be changed to 'lbfgs' in 0.22. Specify a solver to silence this warning.\n",
      "  FutureWarning)\n",
      "d:\\program files\\python\\lib\\site-packages\\sklearn\\linear_model\\logistic.py:469: FutureWarning: Default multi_class will be changed to 'auto' in 0.22. Specify the multi_class option to silence this warning.\n",
      "  \"this warning.\", FutureWarning)\n",
      "d:\\program files\\python\\lib\\site-packages\\sklearn\\linear_model\\logistic.py:432: FutureWarning: Default solver will be changed to 'lbfgs' in 0.22. Specify a solver to silence this warning.\n",
      "  FutureWarning)\n",
      "d:\\program files\\python\\lib\\site-packages\\sklearn\\linear_model\\logistic.py:469: FutureWarning: Default multi_class will be changed to 'auto' in 0.22. Specify the multi_class option to silence this warning.\n",
      "  \"this warning.\", FutureWarning)\n",
      "d:\\program files\\python\\lib\\site-packages\\sklearn\\linear_model\\logistic.py:432: FutureWarning: Default solver will be changed to 'lbfgs' in 0.22. Specify a solver to silence this warning.\n",
      "  FutureWarning)\n",
      "d:\\program files\\python\\lib\\site-packages\\sklearn\\linear_model\\logistic.py:469: FutureWarning: Default multi_class will be changed to 'auto' in 0.22. Specify the multi_class option to silence this warning.\n",
      "  \"this warning.\", FutureWarning)\n",
      "d:\\program files\\python\\lib\\site-packages\\sklearn\\linear_model\\logistic.py:432: FutureWarning: Default solver will be changed to 'lbfgs' in 0.22. Specify a solver to silence this warning.\n",
      "  FutureWarning)\n",
      "d:\\program files\\python\\lib\\site-packages\\sklearn\\linear_model\\logistic.py:469: FutureWarning: Default multi_class will be changed to 'auto' in 0.22. Specify the multi_class option to silence this warning.\n",
      "  \"this warning.\", FutureWarning)\n",
      "d:\\program files\\python\\lib\\site-packages\\sklearn\\linear_model\\logistic.py:432: FutureWarning: Default solver will be changed to 'lbfgs' in 0.22. Specify a solver to silence this warning.\n",
      "  FutureWarning)\n",
      "d:\\program files\\python\\lib\\site-packages\\sklearn\\linear_model\\logistic.py:469: FutureWarning: Default multi_class will be changed to 'auto' in 0.22. Specify the multi_class option to silence this warning.\n",
      "  \"this warning.\", FutureWarning)\n"
     ]
    },
    {
     "data": {
      "text/plain": [
       "0.4498255886930286"
      ]
     },
     "execution_count": 100,
     "metadata": {},
     "output_type": "execute_result"
    }
   ],
   "source": [
    "cross_val_score(clf, X_text_w2v, y, scoring='f1_micro', cv=10).mean()"
   ]
  },
  {
   "cell_type": "code",
   "execution_count": 93,
   "metadata": {},
   "outputs": [],
   "source": [
    "from sklearn.neighbors import KNeighborsClassifier\n",
    "k_range = range(1,31)\n",
    "cv_scores = []\n",
    "for n in k_range:\n",
    "    knn = KNeighborsClassifier(n)\n",
    "    scores = cross_val_score(knn, X_text_w2v, y, cv=10,scoring='f1_micro')\n",
    "    cv_scores.append(scores.mean())"
   ]
  },
  {
   "cell_type": "code",
   "execution_count": 94,
   "metadata": {},
   "outputs": [
    {
     "data": {
      "image/png": "[encoded data removed]",
      "text/plain": [
       "<Figure size 432x288 with 1 Axes>"
      ]
     },
     "metadata": {
      "needs_background": "light"
     },
     "output_type": "display_data"
    }
   ],
   "source": [
    "from matplotlib import pyplot as plt\n",
    "plt.plot(k_range,cv_scores)\n",
    "plt.xlabel('K')\n",
    "plt.ylabel('f1_micro')\n",
    "plt.show()"
   ]
  },
  {
   "cell_type": "code",
   "execution_count": 95,
   "metadata": {},
   "outputs": [
    {
     "name": "stdout",
     "output_type": "stream",
     "text": [
      "0.4703929164360819\n"
     ]
    }
   ],
   "source": [
    "best_knn = KNeighborsClassifier(n_neighbors=20)\n",
    "best_knn.fit(train_X,train_y)\n",
    "print(best_knn.score(valid_X,valid_y))"
   ]
  },
  {
   "cell_type": "markdown",
   "metadata": {},
   "source": [
    "### 以下为非交叉验证，仅供参考"
   ]
  },
  {
   "cell_type": "code",
   "execution_count": null,
   "metadata": {},
   "outputs": [],
   "source": [
    "# Random Forest\n",
    "train_X, valid_X, train_y, valid_y = train_test_split(X_text_w2v, y,random_state=1)\n",
    "clf = RandomForestClassifier(n_estimators=100, max_depth=7, min_samples_leaf=15,\n",
    "                             class_weight='balanced')\n",
    "clf.fit(train_X, train_y)\n",
    "preds = clf.predict(valid_X)\n",
    "print(classification_report(valid_y, preds))"
   ]
  },
  {
   "cell_type": "code",
   "execution_count": null,
   "metadata": {},
   "outputs": [],
   "source": [
    "# LogReg\n",
    "train_X, valid_X, train_y, valid_y = train_test_split(X_text_w2v, y,random_state=1)\n",
    "clf = LogisticRegression(C=1000)\n",
    "clf.fit(train_X, train_y)\n",
    "preds = clf.predict(valid_X)\n",
    "print(classification_report(valid_y, preds))"
   ]
  },
  {
   "cell_type": "markdown",
   "metadata": {},
   "source": [
    "## w2v rusvectores"
   ]
  },
  {
   "cell_type": "code",
   "execution_count": 105,
   "metadata": {},
   "outputs": [],
   "source": [
    "data_tag=pd.read_csv('data_paraphraser_norm.csv')"
   ]
  },
  {
   "cell_type": "code",
   "execution_count": 111,
   "metadata": {},
   "outputs": [
    {
     "data": {
      "text/html": [
       "<div>\n",
       "<style scoped>\n",
       "    .dataframe tbody tr th:only-of-type {\n",
       "        vertical-align: middle;\n",
       "    }\n",
       "\n",
       "    .dataframe tbody tr th {\n",
       "        vertical-align: top;\n",
       "    }\n",
       "\n",
       "    .dataframe thead th {\n",
       "        text-align: right;\n",
       "    }\n",
       "</style>\n",
       "<table border=\"1\" class=\"dataframe\">\n",
       "  <thead>\n",
       "    <tr style=\"text-align: right;\">\n",
       "      <th></th>\n",
       "      <th>label</th>\n",
       "      <th>text_1</th>\n",
       "      <th>text_2</th>\n",
       "      <th>text_1_norm</th>\n",
       "      <th>text_2_norm</th>\n",
       "    </tr>\n",
       "  </thead>\n",
       "  <tbody>\n",
       "    <tr>\n",
       "      <th>0</th>\n",
       "      <td>0</td>\n",
       "      <td>Полицейским разрешат стрелять на поражение по ...</td>\n",
       "      <td>Полиции могут разрешить стрелять по хулиганам ...</td>\n",
       "      <td>полицейский_NOUN разрешать_VERB стрелять_VERB ...</td>\n",
       "      <td>полиция_NOUN мочь_VERB разрешать_VERB стрелять...</td>\n",
       "    </tr>\n",
       "    <tr>\n",
       "      <th>1</th>\n",
       "      <td>0</td>\n",
       "      <td>Право полицейских на проникновение в жилище ре...</td>\n",
       "      <td>Правила внесудебного проникновения полицейских...</td>\n",
       "      <td>право_ADV полицейский_NOUN на_ADP проникновени...</td>\n",
       "      <td>правило_NOUN внесудебный_ADJ проникновение_NOU...</td>\n",
       "    </tr>\n",
       "    <tr>\n",
       "      <th>2</th>\n",
       "      <td>0</td>\n",
       "      <td>Президент Египта ввел чрезвычайное положение в...</td>\n",
       "      <td>Власти Египта угрожают ввести в стране чрезвыч...</td>\n",
       "      <td>президент_NOUN египет_NOUN вводить_VERB чрезвы...</td>\n",
       "      <td>власть_NOUN египет_NOUN угрожать_VERB вводить_...</td>\n",
       "    </tr>\n",
       "    <tr>\n",
       "      <th>3</th>\n",
       "      <td>-1</td>\n",
       "      <td>Вернувшихся из Сирии россиян волнует вопрос тр...</td>\n",
       "      <td>Самолеты МЧС вывезут россиян из разрушенной Си...</td>\n",
       "      <td>вернуться_VERB из_ADP сирия_NOUN россиянин_NOU...</td>\n",
       "      <td>самолет_NOUN мчс_NOUN вывозить_VERB россиянин_...</td>\n",
       "    </tr>\n",
       "    <tr>\n",
       "      <th>4</th>\n",
       "      <td>0</td>\n",
       "      <td>В Москву из Сирии вернулись 2 самолета МЧС с р...</td>\n",
       "      <td>Самолеты МЧС вывезут россиян из разрушенной Си...</td>\n",
       "      <td>в_ADP москва_NOUN из_ADP сирия_NOUN вернуться_...</td>\n",
       "      <td>самолет_NOUN мчс_NOUN вывозить_VERB россиянин_...</td>\n",
       "    </tr>\n",
       "    <tr>\n",
       "      <th>5</th>\n",
       "      <td>1</td>\n",
       "      <td>Приставы соберут отпечатки пальцев российских ...</td>\n",
       "      <td>Приставы снимут отпечатки пальцев у злостных н...</td>\n",
       "      <td>пристав_NOUN собирать_VERB отпечаток_NOUN пале...</td>\n",
       "      <td>пристав_NOUN снимать_VERB отпечаток_NOUN палец...</td>\n",
       "    </tr>\n",
       "    <tr>\n",
       "      <th>6</th>\n",
       "      <td>-1</td>\n",
       "      <td>На саратовского дебошира с борта самолета Моск...</td>\n",
       "      <td>Саратовский дебошир отказывается возвращаться ...</td>\n",
       "      <td>на_ADP саратовский_ADJ дебошир_NOUN с_ADP борт...</td>\n",
       "      <td>саратовский_ADJ дебошир_NOUN отказываться_VERB...</td>\n",
       "    </tr>\n",
       "    <tr>\n",
       "      <th>7</th>\n",
       "      <td>0</td>\n",
       "      <td>ЦИК хочет отказаться от электронной системы по...</td>\n",
       "      <td>ЦИК может отказаться от электронных средств по...</td>\n",
       "      <td>цик_NOUN хотеть_VERB отказываться_VERB от_ADP ...</td>\n",
       "      <td>цик_NOUN мочь_VERB отказываться_VERB от_ADP эл...</td>\n",
       "    </tr>\n",
       "    <tr>\n",
       "      <th>8</th>\n",
       "      <td>-1</td>\n",
       "      <td>Суд Петербурга оставил на потом дело о гибели ...</td>\n",
       "      <td>Лондонский Гайд-парк - это не место для митинг...</td>\n",
       "      <td>суд_NOUN петербург_NOUN оставлять_VERB на_ADP ...</td>\n",
       "      <td>лондонский_ADJ гайд_NOUN парк_NOUN это_PART не...</td>\n",
       "    </tr>\n",
       "    <tr>\n",
       "      <th>9</th>\n",
       "      <td>-1</td>\n",
       "      <td>Страны ОПЕК сократили добычу нефти на 1 млн ба...</td>\n",
       "      <td>Обама продлил полномочия НАСА по сотрудничеств...</td>\n",
       "      <td>страна_NOUN опек_NOUN сокращать_VERB добыча_NO...</td>\n",
       "      <td>обама_NOUN продлять_VERB полномочие_NOUN нас_N...</td>\n",
       "    </tr>\n",
       "  </tbody>\n",
       "</table>\n",
       "</div>"
      ],
      "text/plain": [
       "   label                                             text_1  \\\n",
       "0      0  Полицейским разрешат стрелять на поражение по ...   \n",
       "1      0  Право полицейских на проникновение в жилище ре...   \n",
       "2      0  Президент Египта ввел чрезвычайное положение в...   \n",
       "3     -1  Вернувшихся из Сирии россиян волнует вопрос тр...   \n",
       "4      0  В Москву из Сирии вернулись 2 самолета МЧС с р...   \n",
       "5      1  Приставы соберут отпечатки пальцев российских ...   \n",
       "6     -1  На саратовского дебошира с борта самолета Моск...   \n",
       "7      0  ЦИК хочет отказаться от электронной системы по...   \n",
       "8     -1  Суд Петербурга оставил на потом дело о гибели ...   \n",
       "9     -1  Страны ОПЕК сократили добычу нефти на 1 млн ба...   \n",
       "\n",
       "                                              text_2  \\\n",
       "0  Полиции могут разрешить стрелять по хулиганам ...   \n",
       "1  Правила внесудебного проникновения полицейских...   \n",
       "2  Власти Египта угрожают ввести в стране чрезвыч...   \n",
       "3  Самолеты МЧС вывезут россиян из разрушенной Си...   \n",
       "4  Самолеты МЧС вывезут россиян из разрушенной Си...   \n",
       "5  Приставы снимут отпечатки пальцев у злостных н...   \n",
       "6  Саратовский дебошир отказывается возвращаться ...   \n",
       "7  ЦИК может отказаться от электронных средств по...   \n",
       "8  Лондонский Гайд-парк - это не место для митинг...   \n",
       "9  Обама продлил полномочия НАСА по сотрудничеств...   \n",
       "\n",
       "                                         text_1_norm  \\\n",
       "0  полицейский_NOUN разрешать_VERB стрелять_VERB ...   \n",
       "1  право_ADV полицейский_NOUN на_ADP проникновени...   \n",
       "2  президент_NOUN египет_NOUN вводить_VERB чрезвы...   \n",
       "3  вернуться_VERB из_ADP сирия_NOUN россиянин_NOU...   \n",
       "4  в_ADP москва_NOUN из_ADP сирия_NOUN вернуться_...   \n",
       "5  пристав_NOUN собирать_VERB отпечаток_NOUN пале...   \n",
       "6  на_ADP саратовский_ADJ дебошир_NOUN с_ADP борт...   \n",
       "7  цик_NOUN хотеть_VERB отказываться_VERB от_ADP ...   \n",
       "8  суд_NOUN петербург_NOUN оставлять_VERB на_ADP ...   \n",
       "9  страна_NOUN опек_NOUN сокращать_VERB добыча_NO...   \n",
       "\n",
       "                                         text_2_norm  \n",
       "0  полиция_NOUN мочь_VERB разрешать_VERB стрелять...  \n",
       "1  правило_NOUN внесудебный_ADJ проникновение_NOU...  \n",
       "2  власть_NOUN египет_NOUN угрожать_VERB вводить_...  \n",
       "3  самолет_NOUN мчс_NOUN вывозить_VERB россиянин_...  \n",
       "4  самолет_NOUN мчс_NOUN вывозить_VERB россиянин_...  \n",
       "5  пристав_NOUN снимать_VERB отпечаток_NOUN палец...  \n",
       "6  саратовский_ADJ дебошир_NOUN отказываться_VERB...  \n",
       "7  цик_NOUN мочь_VERB отказываться_VERB от_ADP эл...  \n",
       "8  лондонский_ADJ гайд_NOUN парк_NOUN это_PART не...  \n",
       "9  обама_NOUN продлять_VERB полномочие_NOUN нас_N...  "
      ]
     },
     "execution_count": 111,
     "metadata": {},
     "output_type": "execute_result"
    }
   ],
   "source": [
    "data_tag.head(10)"
   ]
  },
  {
   "cell_type": "code",
   "execution_count": 112,
   "metadata": {},
   "outputs": [
    {
     "data": {
      "text/plain": [
       "'полицейский_NOUN разрешать_VERB стрелять_VERB на_ADP поражение_NOUN по_ADP гражданин_NOUN с_ADP травматика_NOUN'"
      ]
     },
     "execution_count": 112,
     "metadata": {},
     "output_type": "execute_result"
    }
   ],
   "source": [
    "data_tag['text_1_norm'][0]"
   ]
  },
  {
   "cell_type": "code",
   "execution_count": 113,
   "metadata": {},
   "outputs": [],
   "source": [
    "y_tag = data_tag['label'].values"
   ]
  },
  {
   "cell_type": "code",
   "execution_count": 76,
   "metadata": {},
   "outputs": [],
   "source": [
    "model = gensim.models.KeyedVectors.load_word2vec_format('model.bin', binary=True)"
   ]
  },
  {
   "cell_type": "code",
   "execution_count": 77,
   "metadata": {},
   "outputs": [
    {
     "data": {
      "text/plain": [
       "[('март_NOUN', 0.9544488191604614),\n",
       " ('апрель_NOUN', 0.9534032344818115),\n",
       " ('ноябрь_NOUN', 0.9383174777030945),\n",
       " ('октябрь_NOUN', 0.9273386597633362),\n",
       " ('декабрь_NOUN', 0.9178366661071777),\n",
       " ('июнь_NOUN', 0.916779637336731),\n",
       " ('май_NOUN', 0.9141846895217896),\n",
       " ('сентябрь_NOUN', 0.9087847471237183),\n",
       " ('август_NOUN', 0.9031303524971008),\n",
       " ('январь_NOUN', 0.8994792699813843)]"
      ]
     },
     "execution_count": 77,
     "metadata": {},
     "output_type": "execute_result"
    }
   ],
   "source": [
    "model.most_similar('февраль_NOUN')"
   ]
  },
  {
   "cell_type": "code",
   "execution_count": 107,
   "metadata": {},
   "outputs": [],
   "source": [
    "dim = 50\n",
    "X_text_1_rv = np.zeros((len(data_tag['text_1_norm']), dim))\n",
    "X_text_2_rv = np.zeros((len(data_tag['text_2_norm']), dim))\n",
    "\n",
    "for i, text in enumerate(data_tag['text_1_norm'].values):\n",
    "    X_text_1_rv[i] = get_embedding(text, model, dim)\n",
    "    \n",
    "for i, text in enumerate(data_tag['text_2_norm'].values):\n",
    "    X_text_2_rv[i] = get_embedding(text, model, dim)"
   ]
  },
  {
   "cell_type": "code",
   "execution_count": 108,
   "metadata": {},
   "outputs": [],
   "source": [
    "X_text_rv = np.concatenate([X_text_1_rv, X_text_2_rv], axis=1)"
   ]
  },
  {
   "cell_type": "code",
   "execution_count": 114,
   "metadata": {},
   "outputs": [
    {
     "name": "stderr",
     "output_type": "stream",
     "text": [
      "d:\\program files\\python\\lib\\site-packages\\sklearn\\linear_model\\logistic.py:432: FutureWarning: Default solver will be changed to 'lbfgs' in 0.22. Specify a solver to silence this warning.\n",
      "  FutureWarning)\n",
      "d:\\program files\\python\\lib\\site-packages\\sklearn\\linear_model\\logistic.py:469: FutureWarning: Default multi_class will be changed to 'auto' in 0.22. Specify the multi_class option to silence this warning.\n",
      "  \"this warning.\", FutureWarning)\n",
      "d:\\program files\\python\\lib\\site-packages\\sklearn\\metrics\\classification.py:1437: UndefinedMetricWarning: Precision and F-score are ill-defined and being set to 0.0 in labels with no predicted samples.\n",
      "  'precision', 'predicted', average, warn_for)\n"
     ]
    },
    {
     "name": "stdout",
     "output_type": "stream",
     "text": [
      "              precision    recall  f1-score   support\n",
      "\n",
      "          -1       0.00      0.00      0.00       629\n",
      "           0       0.41      1.00      0.58       737\n",
      "           1       0.00      0.00      0.00       441\n",
      "\n",
      "    accuracy                           0.41      1807\n",
      "   macro avg       0.14      0.33      0.19      1807\n",
      "weighted avg       0.17      0.41      0.24      1807\n",
      "\n"
     ]
    }
   ],
   "source": [
    "train_X, valid_X, train_y, valid_y = train_test_split(X_text_rv, y_tag,random_state=1)\n",
    "clf = LogisticRegression(C=1000)\n",
    "clf.fit(train_X, train_y)\n",
    "preds = clf.predict(valid_X)\n",
    "print(classification_report(valid_y, preds))"
   ]
  },
  {
   "cell_type": "code",
   "execution_count": 115,
   "metadata": {},
   "outputs": [
    {
     "name": "stderr",
     "output_type": "stream",
     "text": [
      "d:\\program files\\python\\lib\\site-packages\\sklearn\\linear_model\\logistic.py:432: FutureWarning: Default solver will be changed to 'lbfgs' in 0.22. Specify a solver to silence this warning.\n",
      "  FutureWarning)\n",
      "d:\\program files\\python\\lib\\site-packages\\sklearn\\linear_model\\logistic.py:469: FutureWarning: Default multi_class will be changed to 'auto' in 0.22. Specify the multi_class option to silence this warning.\n",
      "  \"this warning.\", FutureWarning)\n",
      "d:\\program files\\python\\lib\\site-packages\\sklearn\\linear_model\\logistic.py:432: FutureWarning: Default solver will be changed to 'lbfgs' in 0.22. Specify a solver to silence this warning.\n",
      "  FutureWarning)\n",
      "d:\\program files\\python\\lib\\site-packages\\sklearn\\linear_model\\logistic.py:469: FutureWarning: Default multi_class will be changed to 'auto' in 0.22. Specify the multi_class option to silence this warning.\n",
      "  \"this warning.\", FutureWarning)\n",
      "d:\\program files\\python\\lib\\site-packages\\sklearn\\linear_model\\logistic.py:432: FutureWarning: Default solver will be changed to 'lbfgs' in 0.22. Specify a solver to silence this warning.\n",
      "  FutureWarning)\n",
      "d:\\program files\\python\\lib\\site-packages\\sklearn\\linear_model\\logistic.py:469: FutureWarning: Default multi_class will be changed to 'auto' in 0.22. Specify the multi_class option to silence this warning.\n",
      "  \"this warning.\", FutureWarning)\n",
      "d:\\program files\\python\\lib\\site-packages\\sklearn\\linear_model\\logistic.py:432: FutureWarning: Default solver will be changed to 'lbfgs' in 0.22. Specify a solver to silence this warning.\n",
      "  FutureWarning)\n",
      "d:\\program files\\python\\lib\\site-packages\\sklearn\\linear_model\\logistic.py:469: FutureWarning: Default multi_class will be changed to 'auto' in 0.22. Specify the multi_class option to silence this warning.\n",
      "  \"this warning.\", FutureWarning)\n",
      "d:\\program files\\python\\lib\\site-packages\\sklearn\\linear_model\\logistic.py:432: FutureWarning: Default solver will be changed to 'lbfgs' in 0.22. Specify a solver to silence this warning.\n",
      "  FutureWarning)\n",
      "d:\\program files\\python\\lib\\site-packages\\sklearn\\linear_model\\logistic.py:469: FutureWarning: Default multi_class will be changed to 'auto' in 0.22. Specify the multi_class option to silence this warning.\n",
      "  \"this warning.\", FutureWarning)\n",
      "d:\\program files\\python\\lib\\site-packages\\sklearn\\linear_model\\logistic.py:432: FutureWarning: Default solver will be changed to 'lbfgs' in 0.22. Specify a solver to silence this warning.\n",
      "  FutureWarning)\n",
      "d:\\program files\\python\\lib\\site-packages\\sklearn\\linear_model\\logistic.py:469: FutureWarning: Default multi_class will be changed to 'auto' in 0.22. Specify the multi_class option to silence this warning.\n",
      "  \"this warning.\", FutureWarning)\n",
      "d:\\program files\\python\\lib\\site-packages\\sklearn\\linear_model\\logistic.py:432: FutureWarning: Default solver will be changed to 'lbfgs' in 0.22. Specify a solver to silence this warning.\n",
      "  FutureWarning)\n",
      "d:\\program files\\python\\lib\\site-packages\\sklearn\\linear_model\\logistic.py:469: FutureWarning: Default multi_class will be changed to 'auto' in 0.22. Specify the multi_class option to silence this warning.\n",
      "  \"this warning.\", FutureWarning)\n",
      "d:\\program files\\python\\lib\\site-packages\\sklearn\\linear_model\\logistic.py:432: FutureWarning: Default solver will be changed to 'lbfgs' in 0.22. Specify a solver to silence this warning.\n",
      "  FutureWarning)\n",
      "d:\\program files\\python\\lib\\site-packages\\sklearn\\linear_model\\logistic.py:469: FutureWarning: Default multi_class will be changed to 'auto' in 0.22. Specify the multi_class option to silence this warning.\n",
      "  \"this warning.\", FutureWarning)\n",
      "d:\\program files\\python\\lib\\site-packages\\sklearn\\linear_model\\logistic.py:432: FutureWarning: Default solver will be changed to 'lbfgs' in 0.22. Specify a solver to silence this warning.\n",
      "  FutureWarning)\n",
      "d:\\program files\\python\\lib\\site-packages\\sklearn\\linear_model\\logistic.py:469: FutureWarning: Default multi_class will be changed to 'auto' in 0.22. Specify the multi_class option to silence this warning.\n",
      "  \"this warning.\", FutureWarning)\n",
      "d:\\program files\\python\\lib\\site-packages\\sklearn\\linear_model\\logistic.py:432: FutureWarning: Default solver will be changed to 'lbfgs' in 0.22. Specify a solver to silence this warning.\n",
      "  FutureWarning)\n",
      "d:\\program files\\python\\lib\\site-packages\\sklearn\\linear_model\\logistic.py:469: FutureWarning: Default multi_class will be changed to 'auto' in 0.22. Specify the multi_class option to silence this warning.\n",
      "  \"this warning.\", FutureWarning)\n"
     ]
    },
    {
     "data": {
      "text/plain": [
       "0.40916010007067494"
      ]
     },
     "execution_count": 115,
     "metadata": {},
     "output_type": "execute_result"
    }
   ],
   "source": [
    "cross_val_score(clf, X_text_rv, y_tag, scoring='f1_micro', cv=10).mean()"
   ]
  },
  {
   "cell_type": "markdown",
   "metadata": {},
   "source": [
    "# 2 часть"
   ]
  },
  {
   "cell_type": "code",
   "execution_count": 127,
   "metadata": {},
   "outputs": [
    {
     "data": {
      "text/plain": [
       "TfidfVectorizer(analyzer='word', binary=False, decode_error='strict',\n",
       "                dtype=<class 'numpy.float64'>, encoding='utf-8',\n",
       "                input='content', lowercase=True, max_df=0.4, max_features=1000,\n",
       "                min_df=3, ngram_range=(1, 1), norm='l2', preprocessor=None,\n",
       "                smooth_idf=True, stop_words=None, strip_accents=None,\n",
       "                sublinear_tf=False, token_pattern='(?u)\\\\b\\\\w\\\\w+\\\\b',\n",
       "                tokenizer=None, use_idf=True, vocabulary=None)"
      ]
     },
     "execution_count": 127,
     "metadata": {},
     "output_type": "execute_result"
    }
   ],
   "source": [
    "tfidf = TfidfVectorizer(min_df=3, max_df=0.4, max_features=1000)\n",
    "tfidf.fit(pd.concat([data['text_1_norm'], data['text_2_norm']]))"
   ]
  },
  {
   "cell_type": "markdown",
   "metadata": {},
   "source": [
    "## SVD"
   ]
  },
  {
   "cell_type": "code",
   "execution_count": 128,
   "metadata": {},
   "outputs": [],
   "source": [
    "svd = TruncatedSVD(200)\n",
    "\n",
    "X_text_1_svd = svd.fit_transform(tfidf.transform(data['text_1_norm']))\n",
    "X_text_2_svd = svd.fit_transform(tfidf.transform(data['text_2_norm']))\n",
    "\n",
    "X_text_svd = np.concatenate([X_text_1_svd, X_text_2_svd], axis=1)"
   ]
  },
  {
   "cell_type": "code",
   "execution_count": 129,
   "metadata": {},
   "outputs": [
    {
     "data": {
      "text/plain": [
       "(7227, 400)"
      ]
     },
     "execution_count": 129,
     "metadata": {},
     "output_type": "execute_result"
    }
   ],
   "source": [
    "X_text_svd.shape"
   ]
  },
  {
   "cell_type": "markdown",
   "metadata": {},
   "source": [
    "### cos similarity"
   ]
  },
  {
   "cell_type": "code",
   "execution_count": 51,
   "metadata": {},
   "outputs": [],
   "source": [
    "from sklearn.metrics.pairwise import cosine_similarity"
   ]
  },
  {
   "cell_type": "code",
   "execution_count": 44,
   "metadata": {},
   "outputs": [],
   "source": [
    "# id2vec_svd1 = X_text_1.T\n",
    "# id2vec_svd2 = X_text_2.T"
   ]
  },
  {
   "cell_type": "code",
   "execution_count": 130,
   "metadata": {},
   "outputs": [],
   "source": [
    "cos_sim_svd = [cosine_similarity(v.reshape(1, -1), X_text_2_svd[i].reshape(1, -1)).tolist()[0][0] for i, v in enumerate(X_text_1_svd)]"
   ]
  },
  {
   "cell_type": "code",
   "execution_count": 132,
   "metadata": {},
   "outputs": [
    {
     "data": {
      "text/plain": [
       "[-0.06441175922144012,\n",
       " 0.01829075058195688,\n",
       " 0.050229458401730945,\n",
       " -0.10377657305298164,\n",
       " -0.1103977943571668,\n",
       " 0.007383872254929836,\n",
       " -0.056426303499369834,\n",
       " -0.017098420656201447,\n",
       " 0.006976219517873194,\n",
       " 0.014941552134898641]"
      ]
     },
     "execution_count": 132,
     "metadata": {},
     "output_type": "execute_result"
    }
   ],
   "source": [
    "cos_sim_svd[:10]"
   ]
  },
  {
   "cell_type": "markdown",
   "metadata": {},
   "source": [
    "## NMF"
   ]
  },
  {
   "cell_type": "code",
   "execution_count": 133,
   "metadata": {},
   "outputs": [
    {
     "ename": "NotFittedError",
     "evalue": "This NMF instance is not fitted yet. Call 'fit' with appropriate arguments before using this method.",
     "output_type": "error",
     "traceback": [
      "\u001b[1;31m---------------------------------------------------------------------------\u001b[0m",
      "\u001b[1;31mNotFittedError\u001b[0m                            Traceback (most recent call last)",
      "\u001b[1;32m<ipython-input-133-33896c194dd7>\u001b[0m in \u001b[0;36m<module>\u001b[1;34m\u001b[0m\n\u001b[0;32m      1\u001b[0m \u001b[0mnmf\u001b[0m \u001b[1;33m=\u001b[0m \u001b[0mNMF\u001b[0m\u001b[1;33m(\u001b[0m\u001b[1;36m200\u001b[0m\u001b[1;33m)\u001b[0m\u001b[1;33m\u001b[0m\u001b[1;33m\u001b[0m\u001b[0m\n\u001b[0;32m      2\u001b[0m \u001b[1;33m\u001b[0m\u001b[0m\n\u001b[1;32m----> 3\u001b[1;33m \u001b[0mX_text_1_nmf\u001b[0m \u001b[1;33m=\u001b[0m \u001b[0mnmf\u001b[0m\u001b[1;33m.\u001b[0m\u001b[0mtransform\u001b[0m\u001b[1;33m(\u001b[0m\u001b[0mtfidf\u001b[0m\u001b[1;33m.\u001b[0m\u001b[0mtransform\u001b[0m\u001b[1;33m(\u001b[0m\u001b[0mdata\u001b[0m\u001b[1;33m[\u001b[0m\u001b[1;34m'text_1_norm'\u001b[0m\u001b[1;33m]\u001b[0m\u001b[1;33m)\u001b[0m\u001b[1;33m)\u001b[0m\u001b[1;33m\u001b[0m\u001b[1;33m\u001b[0m\u001b[0m\n\u001b[0m\u001b[0;32m      4\u001b[0m \u001b[0mX_text_2_nmf\u001b[0m \u001b[1;33m=\u001b[0m \u001b[0mnmf\u001b[0m\u001b[1;33m.\u001b[0m\u001b[0mtransform\u001b[0m\u001b[1;33m(\u001b[0m\u001b[0mtfidf\u001b[0m\u001b[1;33m.\u001b[0m\u001b[0mtransform\u001b[0m\u001b[1;33m(\u001b[0m\u001b[0mdata\u001b[0m\u001b[1;33m[\u001b[0m\u001b[1;34m'text_2_norm'\u001b[0m\u001b[1;33m]\u001b[0m\u001b[1;33m)\u001b[0m\u001b[1;33m)\u001b[0m\u001b[1;33m\u001b[0m\u001b[1;33m\u001b[0m\u001b[0m\n\u001b[0;32m      5\u001b[0m \u001b[1;33m\u001b[0m\u001b[0m\n",
      "\u001b[1;32md:\\program files\\python\\lib\\site-packages\\sklearn\\decomposition\\nmf.py\u001b[0m in \u001b[0;36mtransform\u001b[1;34m(self, X)\u001b[0m\n\u001b[0;32m   1311\u001b[0m             \u001b[0mTransformed\u001b[0m \u001b[0mdata\u001b[0m\u001b[1;33m\u001b[0m\u001b[1;33m\u001b[0m\u001b[0m\n\u001b[0;32m   1312\u001b[0m         \"\"\"\n\u001b[1;32m-> 1313\u001b[1;33m         \u001b[0mcheck_is_fitted\u001b[0m\u001b[1;33m(\u001b[0m\u001b[0mself\u001b[0m\u001b[1;33m,\u001b[0m \u001b[1;34m'n_components_'\u001b[0m\u001b[1;33m)\u001b[0m\u001b[1;33m\u001b[0m\u001b[1;33m\u001b[0m\u001b[0m\n\u001b[0m\u001b[0;32m   1314\u001b[0m \u001b[1;33m\u001b[0m\u001b[0m\n\u001b[0;32m   1315\u001b[0m         W, _, n_iter_ = non_negative_factorization(\n",
      "\u001b[1;32md:\\program files\\python\\lib\\site-packages\\sklearn\\utils\\validation.py\u001b[0m in \u001b[0;36mcheck_is_fitted\u001b[1;34m(estimator, attributes, msg, all_or_any)\u001b[0m\n\u001b[0;32m    912\u001b[0m \u001b[1;33m\u001b[0m\u001b[0m\n\u001b[0;32m    913\u001b[0m     \u001b[1;32mif\u001b[0m \u001b[1;32mnot\u001b[0m \u001b[0mall_or_any\u001b[0m\u001b[1;33m(\u001b[0m\u001b[1;33m[\u001b[0m\u001b[0mhasattr\u001b[0m\u001b[1;33m(\u001b[0m\u001b[0mestimator\u001b[0m\u001b[1;33m,\u001b[0m \u001b[0mattr\u001b[0m\u001b[1;33m)\u001b[0m \u001b[1;32mfor\u001b[0m \u001b[0mattr\u001b[0m \u001b[1;32min\u001b[0m \u001b[0mattributes\u001b[0m\u001b[1;33m]\u001b[0m\u001b[1;33m)\u001b[0m\u001b[1;33m:\u001b[0m\u001b[1;33m\u001b[0m\u001b[1;33m\u001b[0m\u001b[0m\n\u001b[1;32m--> 914\u001b[1;33m         \u001b[1;32mraise\u001b[0m \u001b[0mNotFittedError\u001b[0m\u001b[1;33m(\u001b[0m\u001b[0mmsg\u001b[0m \u001b[1;33m%\u001b[0m \u001b[1;33m{\u001b[0m\u001b[1;34m'name'\u001b[0m\u001b[1;33m:\u001b[0m \u001b[0mtype\u001b[0m\u001b[1;33m(\u001b[0m\u001b[0mestimator\u001b[0m\u001b[1;33m)\u001b[0m\u001b[1;33m.\u001b[0m\u001b[0m__name__\u001b[0m\u001b[1;33m}\u001b[0m\u001b[1;33m)\u001b[0m\u001b[1;33m\u001b[0m\u001b[1;33m\u001b[0m\u001b[0m\n\u001b[0m\u001b[0;32m    915\u001b[0m \u001b[1;33m\u001b[0m\u001b[0m\n\u001b[0;32m    916\u001b[0m \u001b[1;33m\u001b[0m\u001b[0m\n",
      "\u001b[1;31mNotFittedError\u001b[0m: This NMF instance is not fitted yet. Call 'fit' with appropriate arguments before using this method."
     ]
    }
   ],
   "source": [
    "nmf = NMF(200)\n",
    "\n",
    "X_text_1_nmf = nmf.transform(tfidf.transform(data['text_1_norm']))\n",
    "X_text_2_nmf = nmf.transform(tfidf.transform(data['text_2_norm']))\n",
    "\n",
    "X_text_nmf = np.concatenate([X_text_1_nmf, X_text_2_nmf], axis=1)"
   ]
  },
  {
   "cell_type": "markdown",
   "metadata": {},
   "source": [
    "### косинусная близость"
   ]
  },
  {
   "cell_type": "code",
   "execution_count": 67,
   "metadata": {},
   "outputs": [],
   "source": [
    "cos_sim_nmf = [cosine_similarity(v.reshape(1, -1), X_text_2_nmf[i].reshape(1, -1)).tolist()[0][0] for i, v in enumerate(X_text_1_nmf)]"
   ]
  },
  {
   "cell_type": "code",
   "execution_count": 68,
   "metadata": {},
   "outputs": [
    {
     "data": {
      "text/plain": [
       "[0.8565607377206113,\n",
       " 0.36964653977640455,\n",
       " 0.7807633195813233,\n",
       " 0.4087839826071128,\n",
       " 0.23797067697922028,\n",
       " 0.05018703371798052,\n",
       " 0.3644721493031122,\n",
       " 0.3489559973434516,\n",
       " 0.08092123044334286,\n",
       " 0.02661114718782815]"
      ]
     },
     "execution_count": 68,
     "metadata": {},
     "output_type": "execute_result"
    }
   ],
   "source": [
    "cos_sim_nmf[:10]"
   ]
  },
  {
   "cell_type": "markdown",
   "metadata": {},
   "source": [
    "## W2V самостоятельно обученная"
   ]
  },
  {
   "cell_type": "code",
   "execution_count": 121,
   "metadata": {},
   "outputs": [
    {
     "data": {
      "text/plain": [
       "[0.9093553040093278,\n",
       " 0.9162935532635855,\n",
       " 0.9508713657789876,\n",
       " 0.7610319787133144,\n",
       " 0.9083803325663123,\n",
       " 0.9244763677726099,\n",
       " 0.691226839678667,\n",
       " 0.9688288204766886,\n",
       " 0.7165422628726466,\n",
       " 0.7288469007395649]"
      ]
     },
     "execution_count": 121,
     "metadata": {},
     "output_type": "execute_result"
    }
   ],
   "source": [
    "cos_sim_w2v = [cosine_similarity(v.reshape(1, -1), X_text_2_w2v[i].reshape(1, -1)).tolist()[0][0] for i, v in enumerate(X_text_1_w2v)]\n",
    "cos_sim_w2v[:10]"
   ]
  },
  {
   "cell_type": "markdown",
   "metadata": {},
   "source": [
    "## W2V rusvectores"
   ]
  },
  {
   "cell_type": "code",
   "execution_count": 119,
   "metadata": {},
   "outputs": [
    {
     "data": {
      "text/plain": [
       "[0.0, 0.0, 0.0, 0.0, 0.0, 0.0, 0.0, 0.0, 0.0, 0.0]"
      ]
     },
     "execution_count": 119,
     "metadata": {},
     "output_type": "execute_result"
    }
   ],
   "source": [
    "cos_sim_rv = [cosine_similarity(v.reshape(1, -1), X_text_2_rv[i].reshape(1, -1)).tolist()[0][0] for i, v in enumerate(X_text_1_rv)]\n",
    "cos_sim_rv[:10]"
   ]
  },
  {
   "cell_type": "markdown",
   "metadata": {},
   "source": [
    "## FastText"
   ]
  },
  {
   "cell_type": "code",
   "execution_count": 135,
   "metadata": {},
   "outputs": [],
   "source": [
    "fast_text = gensim.models.FastText([text.split() for text in data_norm], size=50, min_n=4, max_n=8)"
   ]
  },
  {
   "cell_type": "code",
   "execution_count": 136,
   "metadata": {},
   "outputs": [
    {
     "name": "stderr",
     "output_type": "stream",
     "text": [
      "d:\\program files\\python\\lib\\site-packages\\ipykernel_launcher.py:12: DeprecationWarning: Call to deprecated `__getitem__` (Method will be removed in 4.0.0, use self.wv.__getitem__() instead).\n",
      "  if sys.path[0] == '':\n"
     ]
    }
   ],
   "source": [
    "dim = 50\n",
    "data['text_1_notnorm'] = data['text_1'].apply(tokenize)\n",
    "data['text_2_notnorm'] = data['text_2'].apply(tokenize)\n",
    "\n",
    "X_text_1_ft = np.zeros((len(data['text_1_notnorm']), dim))\n",
    "X_text_2_ft = np.zeros((len(data['text_2_notnorm']), dim))\n",
    "\n",
    "for i, text in enumerate(data['text_1_notnorm'].values):\n",
    "    X_text_1_ft[i] = get_embedding(text, fast_text, dim)\n",
    "    \n",
    "for i, text in enumerate(data['text_2_notnorm'].values):\n",
    "    X_text_2_ft[i] = get_embedding(text, fast_text, dim)"
   ]
  },
  {
   "cell_type": "code",
   "execution_count": 138,
   "metadata": {},
   "outputs": [
    {
     "data": {
      "text/plain": [
       "[0.8030769453455194,\n",
       " 0.7447322572955146,\n",
       " 0.6308851035754462,\n",
       " 0.3842010740534307,\n",
       " 0.265047370047229,\n",
       " 0.7304068289115696,\n",
       " 0.4336536261772452,\n",
       " 0.8857981894785179,\n",
       " 0.2316844764635385,\n",
       " 0.10900673113157934]"
      ]
     },
     "execution_count": 138,
     "metadata": {},
     "output_type": "execute_result"
    }
   ],
   "source": [
    "cos_sim_ft = [cosine_similarity(v.reshape(1, -1), X_text_2_ft[i].reshape(1, -1)).tolist()[0][0] for i, v in enumerate(X_text_1_ft)]\n",
    "cos_sim_ft[:10]"
   ]
  }
 ],
 "metadata": {
  "kernelspec": {
   "display_name": "Python 3",
   "language": "python",
   "name": "python3"
  },
  "language_info": {
   "codemirror_mode": {
    "name": "ipython",
    "version": 3
   },
   "file_extension": ".py",
   "mimetype": "text/x-python",
   "name": "python",
   "nbconvert_exporter": "python",
   "pygments_lexer": "ipython3",
   "version": "3.7.6"
  }
 },
 "nbformat": 4,
 "nbformat_minor": 4
}
