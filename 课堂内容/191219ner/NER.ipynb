{
  "nbformat": 4,
  "nbformat_minor": 0,
  "metadata": {
    "kernelspec": {
      "display_name": "Python 3",
      "language": "python",
      "name": "python3"
    },
    "language_info": {
      "codemirror_mode": {
        "name": "ipython",
        "version": 3
      },
      "file_extension": ".py",
      "mimetype": "text/x-python",
      "name": "python",
      "nbconvert_exporter": "python",
      "pygments_lexer": "ipython3",
      "version": "3.6.3"
    },
    "colab": {
      "name": "NER.ipynb",
      "provenance": []
    }
  },
  "cells": [
    {
      "cell_type": "markdown",
      "metadata": {
        "id": "_ib2egRu2Cxq",
        "colab_type": "text"
      },
      "source": [
        "# Извлечение именованных сущностей."
      ]
    },
    {
      "cell_type": "markdown",
      "metadata": {
        "id": "QYvBDh5Q2Cx7",
        "colab_type": "text"
      },
      "source": [
        "Именованные сущности - общий термин, который используют для обозначения какого-то множества слов (словосочетаний, последовательностей символов), которые представляют какой-то особый инетерес в контексте решаемой практической задачи и которые нужно отделить от остальных слов. Это могут быть какие-то стандартные вещи: имена, фамилии, названия организаций, локации, денежные суммы, даты, номера телефонов, а могут быть и более специфичные: статьи кодексов, белки, симптомы, товары.\n"
      ]
    },
    {
      "cell_type": "markdown",
      "metadata": {
        "id": "p-Goh6ZZ2CyI",
        "colab_type": "text"
      },
      "source": [
        "В многих случаях случаях можно написать регулярку и решиьть задачу на приемлимом уровне (например собрать все номера телефонов совсем несложно). Но когда сущности выраются нестандартным образом, постоянно расширяются и меняются по формам, задача становится очень сложной."
      ]
    },
    {
      "cell_type": "markdown",
      "metadata": {
        "id": "3ZaqUgnF2CyN",
        "colab_type": "text"
      },
      "source": [
        "Стандартные сущности ещё можно извлекать с помощью готовых инструментов."
      ]
    },
    {
      "cell_type": "markdown",
      "metadata": {
        "id": "IzuWN-uL2CyW",
        "colab_type": "text"
      },
      "source": [
        "Для **английского** удобно использовать **spacy**. Там сразу извлекаются сущности с хорошим качеством."
      ]
    },
    {
      "cell_type": "markdown",
      "metadata": {
        "id": "_oxEL4t_2Cyb",
        "colab_type": "text"
      },
      "source": [
        "Для **русского** (если не хочется ничего делать) можно использовать **.tag** из **pymorphy**."
      ]
    },
    {
      "cell_type": "code",
      "metadata": {
        "id": "GfRUGY-r2v2C",
        "colab_type": "code",
        "colab": {}
      },
      "source": [
        "!pip install pymorphy2"
      ],
      "execution_count": 0,
      "outputs": []
    },
    {
      "cell_type": "code",
      "metadata": {
        "id": "MhIARHa32Cyg",
        "colab_type": "code",
        "colab": {}
      },
      "source": [
        "from pymorphy2 import MorphAnalyzer\n",
        "morph = MorphAnalyzer()"
      ],
      "execution_count": 0,
      "outputs": []
    },
    {
      "cell_type": "code",
      "metadata": {
        "id": "6USQj3Xj2CzL",
        "colab_type": "code",
        "colab": {
          "base_uri": "https://localhost:8080/",
          "height": 52
        },
        "outputId": "e8e4a11e-19b2-4adf-ab46-2150f6b30185"
      },
      "source": [
        "p = morph.parse('Михаил')[0].tag\n",
        "print('Тэги - ', p)\n",
        "print('Name' in p) #тэг имени"
      ],
      "execution_count": 3,
      "outputs": [
        {
          "output_type": "stream",
          "text": [
            "Тэги -  NOUN,anim,masc,Name sing,nomn\n",
            "True\n"
          ],
          "name": "stdout"
        }
      ]
    },
    {
      "cell_type": "code",
      "metadata": {
        "id": "xkxdPxra2Czg",
        "colab_type": "code",
        "colab": {
          "base_uri": "https://localhost:8080/",
          "height": 52
        },
        "outputId": "537917e4-bc2f-4f43-e9d2-a02381f85534"
      },
      "source": [
        "p = morph.parse('Иванов')[0].tag\n",
        "print('Тэги - ', p)\n",
        "print('Surn' in p) #тэг фамилии"
      ],
      "execution_count": 4,
      "outputs": [
        {
          "output_type": "stream",
          "text": [
            "Тэги -  NOUN,anim,masc,Sgtm,Surn sing,nomn\n",
            "True\n"
          ],
          "name": "stdout"
        }
      ]
    },
    {
      "cell_type": "code",
      "metadata": {
        "id": "oYRTgcGG2C0M",
        "colab_type": "code",
        "colab": {
          "base_uri": "https://localhost:8080/",
          "height": 52
        },
        "outputId": "420bdf6c-a77d-40fe-f485-41c26b411f21"
      },
      "source": [
        "p = morph.parse('Петрович')[0].tag\n",
        "print('Тэги - ', p)\n",
        "print('Patr' in p) #тэг отчества"
      ],
      "execution_count": 5,
      "outputs": [
        {
          "output_type": "stream",
          "text": [
            "Тэги -  NOUN,anim,masc,Patr sing,nomn\n",
            "True\n"
          ],
          "name": "stdout"
        }
      ]
    },
    {
      "cell_type": "code",
      "metadata": {
        "id": "hfZGCmNF2C0l",
        "colab_type": "code",
        "colab": {
          "base_uri": "https://localhost:8080/",
          "height": 52
        },
        "outputId": "06eba975-89e8-4a8e-e225-cd9be03ee356"
      },
      "source": [
        "p = morph.parse('Москва')[0].tag\n",
        "print('Тэги - ', p)\n",
        "print('Geox' in p) #тэг локация"
      ],
      "execution_count": 6,
      "outputs": [
        {
          "output_type": "stream",
          "text": [
            "Тэги -  NOUN,inan,femn,Sgtm,Geox sing,nomn\n",
            "True\n"
          ],
          "name": "stdout"
        }
      ]
    },
    {
      "cell_type": "code",
      "metadata": {
        "id": "AROJiPNt2C1H",
        "colab_type": "code",
        "colab": {
          "base_uri": "https://localhost:8080/",
          "height": 52
        },
        "outputId": "80ba2218-ec0a-4057-b92c-5f6a99c1cee2"
      },
      "source": [
        "p = morph.parse('Яндекс')[0].tag\n",
        "print('Тэги - ', p)\n",
        "print('Orgn' in p) #тэг организация"
      ],
      "execution_count": 7,
      "outputs": [
        {
          "output_type": "stream",
          "text": [
            "Тэги -  NOUN,inan,masc,Orgn sing,nomn\n",
            "True\n"
          ],
          "name": "stdout"
        }
      ]
    },
    {
      "cell_type": "code",
      "metadata": {
        "id": "Rj9XxT9q2C1e",
        "colab_type": "code",
        "colab": {
          "base_uri": "https://localhost:8080/",
          "height": 52
        },
        "outputId": "08fa8d55-457a-484d-f481-d0372aa2266c"
      },
      "source": [
        "p = morph.parse('')[0].tag\n",
        "print('Тэги - ', p)\n",
        "print('Orgn' in p) #тэг организация"
      ],
      "execution_count": 11,
      "outputs": [
        {
          "output_type": "stream",
          "text": [
            "Тэги -  UNKN\n",
            "False\n"
          ],
          "name": "stdout"
        }
      ]
    },
    {
      "cell_type": "markdown",
      "metadata": {
        "id": "o1x5zNBf2C1x",
        "colab_type": "text"
      },
      "source": [
        "Работает не очень хорошо, но все равно лучше, чем ничего. Рядом стоящие слова одного тэга можно склеить в один. Или сначала собрать нграмы и если какое-то одно слово в нграмме принадлежит к какому-то типу сущности, то распространить его на весь нграм."
      ]
    },
    {
      "cell_type": "markdown",
      "metadata": {
        "id": "YIjjlKMc2C12",
        "colab_type": "text"
      },
      "source": [
        "Другой инструмент - **natasha** (https://github.com/natasha/natasha)"
      ]
    },
    {
      "cell_type": "markdown",
      "metadata": {
        "id": "3k23uv9G2C18",
        "colab_type": "text"
      },
      "source": [
        "Она основана на **парсере yargy** https://github.com/natasha/yargy и представляет собой набор готовых правил для извлечения некоторых сущностей."
      ]
    },
    {
      "cell_type": "code",
      "metadata": {
        "id": "AWaUCo2h3-Cw",
        "colab_type": "code",
        "colab": {}
      },
      "source": [
        "!pip install natasha"
      ],
      "execution_count": 0,
      "outputs": []
    },
    {
      "cell_type": "code",
      "metadata": {
        "id": "kHbK49z52C2D",
        "colab_type": "code",
        "colab": {}
      },
      "source": [
        "from natasha import (NamesExtractor,\n",
        "                     SimpleNamesExtractor,\n",
        "                     PersonExtractor,\n",
        "                     LocationExtractor,\n",
        "                     AddressExtractor,\n",
        "                     OrganisationExtractor,\n",
        "                     DatesExtractor,\n",
        "                     MoneyExtractor,\n",
        "                     MoneyRateExtractor,\n",
        "                     MoneyRangeExtractor)\n",
        "\n",
        "from natasha.markup import (show_markup_notebook as show_markup,\n",
        "                            format_json)"
      ],
      "execution_count": 0,
      "outputs": []
    },
    {
      "cell_type": "code",
      "metadata": {
        "id": "1u-RIB1b2C2g",
        "colab_type": "code",
        "colab": {
          "base_uri": "https://localhost:8080/",
          "height": 207
        },
        "outputId": "78d75e50-55ad-4248-a8de-d4373cf52814"
      },
      "source": [
        "text = 'Влад Веселов. Петрович. Алиса. Студия Артемия Лебедева'\n",
        "\n",
        "extractor_per = NamesExtractor()\n",
        "matches = extractor_per(text)\n",
        "spans = [_.span for _ in matches]\n",
        "facts = [_.fact.as_json for _ in matches]\n",
        "show_markup(text, spans)\n",
        "print(format_json(facts))"
      ],
      "execution_count": 17,
      "outputs": [
        {
          "output_type": "display_data",
          "data": {
            "text/html": [
              "<style>\n",
              "\n",
              ".markup {\n",
              "    white-space: pre-wrap;\n",
              "}\n",
              "\n",
              ".markup > mark {\n",
              "    padding: 0.15em;\n",
              "    border-radius: 0.25em;\n",
              "    border: 1px solid #fdf07c;\n",
              "    background: #ffffc2;\n",
              "}\n",
              "    </style><div class=\"markup tex2jax_ignore\"><mark>Влад Веселов</mark>. Петрович. Алиса. Студия <mark>Артемия Лебедева</mark></div>"
            ],
            "text/plain": [
              "<IPython.core.display.HTML object>"
            ]
          },
          "metadata": {
            "tags": []
          }
        },
        {
          "output_type": "stream",
          "text": [
            "[\n",
            "  {\n",
            "    \"first\": \"влад\",\n",
            "    \"last\": \"веселов\"\n",
            "  },\n",
            "  {\n",
            "    \"first\": \"артемий\",\n",
            "    \"last\": \"лебедев\"\n",
            "  }\n",
            "]\n"
          ],
          "name": "stdout"
        }
      ]
    },
    {
      "cell_type": "code",
      "metadata": {
        "id": "wt3tmaiR2C24",
        "colab_type": "code",
        "colab": {
          "base_uri": "https://localhost:8080/",
          "height": 35
        },
        "outputId": "2fea4353-cdb1-4c37-b238-dcc01a7a9843"
      },
      "source": [
        "text = 'Влад Веселов. Петрович. Алиса. Студия Артемия Лебедева'\n",
        "\n",
        "extractor_per = PersonExtractor()\n",
        "matches = extractor_per(text)\n",
        "spans = [_.span for _ in matches]\n",
        "facts = [_.fact.as_json for _ in matches]\n",
        "show_markup(text, spans)\n",
        "# print(format_json(facts))"
      ],
      "execution_count": 16,
      "outputs": [
        {
          "output_type": "display_data",
          "data": {
            "text/html": [
              "<style>\n",
              "\n",
              ".markup {\n",
              "    white-space: pre-wrap;\n",
              "}\n",
              "\n",
              ".markup > mark {\n",
              "    padding: 0.15em;\n",
              "    border-radius: 0.25em;\n",
              "    border: 1px solid #fdf07c;\n",
              "    background: #ffffc2;\n",
              "}\n",
              "    </style><div class=\"markup tex2jax_ignore\"><mark>Влад Веселов</mark>. Петрович. Алиса. Студия <mark>Артемия Лебедева</mark></div>"
            ],
            "text/plain": [
              "<IPython.core.display.HTML object>"
            ]
          },
          "metadata": {
            "tags": []
          }
        }
      ]
    },
    {
      "cell_type": "code",
      "metadata": {
        "id": "IxB29X4u2C3Y",
        "colab_type": "code",
        "colab": {
          "base_uri": "https://localhost:8080/",
          "height": 328
        },
        "outputId": "779adfc4-be77-4d6c-faf2-6e54193ddc41"
      },
      "source": [
        "text = 'Более того в Москве, в районе Строгино. На реке Оке. В германии'\n",
        "\n",
        "extractor_loc = LocationExtractor()\n",
        "matches = extractor_loc(text)\n",
        "spans = [_.span for _ in matches]\n",
        "facts = [_.fact.as_json for _ in matches]\n",
        "show_markup(text, spans)\n",
        "print(format_json(facts))"
      ],
      "execution_count": 18,
      "outputs": [
        {
          "output_type": "display_data",
          "data": {
            "text/html": [
              "<style>\n",
              "\n",
              ".markup {\n",
              "    white-space: pre-wrap;\n",
              "}\n",
              "\n",
              ".markup > mark {\n",
              "    padding: 0.15em;\n",
              "    border-radius: 0.25em;\n",
              "    border: 1px solid #fdf07c;\n",
              "    background: #ffffc2;\n",
              "}\n",
              "    </style><div class=\"markup tex2jax_ignore\">Более <mark>того</mark> в <mark>Москве</mark>, в районе <mark>Строгино</mark>. На реке <mark>Оке</mark>. В <mark>германии</mark></div>"
            ],
            "text/plain": [
              "<IPython.core.display.HTML object>"
            ]
          },
          "metadata": {
            "tags": []
          }
        },
        {
          "output_type": "stream",
          "text": [
            "[\n",
            "  {\n",
            "    \"name\": \"то\"\n",
            "  },\n",
            "  {\n",
            "    \"name\": \"москва\"\n",
            "  },\n",
            "  {\n",
            "    \"name\": \"строгино\"\n",
            "  },\n",
            "  {\n",
            "    \"name\": \"ока\"\n",
            "  },\n",
            "  {\n",
            "    \"name\": \"германия\"\n",
            "  }\n",
            "]\n"
          ],
          "name": "stdout"
        }
      ]
    },
    {
      "cell_type": "code",
      "metadata": {
        "id": "cT3LfMSh2C4G",
        "colab_type": "code",
        "colab": {},
        "outputId": "1b717a7b-e7e2-4397-9788-3f9674789fdc"
      },
      "source": [
        "text = 'ФСБ. Московский государственный университет. Высшая школа экономика. ВШЭ. Mail.ru'\n",
        "\n",
        "extractor_org = OrganisationExtractor()\n",
        "matches = extractor_org(text)\n",
        "spans = [_.span for _ in matches]\n",
        "facts = [_.fact.as_json for _ in matches]\n",
        "show_markup(text, spans)\n",
        "# print(format_json(facts))"
      ],
      "execution_count": 0,
      "outputs": [
        {
          "output_type": "display_data",
          "data": {
            "text/html": [
              "<style>\n",
              "\n",
              ".markup {\n",
              "    white-space: pre-wrap;\n",
              "}\n",
              "\n",
              ".markup > mark {\n",
              "    padding: 0.15em;\n",
              "    border-radius: 0.25em;\n",
              "    border: 1px solid #fdf07c;\n",
              "    background: #ffffc2;\n",
              "}\n",
              "    </style><div class=\"markup tex2jax_ignore\"><mark>ФСБ</mark>. <mark>Московский государственный университет</mark>. <mark>Высшая школа</mark> экономика. ВШЭ. Mail.ru</div>"
            ],
            "text/plain": [
              "<IPython.core.display.HTML object>"
            ]
          },
          "metadata": {
            "tags": []
          }
        }
      ]
    },
    {
      "cell_type": "code",
      "metadata": {
        "id": "A5oma_fh2C4l",
        "colab_type": "code",
        "colab": {},
        "outputId": "abbdb51b-28bd-48f5-e3fd-899adb6ca16b"
      },
      "source": [
        "text = 'С 2015 по 2017 год. 16 апреля 1993 года. В субботу. 23.04.18'\n",
        "\n",
        "extractor_date = DatesExtractor()\n",
        "matches = extractor_date(text)\n",
        "spans = [_.span for _ in matches]\n",
        "facts = [_.fact.as_json for _ in matches]\n",
        "show_markup(text, spans)\n",
        "# print(format_json(facts))"
      ],
      "execution_count": 0,
      "outputs": [
        {
          "output_type": "display_data",
          "data": {
            "text/html": [
              "<style>\n",
              "\n",
              ".markup {\n",
              "    white-space: pre-wrap;\n",
              "}\n",
              "\n",
              ".markup > mark {\n",
              "    padding: 0.15em;\n",
              "    border-radius: 0.25em;\n",
              "    border: 1px solid #fdf07c;\n",
              "    background: #ffffc2;\n",
              "}\n",
              "    </style><div class=\"markup tex2jax_ignore\">С 2015 по <mark>2017 год</mark>. <mark>16 апреля 1993 года</mark>. В субботу. <mark>23.04.18</mark></div>"
            ],
            "text/plain": [
              "<IPython.core.display.HTML object>"
            ]
          },
          "metadata": {
            "tags": []
          }
        }
      ]
    },
    {
      "cell_type": "code",
      "metadata": {
        "id": "3AMKC0Yw2C4-",
        "colab_type": "code",
        "colab": {},
        "outputId": "54f21c47-0b1b-42bd-e847-81c7f58cb7cd"
      },
      "source": [
        "text = \"Он заплатил ему 300 рублей.\"\n",
        "\n",
        "extractor_money = MoneyExtractor()\n",
        "matches = extractor_money(text)\n",
        "spans = [_.span for _ in matches]\n",
        "facts = [_.fact.as_json for _ in matches]\n",
        "show_markup(text, spans)\n",
        "# print(format_json(facts))"
      ],
      "execution_count": 0,
      "outputs": [
        {
          "output_type": "display_data",
          "data": {
            "text/html": [
              "<style>\n",
              "\n",
              ".markup {\n",
              "    white-space: pre-wrap;\n",
              "}\n",
              "\n",
              ".markup > mark {\n",
              "    padding: 0.15em;\n",
              "    border-radius: 0.25em;\n",
              "    border: 1px solid #fdf07c;\n",
              "    background: #ffffc2;\n",
              "}\n",
              "    </style><div class=\"markup tex2jax_ignore\">Он заплатил ему <mark>300 рублей</mark>.</div>"
            ],
            "text/plain": [
              "<IPython.core.display.HTML object>"
            ]
          },
          "metadata": {
            "tags": []
          }
        }
      ]
    },
    {
      "cell_type": "markdown",
      "metadata": {
        "id": "-yVF7tTU2C5S",
        "colab_type": "text"
      },
      "source": [
        "Ещё есть **томита-парсер**, но с ним очень тяжело работать (никакого развития, скудная документация, закрытый код, никакого сообщества) https://tech.yandex.ru/tomita/"
      ]
    },
    {
      "cell_type": "markdown",
      "metadata": {
        "id": "1KgBeniY2C5a",
        "colab_type": "text"
      },
      "source": [
        "Если нужно улучшить выделение стандартныйх типов или научиться извлекать специфичные сущности, нужно **писать правила в Yargy**. "
      ]
    },
    {
      "cell_type": "markdown",
      "metadata": {
        "id": "RNAeWwXF2C5l",
        "colab_type": "text"
      },
      "source": [
        "Возьмем тексты объявлений на авито по категории Консоли и попробуем научиться выделять названия приставок Xbox и Playstation."
      ]
    },
    {
      "cell_type": "code",
      "metadata": {
        "id": "KiH7J0Pi2C5t",
        "colab_type": "code",
        "colab": {}
      },
      "source": [
        "import pandas as pd\n",
        "pd.set_option('display.max_colwidth', -1)"
      ],
      "execution_count": 0,
      "outputs": []
    },
    {
      "cell_type": "markdown",
      "metadata": {
        "id": "RYyDR33T2C6C",
        "colab_type": "text"
      },
      "source": [
        "Посмотрим на данные."
      ]
    },
    {
      "cell_type": "code",
      "metadata": {
        "id": "9kvExZiE5x6c",
        "colab_type": "code",
        "colab": {}
      },
      "source": [
        "!wget https://raw.githubusercontent.com/Yan-Weijia/CompLing/master/%E8%AF%BE%E5%A0%82%E5%86%85%E5%AE%B9/191219ner/pristavki.csv"
      ],
      "execution_count": 0,
      "outputs": []
    },
    {
      "cell_type": "code",
      "metadata": {
        "id": "WIf7fOZI2C6K",
        "colab_type": "code",
        "colab": {}
      },
      "source": [
        "data = pd.read_csv('pristavki.csv', header=None, names=['text'])"
      ],
      "execution_count": 0,
      "outputs": []
    },
    {
      "cell_type": "code",
      "metadata": {
        "id": "_0P7p_Pw2C6X",
        "colab_type": "code",
        "colab": {
          "base_uri": "https://localhost:8080/",
          "height": 504
        },
        "outputId": "2f458169-79c2-4a30-a71a-f39be0435dff"
      },
      "source": [
        "data.head(10)"
      ],
      "execution_count": 22,
      "outputs": [
        {
          "output_type": "execute_result",
          "data": {
            "text/html": [
              "<div>\n",
              "<style scoped>\n",
              "    .dataframe tbody tr th:only-of-type {\n",
              "        vertical-align: middle;\n",
              "    }\n",
              "\n",
              "    .dataframe tbody tr th {\n",
              "        vertical-align: top;\n",
              "    }\n",
              "\n",
              "    .dataframe thead th {\n",
              "        text-align: right;\n",
              "    }\n",
              "</style>\n",
              "<table border=\"1\" class=\"dataframe\">\n",
              "  <thead>\n",
              "    <tr style=\"text-align: right;\">\n",
              "      <th></th>\n",
              "      <th>text</th>\n",
              "    </tr>\n",
              "  </thead>\n",
              "  <tbody>\n",
              "    <tr>\n",
              "      <th>0</th>\n",
              "      <td>Состояние: Отличное для возраста приставки./\\nИгры отдам вместе с приставкой./\\nОстальное по телефону, либо при осмотре.</td>\n",
              "    </tr>\n",
              "    <tr>\n",
              "      <th>1</th>\n",
              "      <td>+5 игар фифа15,16 мартол комбат 9, гта5,асассин 4, и три диска Фифв 13 гта 4 видмак3</td>\n",
              "    </tr>\n",
              "    <tr>\n",
              "      <th>2</th>\n",
              "      <td>Продам в отличном состоянии , в комплекте проводной и беспроводной геймпады (зарядное устройство для беспроводного), гарнитура , два диска . Вообщем полный комплект, но без Kinect.</td>\n",
              "    </tr>\n",
              "    <tr>\n",
              "      <th>3</th>\n",
              "      <td>Продам PS3, 2 беспроводных джойстика в комплекте. Коллекция игр будет естественно бонусом) на фото не хватает игры Mortal combat vs D.C. Джойстики не залипают,можете проверить при покупке. Обмен не интересен, так как подарили Ps4) небольшой торг )</td>\n",
              "    </tr>\n",
              "    <tr>\n",
              "      <th>4</th>\n",
              "      <td>Продаю в связи с ненадобностью.Купила для мужа ,играть не стал.Состояние идеальное .Любые проверки.Предложение идеально до 21 апреля</td>\n",
              "    </tr>\n",
              "    <tr>\n",
              "      <th>5</th>\n",
              "      <td>Код не активировал,обмен</td>\n",
              "    </tr>\n",
              "    <tr>\n",
              "      <th>6</th>\n",
              "      <td>Возможен обмен</td>\n",
              "    </tr>\n",
              "    <tr>\n",
              "      <th>7</th>\n",
              "      <td>Xbox  в отличном состоянии, 2 диска с играми /\\n/\\nПоддержка носителей: CD, DVD, флэшка./\\n/\\nWi-Fi (802.11)/\\nBluetooth. Цвет: черный</td>\n",
              "    </tr>\n",
              "    <tr>\n",
              "      <th>8</th>\n",
              "      <td>Обмен интересен на FIFA16,17 или на GTA5</td>\n",
              "    </tr>\n",
              "    <tr>\n",
              "      <th>9</th>\n",
              "      <td>Джойстик в стиле PS1 для игровых приставок Dendy. Цвет — белый./\\n /\\nНаш магазин находятся по адресу: /\\n*** г.Зеленодольск, Татарстан 10 2 этаж,  График работы магазина: с 10:00-20:00, Без выходных/\\n /\\n❀❀❀❀❀Почему наши покупатели всегда довольны❀❀❀❀❀/\\n✔ЗОЛОТАЯ МЕДАЛЬ от авито в графе продавец!/\\n✔нас более 50 магазинов по всей России, что позволяет нам держать самые низкие цены за счет прямых поставок с фабрик/\\n✔отличное качество и огромный ассортимент!/\\n✔постоянные супер-выгодные для покупателей акции/\\n✔подарки за покупки от 2000 руб/\\n✔заводская гарантия 6 месяцев/\\n✔все товары в наличии (если что-то закончилось - то, как правило, находится в пути)/\\n✔возле магазинов имеются парковки!/\\n✔чтобы нас не потерять - добавляйтесь в группу \"Вконтакте\" и Инстаграм \"Мир удивительных товаров\"!/\\n /\\n✔Работаем ЕЖЕДНЕВНО!/\\n /\\n☎ ЗВОНИТЕ ПРЯМО СЕЙЧАС и получите консультацию!/\\n______________________/\\nБудем рады видеть Вас в числе наших довольных покупателей!/\\nЕЩЕ БОЛЬШЕ НУЖНЫХ ВАМ ТОВАРОВ НА ФОТОГРАФИЯХ НИЖЕ/\\n↓ ↓ ↓ ↓ ↓ ↓ ↓ ↓ ↓ ↓ ↓ ↓ ↓ ↓ ↓ ↓ ↓ ↓ ↓ ↓</td>\n",
              "    </tr>\n",
              "  </tbody>\n",
              "</table>\n",
              "</div>"
            ],
            "text/plain": [
              "                                                                                                                                                                                                                                                                                                                                                                                                                                                                                                                                                                                                                                                                                                                                                                                                                                                                                                                                                                                                                                                                                                         text\n",
              "0  Состояние: Отличное для возраста приставки./\\nИгры отдам вместе с приставкой./\\nОстальное по телефону, либо при осмотре.                                                                                                                                                                                                                                                                                                                                                                                                                                                                                                                                                                                                                                                                                                                                                                                                                                                                                                                                                                                  \n",
              "1  +5 игар фифа15,16 мартол комбат 9, гта5,асассин 4, и три диска Фифв 13 гта 4 видмак3                                                                                                                                                                                                                                                                                                                                                                                                                                                                                                                                                                                                                                                                                                                                                                                                                                                                                                                                                                                                                      \n",
              "2  Продам в отличном состоянии , в комплекте проводной и беспроводной геймпады (зарядное устройство для беспроводного), гарнитура , два диска . Вообщем полный комплект, но без Kinect.                                                                                                                                                                                                                                                                                                                                                                                                                                                                                                                                                                                                                                                                                                                                                                                                                                                                                                                      \n",
              "3  Продам PS3, 2 беспроводных джойстика в комплекте. Коллекция игр будет естественно бонусом) на фото не хватает игры Mortal combat vs D.C. Джойстики не залипают,можете проверить при покупке. Обмен не интересен, так как подарили Ps4) небольшой торг )                                                                                                                                                                                                                                                                                                                                                                                                                                                                                                                                                                                                                                                                                                                                                                                                                                                   \n",
              "4  Продаю в связи с ненадобностью.Купила для мужа ,играть не стал.Состояние идеальное .Любые проверки.Предложение идеально до 21 апреля                                                                                                                                                                                                                                                                                                                                                                                                                                                                                                                                                                                                                                                                                                                                                                                                                                                                                                                                                                      \n",
              "5  Код не активировал,обмен                                                                                                                                                                                                                                                                                                                                                                                                                                                                                                                                                                                                                                                                                                                                                                                                                                                                                                                                                                                                                                                                                  \n",
              "6  Возможен обмен                                                                                                                                                                                                                                                                                                                                                                                                                                                                                                                                                                                                                                                                                                                                                                                                                                                                                                                                                                                                                                                                                            \n",
              "7  Xbox  в отличном состоянии, 2 диска с играми /\\n/\\nПоддержка носителей: CD, DVD, флэшка./\\n/\\nWi-Fi (802.11)/\\nBluetooth. Цвет: черный                                                                                                                                                                                                                                                                                                                                                                                                                                                                                                                                                                                                                                                                                                                                                                                                                                                                                                                                                                    \n",
              "8  Обмен интересен на FIFA16,17 или на GTA5                                                                                                                                                                                                                                                                                                                                                                                                                                                                                                                                                                                                                                                                                                                                                                                                                                                                                                                                                                                                                                                                  \n",
              "9   Джойстик в стиле PS1 для игровых приставок Dendy. Цвет — белый./\\n /\\nНаш магазин находятся по адресу: /\\n*** г.Зеленодольск, Татарстан 10 2 этаж,  График работы магазина: с 10:00-20:00, Без выходных/\\n /\\n❀❀❀❀❀Почему наши покупатели всегда довольны❀❀❀❀❀/\\n✔ЗОЛОТАЯ МЕДАЛЬ от авито в графе продавец!/\\n✔нас более 50 магазинов по всей России, что позволяет нам держать самые низкие цены за счет прямых поставок с фабрик/\\n✔отличное качество и огромный ассортимент!/\\n✔постоянные супер-выгодные для покупателей акции/\\n✔подарки за покупки от 2000 руб/\\n✔заводская гарантия 6 месяцев/\\n✔все товары в наличии (если что-то закончилось - то, как правило, находится в пути)/\\n✔возле магазинов имеются парковки!/\\n✔чтобы нас не потерять - добавляйтесь в группу \"Вконтакте\" и Инстаграм \"Мир удивительных товаров\"!/\\n /\\n✔Работаем ЕЖЕДНЕВНО!/\\n /\\n☎ ЗВОНИТЕ ПРЯМО СЕЙЧАС и получите консультацию!/\\n______________________/\\nБудем рады видеть Вас в числе наших довольных покупателей!/\\nЕЩЕ БОЛЬШЕ НУЖНЫХ ВАМ ТОВАРОВ НА ФОТОГРАФИЯХ НИЖЕ/\\n↓ ↓ ↓ ↓ ↓ ↓ ↓ ↓ ↓ ↓ ↓ ↓ ↓ ↓ ↓ ↓ ↓ ↓ ↓ ↓"
            ]
          },
          "metadata": {
            "tags": []
          },
          "execution_count": 22
        }
      ]
    },
    {
      "cell_type": "markdown",
      "metadata": {
        "id": "Io7eGUv32C7a",
        "colab_type": "text"
      },
      "source": [
        "Давайте попробуем сначала полные варианты: Xbox 360, Xbox one, Playstation 1,2,3,4."
      ]
    },
    {
      "cell_type": "code",
      "metadata": {
        "id": "_RZrfExP2C7h",
        "colab_type": "code",
        "colab": {}
      },
      "source": [
        "from yargy import Parser, rule, or_\n",
        "from yargy.predicates import in_, in_caseless\n",
        "from yargy.tokenizer import MorphTokenizer\n",
        "from yargy.pipelines import morph_pipeline, caseless_pipeline\n",
        "from yargy.interpretation import fact\n",
        "from IPython.display import display"
      ],
      "execution_count": 0,
      "outputs": []
    },
    {
      "cell_type": "markdown",
      "metadata": {
        "id": "Oo_n8upo2C73",
        "colab_type": "text"
      },
      "source": [
        "Для начала определим саму сущность, которую будет извлекать. Сущность будет называться Pristavka и неё будет два атрибута: название и версия. Делается это вот так:"
      ]
    },
    {
      "cell_type": "code",
      "metadata": {
        "id": "996CjbfI2C8D",
        "colab_type": "code",
        "colab": {}
      },
      "source": [
        "\n",
        "Pristavka = fact(\n",
        "    'Pristavka',\n",
        "    ['name', 'model']\n",
        ")"
      ],
      "execution_count": 0,
      "outputs": []
    },
    {
      "cell_type": "markdown",
      "metadata": {
        "id": "GdpXEM_h2C8g",
        "colab_type": "text"
      },
      "source": [
        "(Чуть позже станет понятнее зачем так делать)"
      ]
    },
    {
      "cell_type": "markdown",
      "metadata": {
        "id": "6It496gA2C8k",
        "colab_type": "text"
      },
      "source": [
        "Теперь сделаем правило для иксбокса. Просто напишем несколько вариантов написания Xbox и версий.\n",
        "Такой список называется Газзетир. В Yargy его удобно задавать через morph_pipeline. Туда можно написать слова или последовательности, а он их нормализует, чтобы потом сопоставлять с текстом.\n"
      ]
    },
    {
      "cell_type": "markdown",
      "metadata": {
        "id": "jTaVI-TP2C8s",
        "colab_type": "text"
      },
      "source": [
        "В итоге у нас два газзетира. Мы оборачиваем их в правило (rule). Работать это будет примерно как регулярка. "
      ]
    },
    {
      "cell_type": "code",
      "metadata": {
        "id": "Zid4wrJP2C87",
        "colab_type": "code",
        "colab": {}
      },
      "source": [
        "Xbox = rule(\n",
        "    morph_pipeline(['Xbox', 'X box', \"Иксбокс\"]).interpretation(Pristavka.name), # то, что сматчиться будет в атрибуте name\n",
        "    morph_pipeline(['360', 'one']).interpretation(Pristavka.model)) # то, что сматчиться будет в атрибуте version\n"
      ],
      "execution_count": 0,
      "outputs": []
    },
    {
      "cell_type": "markdown",
      "metadata": {
        "id": "0Vfvn2Lk2C9X",
        "colab_type": "text"
      },
      "source": [
        "Правило для плейстешена будет аналогичное."
      ]
    },
    {
      "cell_type": "code",
      "metadata": {
        "id": "EXNTwRWj2C9b",
        "colab_type": "code",
        "colab": {}
      },
      "source": [
        "PS = rule(\n",
        "    morph_pipeline(['Playstation', 'Play station', 'PS']).interpretation(Pristavka.name),\n",
        "    morph_pipeline(['1', '2', '3', '4']).interpretation(Pristavka.model)    \n",
        "    )"
      ],
      "execution_count": 0,
      "outputs": []
    },
    {
      "cell_type": "markdown",
      "metadata": {
        "id": "8TpdMbZE2C95",
        "colab_type": "text"
      },
      "source": [
        "Теперь сделаем общее правило, которое будет искать плейстешены или иксбоксы и извлекать их как сущность типа Pristavka."
      ]
    },
    {
      "cell_type": "code",
      "metadata": {
        "id": "oqp0zn572C98",
        "colab_type": "code",
        "colab": {}
      },
      "source": [
        "PRISTAVKA = or_(PS, Xbox).interpretation(Pristavka)\n",
        "\n",
        "parser = Parser(PRISTAVKA) # создаем парсер, которым будем проходить по тексту"
      ],
      "execution_count": 0,
      "outputs": []
    },
    {
      "cell_type": "markdown",
      "metadata": {
        "id": "GqPfFsxw2C-M",
        "colab_type": "text"
      },
      "source": [
        "Попробуем сматчить по текстам."
      ]
    },
    {
      "cell_type": "code",
      "metadata": {
        "id": "pHVRnbgU2C-Q",
        "colab_type": "code",
        "colab": {}
      },
      "source": [
        "matches = []\n",
        "\n",
        "for sent in data.text[:100]:\n",
        "    for match in parser.findall(sent):\n",
        "        matches.append(match.fact)"
      ],
      "execution_count": 0,
      "outputs": []
    },
    {
      "cell_type": "code",
      "metadata": {
        "id": "24zpcFXs2C-s",
        "colab_type": "code",
        "colab": {
          "base_uri": "https://localhost:8080/",
          "height": 639
        },
        "outputId": "b9bd142f-4c32-4384-c2f0-b3b3e3873f35"
      },
      "source": [
        "for m in matches:\n",
        "    print(m.name, m.model)"
      ],
      "execution_count": 29,
      "outputs": [
        {
          "output_type": "stream",
          "text": [
            "PS 3\n",
            "Ps 4\n",
            "PS 1\n",
            "PS 3\n",
            "PlayStation 3\n",
            "PS 3\n",
            "Xbox 360\n",
            "Playstation 3\n",
            "Ps 4\n",
            "ps 2\n",
            "Xbox 360\n",
            "PS 4\n",
            "PS 3\n",
            "PS 4\n",
            "PS 3\n",
            "Xbox 360\n",
            "Xbox One\n",
            "PS 4\n",
            "Xbox 360\n",
            "Xbox One\n",
            "PlayStation 3\n",
            "xbox 360\n",
            "PS 4\n",
            "Xbox 360\n",
            "Playstation 3\n",
            "Xbox 360\n",
            "Playstation 4\n",
            "Xbox One\n",
            "ps 4\n",
            "ps 4\n",
            "Xbox 360\n",
            "XBox 360\n",
            "PS 3\n",
            "XBox 360\n",
            "PS 3\n",
            "Ps 3\n"
          ],
          "name": "stdout"
        }
      ]
    },
    {
      "cell_type": "markdown",
      "metadata": {
        "id": "S84ijmRY2C_K",
        "colab_type": "text"
      },
      "source": [
        "У приставок ещё могут быть подификации вроде Slim, X, S и т.д, но не всегда. Чтобы учесть это можно добавить ещё одно правило с .optional() на конце."
      ]
    },
    {
      "cell_type": "code",
      "metadata": {
        "id": "NI53h7pl2C_c",
        "colab_type": "code",
        "colab": {}
      },
      "source": [
        ""
      ],
      "execution_count": 0,
      "outputs": []
    },
    {
      "cell_type": "code",
      "metadata": {
        "id": "HlnV_KMs2C_7",
        "colab_type": "code",
        "colab": {}
      },
      "source": [
        "Pristavka = fact(\n",
        "    'Pristavka',\n",
        "    ['name', 'model','version']\n",
        ")\n",
        "\n",
        "Xbox = rule(\n",
        "    morph_pipeline(['Xbox', 'X box', \"Иксбокс\"]).interpretation(Pristavka.name),\n",
        "    morph_pipeline(['360', 'one']).interpretation(Pristavka.model),\n",
        "    morph_pipeline(['s', 'x', 'e']).interpretation(Pristavka.version).optional()) \n",
        "\n",
        "PS = rule(\n",
        "    morph_pipeline(['Playstation', 'Play station', 'PS']).interpretation(Pristavka.name),\n",
        "    morph_pipeline(['1', '2', '3', '4']).interpretation(Pristavka.model),\n",
        "    morph_pipeline(['Slim', 'SuperSlim', 'слим']).interpretation(Pristavka.version).optional()\n",
        "    )\n",
        "PRISTAVKA = or_(PS, Xbox).interpretation(Pristavka)\n",
        "\n",
        "parser = Parser(PRISTAVKA) # создаем парсер, которым будем проходить по тексту"
      ],
      "execution_count": 0,
      "outputs": []
    },
    {
      "cell_type": "code",
      "metadata": {
        "id": "bTLapBPG2DAX",
        "colab_type": "code",
        "colab": {}
      },
      "source": [
        "matches = []\n",
        "\n",
        "for sent in data.text[:200]:\n",
        "    for match in parser.findall(sent):\n",
        "        matches.append(match.fact)"
      ],
      "execution_count": 0,
      "outputs": []
    },
    {
      "cell_type": "code",
      "metadata": {
        "scrolled": true,
        "id": "2qgVEQRq2DAp",
        "colab_type": "code",
        "colab": {
          "base_uri": "https://localhost:8080/",
          "height": 1000
        },
        "outputId": "94c99b75-29f6-4561-c817-5f26703c50af"
      },
      "source": [
        "for m in matches:\n",
        "    print(m.name, m.model)"
      ],
      "execution_count": 32,
      "outputs": [
        {
          "output_type": "stream",
          "text": [
            "PS 3\n",
            "Ps 4\n",
            "PS 1\n",
            "PS 3\n",
            "PlayStation 3\n",
            "PS 3\n",
            "Xbox 360\n",
            "Playstation 3\n",
            "Ps 4\n",
            "ps 2\n",
            "Xbox 360\n",
            "PS 4\n",
            "PS 3\n",
            "PS 4\n",
            "PS 3\n",
            "Xbox 360\n",
            "Xbox One\n",
            "PS 4\n",
            "Xbox 360\n",
            "Xbox One\n",
            "PlayStation 3\n",
            "xbox 360\n",
            "PS 4\n",
            "Xbox 360\n",
            "Playstation 3\n",
            "Xbox 360\n",
            "Playstation 4\n",
            "Xbox One\n",
            "ps 4\n",
            "ps 4\n",
            "Xbox 360\n",
            "XBox 360\n",
            "PS 3\n",
            "XBox 360\n",
            "PS 3\n",
            "Ps 3\n",
            "PS 3\n",
            "PS 3\n",
            "PS 4\n",
            "ps 4\n",
            "PS 4\n",
            "xbox 360\n",
            "X box One\n",
            "xbox 360\n",
            "PS 3\n",
            "XBOX 360\n",
            "XBOX 360\n",
            "Playstation 3\n",
            "PS 2\n",
            "PlayStation 3\n",
            "PlayStation 3\n",
            "PlayStation 3\n",
            "Playstation 3\n",
            "Xbox 360\n",
            "Playstation 4\n",
            "Xbox One\n",
            "XBOX ONE\n",
            "PS 2\n",
            "PS 4\n",
            "Xbox One\n",
            "PS 4\n",
            "PS 4\n",
            "playstation 3\n",
            "PS 3\n",
            "Xbox one\n",
            "PS 4\n"
          ],
          "name": "stdout"
        }
      ]
    },
    {
      "cell_type": "markdown",
      "metadata": {
        "id": "i32Yyy152DBP",
        "colab_type": "text"
      },
      "source": [
        "Все работает как и должно."
      ]
    },
    {
      "cell_type": "markdown",
      "metadata": {
        "id": "kDgq31Fy2DBU",
        "colab_type": "text"
      },
      "source": [
        "Хорошо бы ещё приводить все варианты названия к нормальному виду. Вот как это можно сделать."
      ]
    },
    {
      "cell_type": "markdown",
      "metadata": {
        "id": "Jo8J6V8l2DBf",
        "colab_type": "text"
      },
      "source": [
        "Если можно заменить весь газзетир на какое-то одно слово, то можно просто добавить в интерпретации значение .сonst('something')"
      ]
    },
    {
      "cell_type": "code",
      "metadata": {
        "id": "zq3lcZv92DBo",
        "colab_type": "code",
        "colab": {}
      },
      "source": [
        "Pristavka = fact(\n",
        "    'Pristavka',\n",
        "    ['name', 'model','version']\n",
        ")\n",
        "\n",
        "Xbox = rule(\n",
        "    morph_pipeline(['Xbox', 'X box', \"Иксбокс\"]).interpretation(Pristavka.name.const('Xbox')),\n",
        "    morph_pipeline(['360', 'one']).interpretation(Pristavka.model),\n",
        "    morph_pipeline(['s', 'x', 'e']).interpretation(Pristavka.version).optional()) \n",
        "\n",
        "PS = rule(\n",
        "    morph_pipeline(['Playstation', 'Play station', 'PS']).interpretation(Pristavka.name.const('Playstation')),\n",
        "    morph_pipeline(['1', '2', '3', '4']).interpretation(Pristavka.model),\n",
        "    morph_pipeline(['Slim', 'SuperSlim', 'слим']).interpretation(Pristavka.version).optional()\n",
        "    )\n",
        "PRISTAVKA = or_(PS, Xbox).interpretation(Pristavka)\n",
        "\n",
        "parser = Parser(PRISTAVKA) # создаем парсер, которым будем проходить по тексту"
      ],
      "execution_count": 0,
      "outputs": []
    },
    {
      "cell_type": "code",
      "metadata": {
        "id": "6Axm-cBP2DB3",
        "colab_type": "code",
        "colab": {}
      },
      "source": [
        "matches = []\n",
        "\n",
        "for sent in data.text[:200]:\n",
        "    for match in parser.findall(sent):\n",
        "        matches.append(match.fact)"
      ],
      "execution_count": 0,
      "outputs": []
    },
    {
      "cell_type": "code",
      "metadata": {
        "scrolled": true,
        "id": "lltrCJQH2DCK",
        "colab_type": "code",
        "colab": {},
        "outputId": "cdb3d215-620a-41b8-c5c8-f382ac1338b3"
      },
      "source": [
        "for m in matches:\n",
        "    print(m.name, m.model)"
      ],
      "execution_count": 0,
      "outputs": [
        {
          "output_type": "stream",
          "text": [
            "Playstation 3\n",
            "Playstation 4\n",
            "Playstation 1\n",
            "Playstation 3\n",
            "Playstation 3\n",
            "Playstation 3\n",
            "Xbox 360\n",
            "Playstation 3\n",
            "Playstation 4\n",
            "Playstation 2\n",
            "Xbox 360\n",
            "Playstation 4\n",
            "Playstation 3\n",
            "Playstation 4\n",
            "Playstation 3\n",
            "Xbox 360\n",
            "Xbox One\n",
            "Playstation 4\n",
            "Xbox 360\n",
            "Xbox One\n",
            "Playstation 3\n",
            "Xbox 360\n",
            "Playstation 4\n",
            "Xbox 360\n",
            "Playstation 3\n",
            "Playstation 4\n",
            "Xbox 360\n",
            "Xbox One\n",
            "Playstation 4\n",
            "Playstation 4\n",
            "Xbox 360\n",
            "Playstation 3\n",
            "Playstation 3\n",
            "Xbox 360\n",
            "Xbox 360\n",
            "Playstation 3\n",
            "Playstation 3\n",
            "Playstation 3\n",
            "Playstation 4\n",
            "Playstation 4\n",
            "Playstation 4\n",
            "Xbox 360\n",
            "Xbox One\n",
            "Xbox 360\n",
            "Playstation 3\n",
            "Xbox 360\n",
            "Xbox 360\n",
            "Playstation 3\n",
            "Playstation 2\n",
            "Playstation 3\n",
            "Playstation 3\n",
            "Playstation 3\n",
            "Playstation 3\n",
            "Playstation 4\n",
            "Xbox 360\n",
            "Xbox One\n",
            "Xbox ONE\n",
            "Playstation 2\n",
            "Playstation 4\n",
            "Xbox One\n",
            "Playstation 4\n",
            "Playstation 4\n",
            "Playstation 3\n",
            "Playstation 3\n",
            "Xbox one\n",
            "Playstation 4\n"
          ],
          "name": "stdout"
        }
      ]
    },
    {
      "cell_type": "markdown",
      "metadata": {
        "id": "KZFSb-bd2DCm",
        "colab_type": "text"
      },
      "source": [
        "В общем случае к нормальной форме приводит .normalized() добавленный к атрибуту в интерпретации. Но он работает через pymorphy2, а он работает с русским языком. Поэтому в нашем случае его можно использовать только для привода к нижнему регистру."
      ]
    },
    {
      "cell_type": "markdown",
      "metadata": {
        "id": "GBfzJ0692DCx",
        "colab_type": "text"
      },
      "source": [
        "Когда у каждого и слов в газзетире есть своя нормальная форма, можно сделать газзетир словарём, где ключи это нужные формы, а значения - нормальные формы. А в интерпретации к .normalized() добавить .custom() и через него дергать нужную правильную форму."
      ]
    },
    {
      "cell_type": "code",
      "metadata": {
        "id": "7Jw8_SSF2DC1",
        "colab_type": "code",
        "colab": {}
      },
      "source": [
        "Pristavka = fact(\n",
        "    'Pristavka',\n",
        "    ['name', 'model','version']\n",
        ")\n",
        "\n",
        "VERSIONS = {\n",
        "    'super slim': 'SuperSlim',\n",
        "    'superslim': 'SuperSlim',\n",
        "    'slim': 'Slim',\n",
        "    'fat': 'Fat',\n",
        "    'pro': 'PRO',\n",
        "    'vita': 'VITA'\n",
        "}\n",
        "\n",
        "Xbox = rule(\n",
        "    morph_pipeline(['Xbox', 'X box', \"Иксбокс\"]).interpretation(Pristavka.name.const('Xbox')),\n",
        "    morph_pipeline(['360', 'one']).interpretation(Pristavka.model.normalized()),\n",
        "    in_caseless('sxe').interpretation(Pristavka.version.normalized()).optional()) \n",
        "\n",
        "PS = rule(\n",
        "    morph_pipeline(['Playstation', 'Play station', 'PS']).interpretation(Pristavka.name.const('Playstation')),\n",
        "    # для простоты можно написать вот так\n",
        "    in_('1234').interpretation(Pristavka.model.normalized()),\n",
        "    #изменения вот тут                                                      вот тут дергаем правильную форму\n",
        "    caseless_pipeline(VERSIONS).interpretation(Pristavka.version.normalized().custom(VERSIONS.get)).optional()\n",
        "    )\n",
        "PRISTAVKA = or_(PS, Xbox).interpretation(Pristavka)\n",
        "\n",
        "parser = Parser(PRISTAVKA) # создаем парсер, которым будем проходить по тексту"
      ],
      "execution_count": 0,
      "outputs": []
    },
    {
      "cell_type": "code",
      "metadata": {
        "id": "Gjym65UL2DDU",
        "colab_type": "code",
        "colab": {},
        "outputId": "5411227a-d7b7-4c31-c8e8-55f3dd0c8bf5"
      },
      "source": [
        "list(parser.findall('Playstation 3 SLIM'))[0].fact"
      ],
      "execution_count": 0,
      "outputs": [
        {
          "output_type": "execute_result",
          "data": {
            "text/plain": [
              "Pristavka(name='Playstation',\n",
              "          model='3',\n",
              "          version='Slim')"
            ]
          },
          "metadata": {
            "tags": []
          },
          "execution_count": 124
        }
      ]
    },
    {
      "cell_type": "code",
      "metadata": {
        "id": "xSD2bYPJ2DD1",
        "colab_type": "code",
        "colab": {},
        "outputId": "98df0154-a53b-40ed-827d-650d0f9d4b2b"
      },
      "source": [
        "list(parser.findall('XbOx 360 X'))[0].fact"
      ],
      "execution_count": 0,
      "outputs": [
        {
          "output_type": "execute_result",
          "data": {
            "text/plain": [
              "Pristavka(name='Xbox',\n",
              "          model='360',\n",
              "          version='x')"
            ]
          },
          "metadata": {
            "tags": []
          },
          "execution_count": 125
        }
      ]
    },
    {
      "cell_type": "code",
      "metadata": {
        "id": "HFrWPF6A2DET",
        "colab_type": "code",
        "colab": {}
      },
      "source": [
        "matches = []\n",
        "\n",
        "for sent in data.text[:200]:\n",
        "    for match in parser.findall(sent):\n",
        "        matches.append(match.fact)"
      ],
      "execution_count": 0,
      "outputs": []
    },
    {
      "cell_type": "code",
      "metadata": {
        "scrolled": true,
        "id": "VToFTynC2DE5",
        "colab_type": "code",
        "colab": {},
        "outputId": "4c1b4f22-3509-4e73-9e6f-8022a9301abe"
      },
      "source": [
        "for m in matches:\n",
        "    print(m.name, m.model)"
      ],
      "execution_count": 0,
      "outputs": [
        {
          "output_type": "stream",
          "text": [
            "Playstation 3\n",
            "Playstation 4\n",
            "Playstation 1\n",
            "Playstation 3\n",
            "Playstation 3\n",
            "Playstation 3\n",
            "Xbox 360\n",
            "Playstation 3\n",
            "Playstation 4\n",
            "Playstation 2\n",
            "Xbox 360\n",
            "Playstation 4\n",
            "Playstation 3\n",
            "Playstation 4\n",
            "Playstation 3\n",
            "Xbox 360\n",
            "Xbox one\n",
            "Playstation 4\n",
            "Xbox 360\n",
            "Xbox one\n",
            "Playstation 3\n",
            "Xbox 360\n",
            "Playstation 4\n",
            "Xbox 360\n",
            "Playstation 3\n",
            "Playstation 4\n",
            "Xbox 360\n",
            "Xbox one\n",
            "Playstation 4\n",
            "Playstation 4\n",
            "Xbox 360\n",
            "Playstation 3\n",
            "Playstation 3\n",
            "Xbox 360\n",
            "Xbox 360\n",
            "Playstation 3\n",
            "Playstation 3\n",
            "Playstation 3\n",
            "Playstation 4\n",
            "Playstation 4\n",
            "Playstation 4\n",
            "Xbox 360\n",
            "Xbox one\n",
            "Xbox 360\n",
            "Playstation 3\n",
            "Xbox 360\n",
            "Xbox 360\n",
            "Playstation 3\n",
            "Playstation 2\n",
            "Playstation 3\n",
            "Playstation 3\n",
            "Playstation 3\n",
            "Playstation 3\n",
            "Playstation 4\n",
            "Xbox 360\n",
            "Xbox one\n",
            "Xbox one\n",
            "Playstation 2\n",
            "Playstation 4\n",
            "Xbox one\n",
            "Playstation 4\n",
            "Playstation 4\n",
            "Playstation 3\n",
            "Playstation 3\n",
            "Xbox one\n",
            "Playstation 4\n"
          ],
          "name": "stdout"
        }
      ]
    },
    {
      "cell_type": "markdown",
      "metadata": {
        "id": "nZeJ6tSM2DFk",
        "colab_type": "text"
      },
      "source": [
        "Улучшения для этого типа сущностей довольно очевидные и простые - нужно расширять газзетиры, можно добавить другие приставки вроде денди и нинтендо."
      ]
    },
    {
      "cell_type": "markdown",
      "metadata": {
        "id": "96cqBFdb2DFu",
        "colab_type": "text"
      },
      "source": [
        "Для сущностей, которые нельзя перечислить словарём, нужны контекстные правила. В целом они не сильно сложнее того, что мы сейчас написали. Возможно вам понадобятся другие полезные штуки из Yargy (предикат - and_, учёт грамматической информации - gram('NOUN'), согласование по роду, числу и падежу - gnc).\n",
        "\n",
        "Учить сразу все не имеет смысла. Возьмите практическую задачу, документацию к Yargy (https://yargy.readthedocs.io/ru/latest/index.html) или примеры (https://github.com/natasha/yargy-examples) и разбирайте только то, что вам нужно. "
      ]
    }
  ]
}