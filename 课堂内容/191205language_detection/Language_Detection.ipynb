{
  "nbformat": 4,
  "nbformat_minor": 0,
  "metadata": {
    "anaconda-cloud": {},
    "kernelspec": {
      "display_name": "Python 3",
      "language": "python",
      "name": "python3"
    },
    "language_info": {
      "codemirror_mode": {
        "name": "ipython",
        "version": 3
      },
      "file_extension": ".py",
      "mimetype": "text/x-python",
      "name": "python",
      "nbconvert_exporter": "python",
      "pygments_lexer": "ipython3",
      "version": "3.6.3"
    },
    "colab": {
      "name": "Language_Detection.ipynb",
      "provenance": []
    }
  },
  "cells": [
    {
      "cell_type": "markdown",
      "metadata": {
        "id": "JioCdHyNy-Sd",
        "colab_type": "text"
      },
      "source": [
        "Семинар 2. Определение языка (language detection)\n",
        "--------------------"
      ]
    },
    {
      "cell_type": "code",
      "metadata": {
        "id": "5Q0VIxmWzdY0",
        "colab_type": "code",
        "colab": {}
      },
      "source": [
        "!pip install wikipedia"
      ],
      "execution_count": 0,
      "outputs": []
    },
    {
      "cell_type": "code",
      "metadata": {
        "id": "PJ6x3xnQy-S0",
        "colab_type": "code",
        "colab": {}
      },
      "source": [
        "import wikipedia\n",
        "import numpy as np\n",
        "import os\n",
        "import json\n",
        "import requests, re\n",
        "from time import sleep"
      ],
      "execution_count": 0,
      "outputs": []
    },
    {
      "cell_type": "markdown",
      "metadata": {
        "id": "X8z0CRcKzw1w",
        "colab_type": "text"
      },
      "source": [
        "посмотрим какие языки есть в википедии и какие коды им соответствуют:"
      ]
    },
    {
      "cell_type": "code",
      "metadata": {
        "id": "jUVqjGEwy-TU",
        "colab_type": "code",
        "colab": {}
      },
      "source": [
        "code2lang = wikipedia.languages()"
      ],
      "execution_count": 0,
      "outputs": []
    },
    {
      "cell_type": "code",
      "metadata": {
        "scrolled": true,
        "id": "HXvSrvkby-Tq",
        "colab_type": "code",
        "colab": {},
        "outputId": "a9812d7a-a194-4738-de86-e677cf280963"
      },
      "source": [
        "[(lang, name) for lang, name in list(code2lang.items()) if re.search('[а-яё]', name)]"
      ],
      "execution_count": 0,
      "outputs": [
        {
          "output_type": "execute_result",
          "data": {
            "text/plain": [
              "[('ab', 'Аҧсшәа'),\n",
              " ('ady', 'адыгабзэ'),\n",
              " ('ady-cyrl', 'адыгабзэ'),\n",
              " ('av', 'авар'),\n",
              " ('ba', 'башҡортса'),\n",
              " ('be', 'беларуская'),\n",
              " ('be-tarask', 'беларуская (тарашкевіца)\\u200e'),\n",
              " ('be-x-old', 'беларуская (тарашкевіца)\\u200e'),\n",
              " ('bg', 'български'),\n",
              " ('bxr', 'буряад'),\n",
              " ('ce', 'нохчийн'),\n",
              " ('crh-cyrl', 'къырымтатарджа (Кирилл)\\u200e'),\n",
              " ('cu', 'словѣньскъ / ⰔⰎⰑⰂⰡⰐⰠⰔⰍⰟ'),\n",
              " ('cv', 'Чӑвашла'),\n",
              " ('inh', 'ГӀалгӀай'),\n",
              " ('kbd', 'Адыгэбзэ'),\n",
              " ('kbd-cyrl', 'Адыгэбзэ'),\n",
              " ('kk', 'қазақша'),\n",
              " ('kk-cyrl', 'қазақша (кирил)\\u200e'),\n",
              " ('kk-kz', 'қазақша (Қазақстан)\\u200e'),\n",
              " ('koi', 'Перем Коми'),\n",
              " ('krc', 'къарачай-малкъар'),\n",
              " ('kum', 'къумукъ'),\n",
              " ('kv', 'коми'),\n",
              " ('ky', 'Кыргызча'),\n",
              " ('lbe', 'лакку'),\n",
              " ('lez', 'лезги'),\n",
              " ('mdf', 'мокшень'),\n",
              " ('mhr', 'олык марий'),\n",
              " ('mk', 'македонски'),\n",
              " ('mn', 'монгол'),\n",
              " ('mo', 'молдовеняскэ'),\n",
              " ('mrj', 'кырык мары'),\n",
              " ('myv', 'эрзянь'),\n",
              " ('os', 'Ирон'),\n",
              " ('ru', 'русский'),\n",
              " ('rue', 'русиньскый'),\n",
              " ('ruq-cyrl', 'Влахесте'),\n",
              " ('sah', 'саха тыла'),\n",
              " ('sh', 'srpskohrvatski / српскохрватски'),\n",
              " ('sr', 'српски / srpski'),\n",
              " ('sr-ec', 'српски (ћирилица)\\u200e'),\n",
              " ('sty', 'cебертатар'),\n",
              " ('tg', 'тоҷикӣ'),\n",
              " ('tg-cyrl', 'тоҷикӣ'),\n",
              " ('tly', 'толышә зывон'),\n",
              " ('tt', 'татарча/tatarça'),\n",
              " ('tt-cyrl', 'татарча'),\n",
              " ('tyv', 'тыва дыл'),\n",
              " ('udm', 'удмурт'),\n",
              " ('uk', 'українська'),\n",
              " ('uz', 'oʻzbekcha/ўзбекча'),\n",
              " ('uz-cyrl', 'ўзбекча'),\n",
              " ('xal', 'хальмг')]"
            ]
          },
          "metadata": {
            "tags": []
          },
          "execution_count": 93
        }
      ]
    },
    {
      "cell_type": "markdown",
      "metadata": {
        "id": "fjxfsl9Wz9GY",
        "colab_type": "text"
      },
      "source": [
        "выберем несколько языков с кириллическим алфавитом (судя по названию языка):"
      ]
    },
    {
      "cell_type": "code",
      "metadata": {
        "id": "U1DvRr8my-UX",
        "colab_type": "code",
        "colab": {}
      },
      "source": [
        "langs = ['be', 'bg', 'ky', 'lez' , 'mhr', 'mn', 'mk', 'mo', 'ru', 'sty', 'uk', 'en']"
      ],
      "execution_count": 0,
      "outputs": []
    },
    {
      "cell_type": "code",
      "metadata": {
        "id": "huBudcqGy-U7",
        "colab_type": "code",
        "colab": {},
        "outputId": "a7f307d1-a3f9-468a-8930-4d10ffd03635"
      },
      "source": [
        "# расшифровка \n",
        "[(lang, code2lang[lang]) for lang  in langs]"
      ],
      "execution_count": 0,
      "outputs": [
        {
          "output_type": "execute_result",
          "data": {
            "text/plain": [
              "[('be', 'беларуская'),\n",
              " ('bg', 'български'),\n",
              " ('ky', 'Кыргызча'),\n",
              " ('lez', 'лезги'),\n",
              " ('mhr', 'олык марий'),\n",
              " ('mn', 'монгол'),\n",
              " ('mk', 'македонски'),\n",
              " ('mo', 'молдовеняскэ'),\n",
              " ('ru', 'русский'),\n",
              " ('sty', 'cебертатар'),\n",
              " ('uk', 'українська'),\n",
              " ('en', 'English')]"
            ]
          },
          "metadata": {
            "tags": []
          },
          "execution_count": 95
        }
      ]
    },
    {
      "cell_type": "markdown",
      "metadata": {
        "id": "a-kmlEbQy-Vr",
        "colab_type": "text"
      },
      "source": [
        "Выбрать какие-то случайные статьи можно с помощью функции wikipedia.random(n) (n - число статей)\n",
        "\n",
        "Скачивание занимает некоторое время и может выдавать всякие непредсказуемые ошибки, поэтому не забывайте про добавлять обработчик исключения в аналогичные функции."
      ]
    },
    {
      "cell_type": "code",
      "metadata": {
        "id": "VU7uBTiGy-V7",
        "colab_type": "code",
        "colab": {}
      },
      "source": [
        "# def get_texts_for_lang(lang, n=100): # функция для скачивания статей из википедии\n",
        "#     wikipedia.set_lang(lang)\n",
        "#     wiki_content = []\n",
        "#     pages = wikipedia.random(n)\n",
        "    \n",
        "#     for page_name in pages:\n",
        "#         try:\n",
        "#             sleep(0.3)\n",
        "#             page = wikipedia.page(page_name)\n",
        "        \n",
        "#         except Exception as e:\n",
        "#             print('Skipping page {}'.format(page_name), e)\n",
        "#             continue\n",
        "\n",
        "#         wiki_content.append('{}\\n{}'.format(page.title, page.content.replace('==', '')))\n",
        "\n",
        "#     return wiki_content"
      ],
      "execution_count": 0,
      "outputs": []
    },
    {
      "cell_type": "code",
      "metadata": {
        "id": "BnyC8CJ7y-WV",
        "colab_type": "code",
        "colab": {}
      },
      "source": [
        "# # скачиваем по 120 случайных статей для каждого языка\n",
        "# wiki_texts = {}\n",
        "# for lang in langs:\n",
        "    \n",
        "#     try:\n",
        "#         wiki_texts[lang] = get_texts_for_lang(lang, 100)\n",
        "#     except Exception as e:\n",
        "#         print('ERROR ON - ', lang, e)\n",
        "#         continue\n",
        "#     print(lang, len(wiki_texts[lang]))"
      ],
      "execution_count": 0,
      "outputs": []
    },
    {
      "cell_type": "code",
      "metadata": {
        "id": "f8k55qwdy-Wv",
        "colab_type": "code",
        "colab": {}
      },
      "source": [
        "# # скачиваем по 120 случайных статей для каждого языка\n",
        "# wiki_texts_test = {}\n",
        "# for lang in langs:\n",
        "    \n",
        "#     try:\n",
        "#         wiki_texts_test[lang] = get_texts_for_lang(lang, 15)\n",
        "#     except Exception as e:\n",
        "#         print('ERROR ON - ', lang, e)\n",
        "#         continue\n",
        "#     print(lang, len(wiki_texts_test[lang]))"
      ],
      "execution_count": 0,
      "outputs": []
    },
    {
      "cell_type": "markdown",
      "metadata": {
        "id": "uvjfFF6uy-XM",
        "colab_type": "text"
      },
      "source": [
        "Я сделал это заранее, чтобы вам не пришлось мучаться. Скачайте их тут - https://github.com/mannefedov/compling_nlp_hse_course/blob/master/data/wiki_texts.json"
      ]
    },
    {
      "cell_type": "code",
      "metadata": {
        "scrolled": true,
        "id": "SoVUAhP1y-Xc",
        "colab_type": "code",
        "colab": {}
      },
      "source": [
        "# json.dump(wiki_texts, open('wiki_texts.json', 'w'))\n",
        "# json.dump(wiki_texts_test, open('wiki_texts_test.json', 'w'))"
      ],
      "execution_count": 0,
      "outputs": []
    },
    {
      "cell_type": "code",
      "metadata": {
        "id": "hww9AllSy-X5",
        "colab_type": "code",
        "colab": {}
      },
      "source": [
        "wiki_texts = json.loads(open('wiki_texts.json', 'r', encoding='utf8').read())\n",
        "wiki_texts_test = json.loads(open('wiki_texts_test.json', 'r', encoding='utf8').read())\n"
      ],
      "execution_count": 0,
      "outputs": []
    },
    {
      "cell_type": "code",
      "metadata": {
        "id": "TCdbSLGjy-Yg",
        "colab_type": "code",
        "colab": {},
        "outputId": "6b37e5c1-4135-42cc-b4b0-4e5d1a3bdd07"
      },
      "source": [
        "list(wiki_texts.keys())"
      ],
      "execution_count": 0,
      "outputs": [
        {
          "output_type": "execute_result",
          "data": {
            "text/plain": [
              "['be', 'bg', 'ky', 'lez', 'mhr', 'mn', 'mk', 'ru', 'uk', 'en']"
            ]
          },
          "metadata": {
            "tags": []
          },
          "execution_count": 101
        }
      ]
    },
    {
      "cell_type": "code",
      "metadata": {
        "id": "m4EfveAey-ZB",
        "colab_type": "code",
        "colab": {},
        "outputId": "c668cf6b-6ae5-4b9d-f94f-c315ddba17df"
      },
      "source": [
        "list(wiki_texts_test.keys())"
      ],
      "execution_count": 0,
      "outputs": [
        {
          "output_type": "execute_result",
          "data": {
            "text/plain": [
              "['be', 'bg', 'ky', 'lez', 'mhr', 'mn', 'mk', 'ru', 'uk', 'en']"
            ]
          },
          "metadata": {
            "tags": []
          },
          "execution_count": 102
        }
      ]
    },
    {
      "cell_type": "code",
      "metadata": {
        "id": "M8qZpLlzy-Zm",
        "colab_type": "code",
        "colab": {}
      },
      "source": [
        "langs = list(wiki_texts.keys())"
      ],
      "execution_count": 0,
      "outputs": []
    },
    {
      "cell_type": "markdown",
      "metadata": {
        "id": "eKAz9xn_y-aB",
        "colab_type": "text"
      },
      "source": [
        "## Как можно определить язык?"
      ]
    },
    {
      "cell_type": "markdown",
      "metadata": {
        "id": "AAX7Zf_5y-aG",
        "colab_type": "text"
      },
      "source": [
        "### 1 По набору букв"
      ]
    },
    {
      "cell_type": "markdown",
      "metadata": {
        "id": "ol9B4Uiay-aV",
        "colab_type": "text"
      },
      "source": [
        "У каждого языка есть какой-то определенный набор символов, которые в нем используются. Даже между двумя очень близкими языками есть различия на уровне символовов. Попробуем определять язык по множеству символов."
      ]
    },
    {
      "cell_type": "code",
      "metadata": {
        "id": "i870_9vdy-aZ",
        "colab_type": "code",
        "colab": {}
      },
      "source": [
        "from collections import defaultdict, Counter\n",
        "from string import punctuation, digits\n",
        "punctuation = set(punctuation + '«»—…“”\\n\\t' + digits)"
      ],
      "execution_count": 0,
      "outputs": []
    },
    {
      "cell_type": "markdown",
      "metadata": {
        "id": "gb5w6Qpvy-ar",
        "colab_type": "text"
      },
      "source": [
        "Создадим множества символов, представляющих язык, по скачанным текстам."
      ]
    },
    {
      "cell_type": "markdown",
      "metadata": {
        "id": "lis2tDVsy-a5",
        "colab_type": "text"
      },
      "source": [
        "Нужно создать словарь, в котром каждому ключу соотвествует множество. Удобно это сделать с помощью defaultdict. Он устроен примерно как обычный питоновский словарь, но ему можно задать значение нового ключа по умолчанию. \n",
        "Синтаксис такой:\n",
        "\n",
        "***d = defaultdict(callable)***\n",
        "\n",
        "\n",
        "callable - это такой питоновский объект, который можно вызвать (добавив скобки) и он что-то вернет. Соответственно, для каждого нового элемента будет вызываться этот callable и присваивать элементу значение, которое он вернет. \n",
        "Например, **set** - это callable, который при вызове ***set()*** вернет пустое множество. То есть, каждому новому элементу будет соответствовать пустое множество. Аналогично будет с int, dict, tuple, str, float.\n",
        "\n",
        "Если нужно сделать какой-то особое значение по умолчанию, можно написать отдельную функцию или сделать это через lambda. Например, lamda: {'хороших':0, 'плохих':0} сделает так, чтобы каждому элементу по умолчанию ставился словарь с двумя ключами (хороших, плохих) и нулевыми значениями.\n",
        "\n",
        "Когда используете defaultdict, помните, d['random_stuff'] не выдаст никакой ошибки и у вас в словаре появится этот объект.\n"
      ]
    },
    {
      "cell_type": "markdown",
      "metadata": {
        "id": "KxEgfRRSy-bG",
        "colab_type": "text"
      },
      "source": [
        "\n",
        "### Пример того, как defaultdict упрощает код:    "
      ]
    },
    {
      "cell_type": "code",
      "metadata": {
        "id": "j6NG16cey-bT",
        "colab_type": "code",
        "colab": {}
      },
      "source": [
        "# создадим словарь, где ключ - символы, а значения все слова в которых он встречается\n",
        "dictionary = {}\n",
        "tokens = ['i', 'have', 'too', 'many', 'deadlines']\n",
        "\n",
        "for token in tokens:\n",
        "    for char in token:\n",
        "        if char in dictionary:\n",
        "            dictionary[char].add(token)\n",
        "        else:\n",
        "            dictionary[char] = {token}"
      ],
      "execution_count": 0,
      "outputs": []
    },
    {
      "cell_type": "code",
      "metadata": {
        "id": "PnlEVI9fy-bj",
        "colab_type": "code",
        "colab": {},
        "outputId": "686a2d95-99b4-4363-f76f-9ee73f94db9f"
      },
      "source": [
        "dictionary"
      ],
      "execution_count": 0,
      "outputs": [
        {
          "output_type": "execute_result",
          "data": {
            "text/plain": [
              "{'i': {'deadlines', 'i'},\n",
              " 'h': {'have'},\n",
              " 'a': {'deadlines', 'have', 'many'},\n",
              " 'v': {'have'},\n",
              " 'e': {'deadlines', 'have'},\n",
              " 't': {'too'},\n",
              " 'o': {'too'},\n",
              " 'm': {'many'},\n",
              " 'n': {'deadlines', 'many'},\n",
              " 'y': {'many'},\n",
              " 'd': {'deadlines'},\n",
              " 'l': {'deadlines'},\n",
              " 's': {'deadlines'}}"
            ]
          },
          "metadata": {
            "tags": []
          },
          "execution_count": 106
        }
      ]
    },
    {
      "cell_type": "code",
      "metadata": {
        "id": "L4wQ_sVgy-b6",
        "colab_type": "code",
        "colab": {}
      },
      "source": [
        "# создадим словарь, где ключ - символы, а значения все слова в которых он встречается\n",
        "dictionary = defaultdict(set)\n",
        "tokens = ['i', 'have', 'too', 'many', 'deadlines']\n",
        "\n",
        "for token in tokens:\n",
        "    for char in token:\n",
        "        dictionary[char].add(token)"
      ],
      "execution_count": 0,
      "outputs": []
    },
    {
      "cell_type": "code",
      "metadata": {
        "id": "Z-_Iq1vQy-cW",
        "colab_type": "code",
        "colab": {},
        "outputId": "1aecc31c-bebf-4458-a5be-ed83730b22da"
      },
      "source": [
        "dictionary"
      ],
      "execution_count": 0,
      "outputs": [
        {
          "output_type": "execute_result",
          "data": {
            "text/plain": [
              "defaultdict(set,\n",
              "            {'i': {'deadlines', 'i'},\n",
              "             'h': {'have'},\n",
              "             'a': {'deadlines', 'have', 'many'},\n",
              "             'v': {'have'},\n",
              "             'e': {'deadlines', 'have'},\n",
              "             't': {'too'},\n",
              "             'o': {'too'},\n",
              "             'm': {'many'},\n",
              "             'n': {'deadlines', 'many'},\n",
              "             'y': {'many'},\n",
              "             'd': {'deadlines'},\n",
              "             'l': {'deadlines'},\n",
              "             's': {'deadlines'}})"
            ]
          },
          "metadata": {
            "tags": []
          },
          "execution_count": 108
        }
      ]
    },
    {
      "cell_type": "code",
      "metadata": {
        "id": "7PYRz-Aoy-du",
        "colab_type": "code",
        "colab": {}
      },
      "source": [
        "lang2chars = defaultdict(set)\n",
        "\n",
        "# операция \"-\" для множества означает разность, т.е. \"все елементы x, которых нет в y\"\n",
        "# удобно таким образом отфильтровать все знаки пунктуации\n",
        "for lang in langs:\n",
        "    for text in wiki_texts[lang]:\n",
        "        chars = [ch for ch in text.lower() if ch not in punctuation]\n",
        "        top_chars = [char for char, _ in Counter(chars).most_common(30)]\n",
        "        \n",
        "        lang2chars[lang].update(top_chars)"
      ],
      "execution_count": 0,
      "outputs": []
    },
    {
      "cell_type": "code",
      "metadata": {
        "id": "wf20cjoDy-ea",
        "colab_type": "code",
        "colab": {},
        "outputId": "344eb448-ebb6-44cd-f384-dee01a075dc8"
      },
      "source": [
        "lang2chars.keys()"
      ],
      "execution_count": 0,
      "outputs": [
        {
          "output_type": "execute_result",
          "data": {
            "text/plain": [
              "dict_keys(['be', 'bg', 'ky', 'lez', 'mhr', 'mn', 'mk', 'ru', 'uk', 'en'])"
            ]
          },
          "metadata": {
            "tags": []
          },
          "execution_count": 110
        }
      ]
    },
    {
      "cell_type": "code",
      "metadata": {
        "id": "lKboPBvay-ex",
        "colab_type": "code",
        "colab": {},
        "outputId": "d011569f-f658-44e9-f475-f057d00bd829"
      },
      "source": [
        "# посмотрим на какой-нибудь язык\n",
        "len(lang2chars['ru'])"
      ],
      "execution_count": 0,
      "outputs": [
        {
          "output_type": "execute_result",
          "data": {
            "text/plain": [
              "68"
            ]
          },
          "metadata": {
            "tags": []
          },
          "execution_count": 111
        }
      ]
    },
    {
      "cell_type": "markdown",
      "metadata": {
        "id": "w-YV6jDey-fB",
        "colab_type": "text"
      },
      "source": [
        "Теперь сделаем функцию, которая предсказывает язык на основе пересечения множеств символов."
      ]
    },
    {
      "cell_type": "code",
      "metadata": {
        "id": "Brpk-fvzy-fE",
        "colab_type": "code",
        "colab": {}
      },
      "source": [
        "# оператор & означает пересечение\n",
        "\n",
        "def predict_language(text, lang2char):\n",
        "    text_chars = set(text.lower())\n",
        "    lang2sim = {}\n",
        "    for lang in lang2char:\n",
        "        intersect = len((text_chars - punctuation) & lang2char[lang])\n",
        "        lang2sim[lang] = intersect\n",
        "    \n",
        "#     return lang2sim.items()\n",
        "    return max(lang2sim, key=lang2sim.get)"
      ],
      "execution_count": 0,
      "outputs": []
    },
    {
      "cell_type": "code",
      "metadata": {
        "id": "XG13l1Xry-fm",
        "colab_type": "code",
        "colab": {},
        "outputId": "b2815abc-0cf2-4afc-ddab-6463ebc0f509"
      },
      "source": [
        "predict_language('какой это язык', lang2chars)"
      ],
      "execution_count": 0,
      "outputs": [
        {
          "output_type": "execute_result",
          "data": {
            "text/plain": [
              "'be'"
            ]
          },
          "metadata": {
            "tags": []
          },
          "execution_count": 113
        }
      ]
    },
    {
      "cell_type": "code",
      "metadata": {
        "id": "VQuTpYley-f4",
        "colab_type": "code",
        "colab": {}
      },
      "source": [
        "# отклассифицурем все тексты, которые у нас есть\n",
        "from sklearn.metrics import classification_report, confusion_matrix"
      ],
      "execution_count": 0,
      "outputs": []
    },
    {
      "cell_type": "code",
      "metadata": {
        "id": "DXKJKNmFy-gH",
        "colab_type": "code",
        "colab": {}
      },
      "source": [
        "true_labels = []\n",
        "predicted_labels = []\n",
        "\n",
        "for lang in langs:\n",
        "    for text in wiki_texts_test[lang]:\n",
        "        true_labels.append(lang)\n",
        "        predicted_labels.append(predict_language(text, lang2chars))"
      ],
      "execution_count": 0,
      "outputs": []
    },
    {
      "cell_type": "code",
      "metadata": {
        "id": "R83XO9DJy-ge",
        "colab_type": "code",
        "colab": {},
        "outputId": "16f8bbae-91d4-4733-f289-b197b642d115"
      },
      "source": [
        "print(classification_report(true_labels, predicted_labels, ))"
      ],
      "execution_count": 0,
      "outputs": [
        {
          "output_type": "stream",
          "text": [
            "              precision    recall  f1-score   support\n",
            "\n",
            "          be       0.69      0.92      0.79        12\n",
            "          bg       0.75      0.86      0.80        14\n",
            "          en       1.00      0.87      0.93        15\n",
            "          ky       0.56      0.93      0.70        15\n",
            "         lez       0.68      0.87      0.76        15\n",
            "         mhr       0.92      0.86      0.89        14\n",
            "          mk       1.00      1.00      1.00        14\n",
            "          mn       0.29      0.13      0.18        15\n",
            "          ru       0.86      0.40      0.55        15\n",
            "          uk       1.00      0.92      0.96        12\n",
            "\n",
            "    accuracy                           0.77       141\n",
            "   macro avg       0.77      0.77      0.76       141\n",
            "weighted avg       0.77      0.77      0.75       141\n",
            "\n"
          ],
          "name": "stdout"
        }
      ]
    },
    {
      "cell_type": "code",
      "metadata": {
        "id": "GpAbgR0xy-g0",
        "colab_type": "code",
        "colab": {}
      },
      "source": [
        "labels = list(set(true_labels))"
      ],
      "execution_count": 0,
      "outputs": []
    },
    {
      "cell_type": "code",
      "metadata": {
        "id": "JV0nAB9Yy-hV",
        "colab_type": "code",
        "colab": {},
        "outputId": "b634fc95-4f5d-477b-fcaa-bb84f5c3fd03"
      },
      "source": [
        "print(confusion_matrix(true_labels, predicted_labels, labels = labels))"
      ],
      "execution_count": 0,
      "outputs": [
        {
          "output_type": "stream",
          "text": [
            "[[13  1  0  0  1  0  0  0  0  0]\n",
            " [ 1 12  0  0  0  0  0  0  1  0]\n",
            " [ 0  2 13  0  0  0  0  0  0  0]\n",
            " [ 1  0  0 12  1  0  0  0  0  0]\n",
            " [ 0  1  0  0 11  0  0  0  0  0]\n",
            " [ 0  0  0  0  0 14  0  0  0  0]\n",
            " [ 4  0  0  1  1  0  6  0  3  0]\n",
            " [ 0  0  0  0  0  0  1 11  0  0]\n",
            " [ 0  0  0  0  2  0  0  0  2 11]\n",
            " [ 0  0  0  0  0  0  0  0  1 14]]\n"
          ],
          "name": "stdout"
        }
      ]
    },
    {
      "cell_type": "code",
      "metadata": {
        "id": "hLv5IwrCy-ht",
        "colab_type": "code",
        "colab": {}
      },
      "source": [
        ""
      ],
      "execution_count": 0,
      "outputs": []
    },
    {
      "cell_type": "code",
      "metadata": {
        "id": "-RJqh6OAy-iL",
        "colab_type": "code",
        "colab": {}
      },
      "source": [
        "import seaborn as sns\n",
        "import matplotlib.pyplot as plt\n",
        "%matplotlib inline  "
      ],
      "execution_count": 0,
      "outputs": []
    },
    {
      "cell_type": "code",
      "metadata": {
        "id": "W9U5Jqm1y-ig",
        "colab_type": "code",
        "colab": {},
        "outputId": "44a8dea8-c2e8-42b5-fc3a-a7eb4383cb43"
      },
      "source": [
        "fig, ax = plt.subplots(figsize=(10,5))\n",
        "sns.heatmap(data=confusion_matrix(true_labels, predicted_labels, labels = labels), \n",
        "            annot=True, \n",
        "            fmt=\"d\", xticklabels=labels, yticklabels=labels, ax=ax)\n",
        "plt.title(\"Confusion matrix\")\n",
        "plt.show()"
      ],
      "execution_count": 0,
      "outputs": [
        {
          "output_type": "display_data",
          "data": {
            "image/png": "[encoded data removed]",
            "text/plain": [
              "<Figure size 720x360 with 2 Axes>"
            ]
          },
          "metadata": {
            "tags": [],
            "needs_background": "light"
          }
        }
      ]
    },
    {
      "cell_type": "markdown",
      "metadata": {
        "id": "ew5XEgZ_y-i7",
        "colab_type": "text"
      },
      "source": [
        "### 2 По набору буквенных нграм"
      ]
    },
    {
      "cell_type": "markdown",
      "metadata": {
        "id": "nU0YbkbGy-jH",
        "colab_type": "text"
      },
      "source": [
        "Буквенных нграм слишком много для одного множества, поэтому нужно как-то выделить топ-N."
      ]
    },
    {
      "cell_type": "markdown",
      "metadata": {
        "id": "hu4VkGtyy-jM",
        "colab_type": "text"
      },
      "source": [
        "Для частотностей есть Counter. По сути это ***defaultdict(int)*** только немного удобнее.\n",
        "Можно создавать Counter из любого iterable объекта, складывать два каунтера (одинаковые знаения сложатся, а новые просто добавятся, удобно сортировать элементы по частотности методов Counter.most_common(topn)"
      ]
    },
    {
      "cell_type": "code",
      "metadata": {
        "id": "rnLyVMaqy-jQ",
        "colab_type": "code",
        "colab": {}
      },
      "source": [
        "from collections import Counter"
      ],
      "execution_count": 0,
      "outputs": []
    },
    {
      "cell_type": "code",
      "metadata": {
        "id": "Boik0oJcy-jg",
        "colab_type": "code",
        "colab": {}
      },
      "source": [
        "# функция для создания нграммов из строки\n",
        "def n_grams(text, n=2):\n",
        "    # удаляем пунктуацию\n",
        "    text_wo_punct = ''.join([ch for ch in text if ch not in punctuation])\n",
        "    # создаем нграммы, выкидываем пробелы на концах нграммов\n",
        "    ngrams = [text_wo_punct[i:i+n].strip(' ') for i in range(0, len(text_wo_punct)+1-n)]\n",
        "    \n",
        "    return set(ngrams)"
      ],
      "execution_count": 0,
      "outputs": []
    },
    {
      "cell_type": "code",
      "metadata": {
        "id": "-w-uKrLry-jy",
        "colab_type": "code",
        "colab": {}
      },
      "source": [
        "# посчитаем частотность нграммов\n",
        "lang2char_ngrams_freqs = defaultdict(Counter)\n",
        "\n",
        "for lang in langs:\n",
        "    for text in wiki_texts[lang]:\n",
        "        char_ngrams = n_grams(text.lower(), 3)\n",
        "        lang2char_ngrams_freqs[lang].update(filter(bool, char_ngrams))\n",
        "\n",
        "# сделаем множества с топ 300 нграммамим\n",
        "\n",
        "lang2char_ngrams = {}\n",
        "for lang in lang2char_ngrams_freqs:\n",
        "    topn = [word for word, freq in lang2char_ngrams_freqs[lang].most_common(300)]\n",
        "    lang2char_ngrams[lang] = set(topn)\n"
      ],
      "execution_count": 0,
      "outputs": []
    },
    {
      "cell_type": "code",
      "metadata": {
        "scrolled": true,
        "id": "cHmdfSn3y-kM",
        "colab_type": "code",
        "colab": {},
        "outputId": "56e6a7ad-0907-4dda-c4cf-49011c8d3e35"
      },
      "source": [
        "list(lang2char_ngrams['ru'])[:15]"
      ],
      "execution_count": 0,
      "outputs": [
        {
          "output_type": "execute_result",
          "data": {
            "text/plain": [
              "['ате',\n",
              " 'а т',\n",
              " 'ост',\n",
              " 'ран',\n",
              " 'нос',\n",
              " 'а п',\n",
              " 'т',\n",
              " 'лов',\n",
              " 'или',\n",
              " 'ло',\n",
              " 'я с',\n",
              " 'да',\n",
              " 'им',\n",
              " 'а с',\n",
              " 'чан']"
            ]
          },
          "metadata": {
            "tags": []
          },
          "execution_count": 124
        }
      ]
    },
    {
      "cell_type": "code",
      "metadata": {
        "id": "WFdCATHfy-ku",
        "colab_type": "code",
        "colab": {}
      },
      "source": [
        "def predict_language(text, lang2char):\n",
        "    text_ngrams = n_grams(text.lower(), 3)\n",
        "    \n",
        "    lang2sim = {}\n",
        "    \n",
        "    for lang in lang2char:\n",
        "        intersect = len(text_ngrams & lang2char[lang])\n",
        "        lang2sim[lang] = intersect\n",
        "    \n",
        "    return max(lang2sim, key=lang2sim.get)\n",
        "#     return lang2sim"
      ],
      "execution_count": 0,
      "outputs": []
    },
    {
      "cell_type": "code",
      "metadata": {
        "id": "llV7-Iefy-lE",
        "colab_type": "code",
        "colab": {},
        "outputId": "cf03345e-30f8-4209-d981-c36e39a302bf"
      },
      "source": [
        "predict_language('What kinda language is that', lang2char_ngrams)"
      ],
      "execution_count": 0,
      "outputs": [
        {
          "output_type": "execute_result",
          "data": {
            "text/plain": [
              "'en'"
            ]
          },
          "metadata": {
            "tags": []
          },
          "execution_count": 126
        }
      ]
    },
    {
      "cell_type": "code",
      "metadata": {
        "id": "rRsmXbmSy-ly",
        "colab_type": "code",
        "colab": {},
        "outputId": "3386fb9c-f8e0-4eab-9643-417644dceb7c"
      },
      "source": [
        "predict_language('что это за язык', lang2char_ngrams)"
      ],
      "execution_count": 0,
      "outputs": [
        {
          "output_type": "execute_result",
          "data": {
            "text/plain": [
              "'uk'"
            ]
          },
          "metadata": {
            "tags": []
          },
          "execution_count": 127
        }
      ]
    },
    {
      "cell_type": "code",
      "metadata": {
        "id": "NILpcswly-ma",
        "colab_type": "code",
        "colab": {}
      },
      "source": [
        "true_labels = []\n",
        "predicted_labels = []\n",
        "\n",
        "for lang in langs:\n",
        "    for text in wiki_texts_test[lang]:\n",
        "        true_labels.append(lang)\n",
        "        predicted_labels.append(predict_language(text, lang2char_ngrams))"
      ],
      "execution_count": 0,
      "outputs": []
    },
    {
      "cell_type": "code",
      "metadata": {
        "scrolled": true,
        "id": "hWps-zoty-my",
        "colab_type": "code",
        "colab": {},
        "outputId": "7d042bac-1547-4aef-e121-b41f95668a8c"
      },
      "source": [
        "print(classification_report(true_labels, predicted_labels))"
      ],
      "execution_count": 0,
      "outputs": [
        {
          "output_type": "stream",
          "text": [
            "              precision    recall  f1-score   support\n",
            "\n",
            "          be       1.00      1.00      1.00        12\n",
            "          bg       1.00      1.00      1.00        14\n",
            "          en       1.00      1.00      1.00        15\n",
            "          ky       0.94      1.00      0.97        15\n",
            "         lez       1.00      1.00      1.00        15\n",
            "         mhr       1.00      0.93      0.96        14\n",
            "          mk       1.00      1.00      1.00        14\n",
            "          mn       1.00      1.00      1.00        15\n",
            "          ru       1.00      1.00      1.00        15\n",
            "          uk       1.00      1.00      1.00        12\n",
            "\n",
            "    accuracy                           0.99       141\n",
            "   macro avg       0.99      0.99      0.99       141\n",
            "weighted avg       0.99      0.99      0.99       141\n",
            "\n"
          ],
          "name": "stdout"
        }
      ]
    },
    {
      "cell_type": "code",
      "metadata": {
        "id": "auAaLD4Sy-nS",
        "colab_type": "code",
        "colab": {},
        "outputId": "f551bace-3893-4c3f-e037-32858c5a6527"
      },
      "source": [
        "fig, ax = plt.subplots(figsize=(10,5))\n",
        "sns.heatmap(data=confusion_matrix(true_labels, predicted_labels, labels = labels), \n",
        "            annot=True, \n",
        "            fmt=\"d\", xticklabels=labels, yticklabels=labels, ax=ax)\n",
        "plt.title(\"Confusion matrix\")\n",
        "plt.show()"
      ],
      "execution_count": 0,
      "outputs": [
        {
          "output_type": "display_data",
          "data": {
            "image/png": "[encoded data removed]",
            "text/plain": [
              "<Figure size 720x360 with 2 Axes>"
            ]
          },
          "metadata": {
            "tags": [],
            "needs_background": "light"
          }
        }
      ]
    },
    {
      "cell_type": "markdown",
      "metadata": {
        "id": "zKxQUlXqy-oL",
        "colab_type": "text"
      },
      "source": [
        "Местами есть проблемы, но в основном все отлично"
      ]
    },
    {
      "cell_type": "markdown",
      "metadata": {
        "id": "NygQbb7vy-oX",
        "colab_type": "text"
      },
      "source": [
        "Напишем функцию, которая будет принимать текст производной длинны и языка (из тех, что у нас уже есть) и выводить основной язык и слова, которые не соответствуют это языку текста.\n",
        "\n",
        "То есть по запросу \"шо это за язык?\n",
        "должно получится \"Основной язык  - ru, не соотвествующее слова: шо\""
      ]
    },
    {
      "cell_type": "code",
      "metadata": {
        "id": "a9OPG7iOy-ob",
        "colab_type": "code",
        "colab": {}
      },
      "source": [
        "punct = ''.join(punctuation)\n",
        "\n",
        "def predict_foreign_words(text):\n",
        "    lang = predict_language(text, lang2char_ngrams)\n",
        "    \n",
        "    words = [word.strip(punct) for word in text.lower().split()]\n",
        "    foreign_words = []\n",
        "    for word in words:\n",
        "        lang_word = predict_language(word, lang2char_ngrams)\n",
        "        if lang_word != lang:\n",
        "            foreign_words.append(word)\n",
        "    \n",
        "\n",
        "    \n",
        "    return lang, foreign_words"
      ],
      "execution_count": 0,
      "outputs": []
    },
    {
      "cell_type": "markdown",
      "metadata": {
        "id": "OfnhiOtgy-o2",
        "colab_type": "text"
      },
      "source": [
        "Вот так это примерно работает (у меня получается плохо)"
      ]
    },
    {
      "cell_type": "code",
      "metadata": {
        "id": "PmvfUz8Cy-o-",
        "colab_type": "code",
        "colab": {},
        "outputId": "a2dc88d7-f5a5-4096-eb56-f33112648bca"
      },
      "source": [
        "test_text_1 = 'Младший лейтенант мальчик молодой everybody хотят to dance с тобой'\n",
        "print(predict_foreign_words(test_text_1))"
      ],
      "execution_count": 0,
      "outputs": [
        {
          "output_type": "stream",
          "text": [
            "('mn', ['младший', 'лейтенант', 'мальчик', 'everybody', 'to', 'dance', 'с', 'тобой'])\n"
          ],
          "name": "stdout"
        }
      ]
    },
    {
      "cell_type": "code",
      "metadata": {
        "id": "ue4Tirkly-p6",
        "colab_type": "code",
        "colab": {},
        "outputId": "68a14524-e65b-4683-9702-1454fd61ca65"
      },
      "source": [
        "test_text_2 = 'Тут хто-нэбудь розмовляйе по-русски?'\n",
        "print(predict_foreign_words(test_text_2 ))"
      ],
      "execution_count": 0,
      "outputs": [
        {
          "output_type": "stream",
          "text": [
            "('bg', ['тут', 'хто-нэбудь', 'розмовляйе', 'по-русски'])\n"
          ],
          "name": "stdout"
        }
      ]
    },
    {
      "cell_type": "code",
      "metadata": {
        "id": "IjdniyNxy-qo",
        "colab_type": "code",
        "colab": {},
        "outputId": "af0dbc04-7038-4c63-946e-1a0b5677b279"
      },
      "source": [
        "test_text_3 = 'Як дабрацца российского пасольства??'\n",
        "print(predict_foreign_words(test_text_3 ))"
      ],
      "execution_count": 0,
      "outputs": [
        {
          "output_type": "stream",
          "text": [
            "('be', ['российского'])\n"
          ],
          "name": "stdout"
        }
      ]
    },
    {
      "cell_type": "code",
      "metadata": {
        "id": "HKO1YypKy-rD",
        "colab_type": "code",
        "colab": {},
        "outputId": "b2501439-2e76-4406-f237-37e2535ad773"
      },
      "source": [
        "test_text_4 = 'Ончыч Куженер кундемысе «Ӱжара» газета редакторлан тыршен,\\\n",
        "вара райсовет исполкомын вуйлатышыжлан,\\\n",
        "КПСС райкомын икымше секретарьжылан ыштен.'\n",
        "print(predict_foreign_words(test_text_4))"
      ],
      "execution_count": 0,
      "outputs": [
        {
          "output_type": "stream",
          "text": [
            "('ky', ['ончыч', 'куженер', 'кундемысе', 'ӱжара', 'газета', 'тыршен,вара', 'райсовет', 'исполкомын', 'райкомын', 'икымше', 'ыштен'])\n"
          ],
          "name": "stdout"
        }
      ]
    },
    {
      "cell_type": "markdown",
      "metadata": {
        "id": "RGpKqIety-rY",
        "colab_type": "text"
      },
      "source": [
        "## Добавим частотности"
      ]
    },
    {
      "cell_type": "markdown",
      "metadata": {
        "id": "zFDjCQCzy-rc",
        "colab_type": "text"
      },
      "source": [
        "До этого мы учитывали только само наличие нграмм или символов, но очевидно, что важно ещё и распределние частот по этим нграммам. В родственных языках символы могут быть почти одинаковые, но вот частота употребления точно будет отличаться."
      ]
    },
    {
      "cell_type": "markdown",
      "metadata": {
        "id": "f6rjasWEy-rp",
        "colab_type": "text"
      },
      "source": [
        "Попробуем представить каждый язык как распределение на символьных нграммах."
      ]
    },
    {
      "cell_type": "code",
      "metadata": {
        "id": "zqJR73jQy-rt",
        "colab_type": "code",
        "colab": {}
      },
      "source": [
        "import numpy as np"
      ],
      "execution_count": 0,
      "outputs": []
    },
    {
      "cell_type": "code",
      "metadata": {
        "id": "HP7XcJsjy-sG",
        "colab_type": "code",
        "colab": {}
      },
      "source": [
        "# cоздадим общий словарь нграммов с частотностью\n",
        "vocab = Counter()\n",
        "\n",
        "for lang in langs:\n",
        "    for text in wiki_texts[lang]:\n",
        "        vocab.update(n_grams(text, 3))\n",
        "\n",
        "# выберем топ-3000 нграммов и сохраним их в список\n",
        "vocab = [word for word,_ in vocab.most_common(3000)]\n",
        "#сделаем словарь нграм-индекс, индекс слова для удобства\n",
        "id2ngram = {i:ngram for i, ngram in enumerate(vocab)}\n",
        "ngram2id = {ngram:i for i, ngram in enumerate(vocab)}"
      ],
      "execution_count": 0,
      "outputs": []
    },
    {
      "cell_type": "markdown",
      "metadata": {
        "id": "WZgf4MoOy-sX",
        "colab_type": "text"
      },
      "source": [
        "Теперь нужно представить каждый язык, как вектор размером словаря."
      ]
    },
    {
      "cell_type": "markdown",
      "metadata": {
        "id": "Pmh0NCany-sb",
        "colab_type": "text"
      },
      "source": [
        "Чтобы было понятнее вот пример со словами. Каждая строчка - текст, а в колонках слова. Число на пересечении показывает, сколько раз это слово встретилось в этом тексте."
      ]
    },
    {
      "cell_type": "markdown",
      "metadata": {
        "id": "mP6EXAbGy-sg",
        "colab_type": "text"
      },
      "source": [
        "![title](https://github.com/Yan-Weijia/CompLing/blob/master/%E8%AF%BE%E5%A0%82%E5%86%85%E5%AE%B9/191205language_detection/matrix_text.png?raw=1)"
      ]
    },
    {
      "cell_type": "markdown",
      "metadata": {
        "id": "9lN0bD1uy-sp",
        "colab_type": "text"
      },
      "source": [
        "Создаем матрицу."
      ]
    },
    {
      "cell_type": "code",
      "metadata": {
        "id": "NyMeToOLy-sy",
        "colab_type": "code",
        "colab": {}
      },
      "source": [
        "lang_matrix = np.zeros((len(langs), len(vocab)))"
      ],
      "execution_count": 0,
      "outputs": []
    },
    {
      "cell_type": "markdown",
      "metadata": {
        "id": "vomDB9C2y-tJ",
        "colab_type": "text"
      },
      "source": [
        "Заполняем матрицу значениями. Вместо простых нулей и единиц будет ставить колиство вхождений."
      ]
    },
    {
      "cell_type": "code",
      "metadata": {
        "id": "3EvcQc5-y-tV",
        "colab_type": "code",
        "colab": {}
      },
      "source": [
        "for i, lang in enumerate(langs):\n",
        "    \n",
        "    for text in wiki_texts[lang]:\n",
        "        ngrams = n_grams(text.lower(), 3)\n",
        "        \n",
        "        for ngram in ngrams:\n",
        "            if ngram in ngram2id:\n",
        "                lang_matrix[i][ngram2id[ngram]] += 1\n",
        "            \n",
        "            "
      ],
      "execution_count": 0,
      "outputs": []
    },
    {
      "cell_type": "code",
      "metadata": {
        "id": "sti6q5Vky-tv",
        "colab_type": "code",
        "colab": {},
        "outputId": "e08eeb3d-310a-4b76-c0f2-4af443c1bcf2"
      },
      "source": [
        "lang_matrix"
      ],
      "execution_count": 0,
      "outputs": [
        {
          "output_type": "execute_result",
          "data": {
            "text/plain": [
              "array([[84., 87., 41., ...,  3.,  0.,  1.],\n",
              "       [95., 84., 60., ...,  2.,  0.,  2.],\n",
              "       [88., 79., 90., ...,  0.,  0.,  1.],\n",
              "       ...,\n",
              "       [96., 83., 71., ...,  4.,  0.,  2.],\n",
              "       [90., 76., 50., ...,  6.,  0.,  0.],\n",
              "       [ 0.,  0.,  0., ..., 31.,  0., 43.]])"
            ]
          },
          "metadata": {
            "tags": []
          },
          "execution_count": 152
        }
      ]
    },
    {
      "cell_type": "markdown",
      "metadata": {
        "id": "auOiEuJIy-uB",
        "colab_type": "text"
      },
      "source": [
        "Чтобы найти близость между такими векторами нужно рассчитать косинусную близость."
      ]
    },
    {
      "cell_type": "markdown",
      "metadata": {
        "id": "jytJZRQ9y-uD",
        "colab_type": "text"
      },
      "source": [
        "![title](https://github.com/Yan-Weijia/CompLing/blob/master/%E8%AF%BE%E5%A0%82%E5%86%85%E5%AE%B9/191205language_detection/cosine.png?raw=1)"
      ]
    },
    {
      "cell_type": "markdown",
      "metadata": {
        "id": "mMcNwExwy-uG",
        "colab_type": "text"
      },
      "source": [
        "Вверху этой формулы стоит скалярное произведение. Это операция на двух векторах одинаковой длины, когда элементы стоящие по одним и тем же индексам перемножаются, а результат складывается. Чтобы понять какой-результат это даёт, посмотрите внимательно на матрицу выше и попробуйте в уме вычислить скалярное произведение. \n",
        "\n",
        "Если в тексте 1 и в тексте 2 есть какое-то слово, то результат будет положительный, а если слова нет в одном из текстов или сразу в обоих, то получится ноль. В итоге у текстов, состоящих из одних и тех же слов, скалярное произведение будет больше.\n",
        "\n",
        "Внизу стоит умножение длин векторов. Это нужно для нормализации значения близости."
      ]
    },
    {
      "cell_type": "code",
      "metadata": {
        "id": "QM7V-XRAy-uJ",
        "colab_type": "code",
        "colab": {}
      },
      "source": [
        "def vectorize(text, ngram2id):\n",
        "    ngrams = n_grams(text.lower(), 3)\n",
        "    vec = np.zeros(len(ngram2id))\n",
        "    for ngram in ngrams:\n",
        "        if ngram in ngram2id:\n",
        "            vec[ngram2id[ngram]] += 1\n",
        "    return vec"
      ],
      "execution_count": 0,
      "outputs": []
    },
    {
      "cell_type": "code",
      "metadata": {
        "id": "ALQAFl1Cy-uY",
        "colab_type": "code",
        "colab": {},
        "outputId": "d0cf65fc-e973-4507-a23a-ef8a682ebc4b"
      },
      "source": [
        "vectorize('какой это язык', ngram2id)"
      ],
      "execution_count": 0,
      "outputs": [
        {
          "output_type": "execute_result",
          "data": {
            "text/plain": [
              "array([0., 0., 0., ..., 0., 0., 0.])"
            ]
          },
          "metadata": {
            "tags": []
          },
          "execution_count": 154
        }
      ]
    },
    {
      "cell_type": "code",
      "metadata": {
        "id": "I9_5Mm2Uy-u6",
        "colab_type": "code",
        "colab": {}
      },
      "source": [
        "from sklearn.metrics.pairwise import cosine_similarity"
      ],
      "execution_count": 0,
      "outputs": []
    },
    {
      "cell_type": "code",
      "metadata": {
        "id": "SXzEB0o8y-vI",
        "colab_type": "code",
        "colab": {},
        "outputId": "9078b093-300f-43fd-d23c-cf629db7ce08"
      },
      "source": [
        "# функция считает близости между строками двух матриц, поэтому нужно сделать reshape\n",
        "# reshape(1, -1) превращает наш вектор вида [1,2,3] в матрицу [[1,2,3]]\n",
        "# Результат тоже будет в матрице - по столбцам близости к языковым векторам\n",
        "# а строк будет столько, сколько векторов (у нас одна)\n",
        "\n",
        "cosine_similarity(vectorize('какой это язык', ngram2id).reshape(1,-1), lang_matrix)"
      ],
      "execution_count": 0,
      "outputs": [
        {
          "output_type": "execute_result",
          "data": {
            "text/plain": [
              "array([[0.03575164, 0.05353756, 0.03791905, 0.01971013, 0.05376511,\n",
              "        0.06302903, 0.05154876, 0.08160314, 0.03441792, 0.        ]])"
            ]
          },
          "metadata": {
            "tags": []
          },
          "execution_count": 156
        }
      ]
    },
    {
      "cell_type": "code",
      "metadata": {
        "id": "TPEEu9nay-vc",
        "colab_type": "code",
        "colab": {}
      },
      "source": [
        "def predict_language(text, lang_matrix, ngram2id):\n",
        "    similarities = cosine_similarity(vectorize(text, ngram2id).reshape(1,-1), lang_matrix)\n",
        "    \n",
        "    return langs[similarities.argmax()]\n"
      ],
      "execution_count": 0,
      "outputs": []
    },
    {
      "cell_type": "code",
      "metadata": {
        "id": "tIYa7kPSy-vy",
        "colab_type": "code",
        "colab": {},
        "outputId": "29062d1a-1556-4c24-e6fe-4c3e2faea7aa"
      },
      "source": [
        "predict_language(\"Какой это язык\", lang_matrix, ngram2id)"
      ],
      "execution_count": 0,
      "outputs": [
        {
          "output_type": "execute_result",
          "data": {
            "text/plain": [
              "'ru'"
            ]
          },
          "metadata": {
            "tags": []
          },
          "execution_count": 158
        }
      ]
    },
    {
      "cell_type": "markdown",
      "metadata": {
        "id": "m7EjXzYay-wH",
        "colab_type": "text"
      },
      "source": [
        "Проверьте качество на небольшой тестовой выборке. Скачать можно тут - https://github.com/mannefedov/compling_nlp_hse_course/blob/master/data/wiki_texts_test.json"
      ]
    },
    {
      "cell_type": "code",
      "metadata": {
        "id": "KUmPC1usy-wK",
        "colab_type": "code",
        "colab": {}
      },
      "source": [
        "true_labels = []\n",
        "predicted_labels = []\n",
        "\n",
        "for lang in langs:\n",
        "    for text in wiki_texts_test[lang]:\n",
        "        true_labels.append(lang)\n",
        "        predicted_labels.append(predict_language(text, lang_matrix, ngram2id))"
      ],
      "execution_count": 0,
      "outputs": []
    },
    {
      "cell_type": "code",
      "metadata": {
        "id": "ZQUzFrAry-wc",
        "colab_type": "code",
        "colab": {},
        "outputId": "2faff4b5-dcb5-4e96-cf7d-8d7a162238c2"
      },
      "source": [
        "print(classification_report(true_labels, predicted_labels))"
      ],
      "execution_count": 0,
      "outputs": [
        {
          "output_type": "stream",
          "text": [
            "              precision    recall  f1-score   support\n",
            "\n",
            "          be       1.00      1.00      1.00        12\n",
            "          bg       1.00      1.00      1.00        14\n",
            "          en       1.00      1.00      1.00        15\n",
            "          ky       1.00      1.00      1.00        15\n",
            "         lez       1.00      1.00      1.00        15\n",
            "         mhr       1.00      1.00      1.00        14\n",
            "          mk       1.00      1.00      1.00        14\n",
            "          mn       1.00      1.00      1.00        15\n",
            "          ru       0.94      1.00      0.97        15\n",
            "          uk       1.00      0.92      0.96        12\n",
            "\n",
            "    accuracy                           0.99       141\n",
            "   macro avg       0.99      0.99      0.99       141\n",
            "weighted avg       0.99      0.99      0.99       141\n",
            "\n"
          ],
          "name": "stdout"
        }
      ]
    },
    {
      "cell_type": "markdown",
      "metadata": {
        "id": "OdZIy2fAy-w7",
        "colab_type": "text"
      },
      "source": [
        "Ну и вообще это классическая задача классификации. Обучающие данные у нас есть. Осталось только сделать fit, predict."
      ]
    },
    {
      "cell_type": "code",
      "metadata": {
        "id": "YQFsdkmdy-xB",
        "colab_type": "code",
        "colab": {}
      },
      "source": [
        "from sklearn.linear_model import LogisticRegression\n",
        "from sklearn.feature_extraction.text import CountVectorizer, TfidfVectorizer\n",
        "from sklearn.model_selection import train_test_split"
      ],
      "execution_count": 0,
      "outputs": []
    },
    {
      "cell_type": "markdown",
      "metadata": {
        "id": "FuHUjPKTy-x9",
        "colab_type": "text"
      },
      "source": [
        "Достанем все тексты и метки языков."
      ]
    },
    {
      "cell_type": "code",
      "metadata": {
        "id": "CsWT521Cy-yC",
        "colab_type": "code",
        "colab": {}
      },
      "source": [
        "texts_train = []\n",
        "y_train = []\n",
        "\n",
        "for i, lang in enumerate(langs):\n",
        "    \n",
        "    for text in wiki_texts[lang]:\n",
        "        y_train.append(lang)\n",
        "        texts_train.append(text)"
      ],
      "execution_count": 0,
      "outputs": []
    },
    {
      "cell_type": "code",
      "metadata": {
        "id": "-EpJK-Mty-yf",
        "colab_type": "code",
        "colab": {}
      },
      "source": [
        "texts_test = []\n",
        "y_test = []\n",
        "\n",
        "for i, lang in enumerate(langs):\n",
        "    \n",
        "    for text in wiki_texts_test[lang]:\n",
        "        y_test.append(lang)\n",
        "        texts_test.append(text)"
      ],
      "execution_count": 0,
      "outputs": []
    },
    {
      "cell_type": "markdown",
      "metadata": {
        "id": "_yZGOZk2y-y5",
        "colab_type": "text"
      },
      "source": [
        "Векторизацию самому писать не обязательно. Точнее даже обязательно не писать самому. В sklearn есть готовые векторизаторы, в которых все мелочи учтены. Все будет считаться быстро и правильно. "
      ]
    },
    {
      "cell_type": "markdown",
      "metadata": {
        "id": "LUEDraw8y-y_",
        "colab_type": "text"
      },
      "source": [
        "Два основных:\n",
        "\n",
        "\n",
        "1) **CountVectorizer** - векторизует почти также как мы выше. Векторы - это количество вхождений слов в тексты.   \n",
        "2) **TfidfVectorizer** - векторизует похожим способом, но вместо частотностей тут tfidf.  "
      ]
    },
    {
      "cell_type": "markdown",
      "metadata": {
        "id": "rxffQd9dy-zE",
        "colab_type": "text"
      },
      "source": [
        "Про tfidf в картинке."
      ]
    },
    {
      "cell_type": "markdown",
      "metadata": {
        "id": "TmV3N4RGy-zO",
        "colab_type": "text"
      },
      "source": [
        "![title](https://github.com/Yan-Weijia/CompLing/blob/master/%E8%AF%BE%E5%A0%82%E5%86%85%E5%AE%B9/191205language_detection/tfidf.png?raw=1)"
      ]
    },
    {
      "cell_type": "markdown",
      "metadata": {
        "id": "vsvQ1O5Ny-zX",
        "colab_type": "text"
      },
      "source": [
        "В векторайзер можно передать ограничения на частоту слова, длину нграммов, которые соберутся, уровень слов или символов, максимальный размер словаря и другие параметры.\n"
      ]
    },
    {
      "cell_type": "code",
      "metadata": {
        "id": "nliL-ZUGy-zg",
        "colab_type": "code",
        "colab": {}
      },
      "source": [
        "# так можно посмотреть документацию по параметрам\n",
        "?CountVectorizer"
      ],
      "execution_count": 0,
      "outputs": []
    },
    {
      "cell_type": "code",
      "metadata": {
        "id": "N8XpyJ8Dy-zs",
        "colab_type": "code",
        "colab": {}
      },
      "source": [
        "vectorizer = CountVectorizer(min_df=1, max_df=0.3, ngram_range=(1,2), analyzer='word',\n",
        "                             max_features=1000)\n",
        "\n",
        "X = vectorizer.fit_transform(texts_train)\n",
        "X_test = vectorizer.transform(texts_test)"
      ],
      "execution_count": 0,
      "outputs": []
    },
    {
      "cell_type": "code",
      "metadata": {
        "id": "x7oAe03hy-0L",
        "colab_type": "code",
        "colab": {}
      },
      "source": [
        "# так можно посмотреть документацию по параметрам\n",
        "?TfidfVectorizer"
      ],
      "execution_count": 0,
      "outputs": []
    },
    {
      "cell_type": "code",
      "metadata": {
        "id": "smR35Qt-y-0z",
        "colab_type": "code",
        "colab": {}
      },
      "source": [
        "vectorizer = TfidfVectorizer(min_df=1, max_df=0.3, ngram_range=(1,2), analyzer='word',\n",
        "                             max_features=1000, sublinear_tf=False)\n",
        "\n",
        "X = vectorizer.fit_transform(texts_train)\n",
        "X_test = vectorizer.transform(texts_test)"
      ],
      "execution_count": 0,
      "outputs": []
    },
    {
      "cell_type": "markdown",
      "metadata": {
        "id": "cK-2_O_Oy-0_",
        "colab_type": "text"
      },
      "source": [
        "У разных классификаторов разные параметры и мы их ещё разберем. У логистической регресии главный параметр одни - C. Это коэффициент регуляризации. Что это такое, мы тоже разберем попозже. Но пользоваться можно и без понимания. На каждой задаче просто попробуйте перебрать значения - 0.001, 0.01, 0.1, 10, 1000 . Ну или воспользуйтесь LogisticRegressionCV - он сам подбирает C сам. "
      ]
    },
    {
      "cell_type": "code",
      "metadata": {
        "id": "lhxCmBZ6y-1K",
        "colab_type": "code",
        "colab": {},
        "outputId": "f9292578-0713-43fa-bcf1-1fa6963acfd2"
      },
      "source": [
        "clf = LogisticRegression(C=0.01)\n",
        "clf.fit(X, y_train)"
      ],
      "execution_count": 0,
      "outputs": [
        {
          "output_type": "execute_result",
          "data": {
            "text/plain": [
              "LogisticRegression(C=0.01, class_weight=None, dual=False, fit_intercept=True,\n",
              "                   intercept_scaling=1, l1_ratio=None, max_iter=100,\n",
              "                   multi_class='auto', n_jobs=None, penalty='l2',\n",
              "                   random_state=None, solver='lbfgs', tol=0.0001, verbose=0,\n",
              "                   warm_start=False)"
            ]
          },
          "metadata": {
            "tags": []
          },
          "execution_count": 88
        }
      ]
    },
    {
      "cell_type": "code",
      "metadata": {
        "id": "9C_4MWYly-1c",
        "colab_type": "code",
        "colab": {}
      },
      "source": [
        "preds = clf.predict(X_test)"
      ],
      "execution_count": 0,
      "outputs": []
    },
    {
      "cell_type": "code",
      "metadata": {
        "id": "nleKGY9Fy-11",
        "colab_type": "code",
        "colab": {},
        "outputId": "64a8ed0e-9b30-4023-c761-8efb175aa762"
      },
      "source": [
        "print(classification_report(y_test, preds))"
      ],
      "execution_count": 0,
      "outputs": [
        {
          "output_type": "stream",
          "text": [
            "              precision    recall  f1-score   support\n",
            "\n",
            "          be       1.00      0.92      0.96        12\n",
            "          bg       1.00      1.00      1.00        14\n",
            "          en       1.00      1.00      1.00        15\n",
            "          ky       0.88      1.00      0.94        15\n",
            "         lez       0.88      1.00      0.94        15\n",
            "         mhr       1.00      1.00      1.00        14\n",
            "          mk       1.00      1.00      1.00        14\n",
            "          mn       1.00      0.93      0.97        15\n",
            "          ru       1.00      0.87      0.93        15\n",
            "          uk       1.00      1.00      1.00        12\n",
            "\n",
            "    accuracy                           0.97       141\n",
            "   macro avg       0.98      0.97      0.97       141\n",
            "weighted avg       0.97      0.97      0.97       141\n",
            "\n"
          ],
          "name": "stdout"
        }
      ]
    }
  ]
}