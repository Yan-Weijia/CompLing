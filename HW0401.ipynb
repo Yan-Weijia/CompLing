{
  "nbformat": 4,
  "nbformat_minor": 0,
  "metadata": {
    "colab": {
      "name": "HW0401.ipynb",
      "provenance": [],
      "authorship_tag": "ABX9TyOgr/yHjui+CqaQ9D1ZcgJ0",
      "include_colab_link": true
    },
    "kernelspec": {
      "name": "python3",
      "display_name": "Python 3"
    }
  },
  "cells": [
    {
      "cell_type": "markdown",
      "metadata": {
        "id": "view-in-github",
        "colab_type": "text"
      },
      "source": [
        "<a href=\"https://colab.research.google.com/github/Yan-Weijia/CompLing/blob/master/HW0401.ipynb\" target=\"_parent\"><img src=\"https://colab.research.google.com/assets/colab-badge.svg\" alt=\"Open In Colab\"/></a>"
      ]
    },
    {
      "cell_type": "code",
      "metadata": {
        "id": "6wh0Q7u0LWy8",
        "colab_type": "code",
        "colab": {}
      },
      "source": [
        "import pandas as pd\n",
        "pd.set_option('display.max_colwidth', -1)"
      ],
      "execution_count": 0,
      "outputs": []
    },
    {
      "cell_type": "code",
      "metadata": {
        "id": "DD4AbDHD3K-q",
        "colab_type": "code",
        "colab": {}
      },
      "source": [
        "!wget https://raw.githubusercontent.com/mannefedov/compling_nlp_hse_course/master/data/pristavki.csv"
      ],
      "execution_count": 0,
      "outputs": []
    },
    {
      "cell_type": "code",
      "metadata": {
        "id": "pfbSjbQJLlo5",
        "colab_type": "code",
        "colab": {}
      },
      "source": [
        "data = pd.read_csv('pristavki.csv', header=None, names=['text'])"
      ],
      "execution_count": 0,
      "outputs": []
    },
    {
      "cell_type": "code",
      "metadata": {
        "id": "zWQ82zwgL1iD",
        "colab_type": "code",
        "outputId": "236fa8d8-68a6-4edc-f3c1-c65ba3213f2e",
        "colab": {
          "base_uri": "https://localhost:8080/",
          "height": 233
        }
      },
      "source": [
        "data.head(5)"
      ],
      "execution_count": 0,
      "outputs": [
        {
          "output_type": "execute_result",
          "data": {
            "text/html": [
              "<div>\n",
              "<style scoped>\n",
              "    .dataframe tbody tr th:only-of-type {\n",
              "        vertical-align: middle;\n",
              "    }\n",
              "\n",
              "    .dataframe tbody tr th {\n",
              "        vertical-align: top;\n",
              "    }\n",
              "\n",
              "    .dataframe thead th {\n",
              "        text-align: right;\n",
              "    }\n",
              "</style>\n",
              "<table border=\"1\" class=\"dataframe\">\n",
              "  <thead>\n",
              "    <tr style=\"text-align: right;\">\n",
              "      <th></th>\n",
              "      <th>text</th>\n",
              "    </tr>\n",
              "  </thead>\n",
              "  <tbody>\n",
              "    <tr>\n",
              "      <th>0</th>\n",
              "      <td>Состояние: Отличное для возраста приставки./\\nИгры отдам вместе с приставкой./\\nОстальное по телефону, либо при осмотре.</td>\n",
              "    </tr>\n",
              "    <tr>\n",
              "      <th>1</th>\n",
              "      <td>+5 игар фифа15,16 мартол комбат 9, гта5,асассин 4, и три диска Фифв 13 гта 4 видмак3</td>\n",
              "    </tr>\n",
              "    <tr>\n",
              "      <th>2</th>\n",
              "      <td>Продам в отличном состоянии , в комплекте проводной и беспроводной геймпады (зарядное устройство для беспроводного), гарнитура , два диска . Вообщем полный комплект, но без Kinect.</td>\n",
              "    </tr>\n",
              "    <tr>\n",
              "      <th>3</th>\n",
              "      <td>Продам PS3, 2 беспроводных джойстика в комплекте. Коллекция игр будет естественно бонусом) на фото не хватает игры Mortal combat vs D.C. Джойстики не залипают,можете проверить при покупке. Обмен не интересен, так как подарили Ps4) небольшой торг )</td>\n",
              "    </tr>\n",
              "    <tr>\n",
              "      <th>4</th>\n",
              "      <td>Продаю в связи с ненадобностью.Купила для мужа ,играть не стал.Состояние идеальное .Любые проверки.Предложение идеально до 21 апреля</td>\n",
              "    </tr>\n",
              "  </tbody>\n",
              "</table>\n",
              "</div>"
            ],
            "text/plain": [
              "                                                                                                                                                                                                                                                      text\n",
              "0  Состояние: Отличное для возраста приставки./\\nИгры отдам вместе с приставкой./\\nОстальное по телефону, либо при осмотре.                                                                                                                               \n",
              "1  +5 игар фифа15,16 мартол комбат 9, гта5,асассин 4, и три диска Фифв 13 гта 4 видмак3                                                                                                                                                                   \n",
              "2  Продам в отличном состоянии , в комплекте проводной и беспроводной геймпады (зарядное устройство для беспроводного), гарнитура , два диска . Вообщем полный комплект, но без Kinect.                                                                   \n",
              "3  Продам PS3, 2 беспроводных джойстика в комплекте. Коллекция игр будет естественно бонусом) на фото не хватает игры Mortal combat vs D.C. Джойстики не залипают,можете проверить при покупке. Обмен не интересен, так как подарили Ps4) небольшой торг )\n",
              "4  Продаю в связи с ненадобностью.Купила для мужа ,играть не стал.Состояние идеальное .Любые проверки.Предложение идеально до 21 апреля                                                                                                                   "
            ]
          },
          "metadata": {
            "tags": []
          },
          "execution_count": 9
        }
      ]
    },
    {
      "cell_type": "code",
      "metadata": {
        "id": "4LNzoWoRPHMB",
        "colab_type": "code",
        "colab": {}
      },
      "source": [
        "!pip install yargy"
      ],
      "execution_count": 0,
      "outputs": []
    },
    {
      "cell_type": "code",
      "metadata": {
        "id": "h2MFWfpEMzHb",
        "colab_type": "code",
        "colab": {}
      },
      "source": [
        "from yargy import Parser, rule, or_\n",
        "from yargy.predicates import in_, in_caseless\n",
        "from yargy.tokenizer import MorphTokenizer\n",
        "from yargy.pipelines import morph_pipeline, caseless_pipeline\n",
        "from yargy.interpretation import fact\n",
        "from IPython.display import display"
      ],
      "execution_count": 0,
      "outputs": []
    },
    {
      "cell_type": "markdown",
      "metadata": {
        "id": "aa0GvupXyhLY",
        "colab_type": "text"
      },
      "source": [
        "# два атрибута:"
      ]
    },
    {
      "cell_type": "code",
      "metadata": {
        "id": "HcSfbGzeNVjY",
        "colab_type": "code",
        "colab": {}
      },
      "source": [
        "Game = fact(\n",
        "    'Game',\n",
        "    ['name', 'version']\n",
        ")"
      ],
      "execution_count": 0,
      "outputs": []
    },
    {
      "cell_type": "code",
      "metadata": {
        "id": "Zid4wrJP2C87",
        "colab_type": "code",
        "colab": {}
      },
      "source": [
        "FIFA = rule(\n",
        "    morph_pipeline(['FIFA', 'fifa', \"фифа\", 'ФИФА']).interpretation(Game.name), \n",
        "    morph_pipeline(['11', '15', '16', '17', '18', '19', '2015', '2016', '2017', '2018', '2019']).interpretation(Game.version))"
      ],
      "execution_count": 0,
      "outputs": []
    },
    {
      "cell_type": "code",
      "metadata": {
        "colab_type": "code",
        "id": "YSvZrpU_Q8Rd",
        "colab": {}
      },
      "source": [
        "GTA = rule(\n",
        "    morph_pipeline(['GTA', 'gta', 'Grand Theft Auto', \"гта\", 'ГТА']).interpretation(Game.name), \n",
        "    morph_pipeline(['5', '4', 'IV', 'V', 'Chinatown Wars', 'Vice City Stories']).interpretation(Game.version)) "
      ],
      "execution_count": 0,
      "outputs": []
    },
    {
      "cell_type": "code",
      "metadata": {
        "colab_type": "code",
        "id": "1QFCcRkeSkqx",
        "colab": {}
      },
      "source": [
        "Witcher = rule(\n",
        "    morph_pipeline(['The Witcher', 'The witcher', 'the witcher', 'THE WITCHER', 'видмак', 'ВИДМАК', 'Видмак']).interpretation(Game.name), \n",
        "    morph_pipeline(['1', '2', '3', 'one', 'two', 'three']).interpretation(Game.version)) "
      ],
      "execution_count": 0,
      "outputs": []
    },
    {
      "cell_type": "code",
      "metadata": {
        "colab_type": "code",
        "id": "S83NbKA8TiD8",
        "colab": {}
      },
      "source": [
        "Red_dead = rule(\n",
        "    morph_pipeline(['Red Dead Redemption', 'Red Dead', 'ред дед редемпшн', 'ред дед']).interpretation(Game.name), \n",
        "    morph_pipeline(['1', '2', 'one', 'two']).interpretation(Game.version)) "
      ],
      "execution_count": 0,
      "outputs": []
    },
    {
      "cell_type": "code",
      "metadata": {
        "id": "QkeAMOOOfkY1",
        "colab_type": "code",
        "colab": {}
      },
      "source": [
        "SSF = rule(\n",
        "    morph_pipeline(['Super Street Fighter', 'Street fighter', \"SSF\", 'супер стрит файтер']).interpretation(Game.name), \n",
        "    morph_pipeline(['I', '1', 'II', '2', 'III', '3', 'IV', '4', 'V', '5']).interpretation(Game.version))"
      ],
      "execution_count": 0,
      "outputs": []
    },
    {
      "cell_type": "code",
      "metadata": {
        "id": "oqp0zn572C98",
        "colab_type": "code",
        "colab": {}
      },
      "source": [
        "GAME = or_(FIFA, GTA, Witcher, Red_dead, SSF).interpretation(Game)\n",
        "\n",
        "parser = Parser(GAME) "
      ],
      "execution_count": 0,
      "outputs": []
    },
    {
      "cell_type": "code",
      "metadata": {
        "id": "pHVRnbgU2C-Q",
        "colab_type": "code",
        "outputId": "b85a7bf0-a30f-4a85-a8ba-be1a9e6016b1",
        "colab": {
          "base_uri": "https://localhost:8080/",
          "height": 35
        }
      },
      "source": [
        "matches = []\n",
        "\n",
        "for sent in data.text[:9000]:\n",
        "    for match in parser.findall(sent):\n",
        "        matches.append(match.fact)\n",
        "print(len(matches))"
      ],
      "execution_count": 0,
      "outputs": [
        {
          "output_type": "stream",
          "text": [
            "921\n"
          ],
          "name": "stdout"
        }
      ]
    },
    {
      "cell_type": "code",
      "metadata": {
        "id": "k4X3MvZu1r3_",
        "colab_type": "code",
        "outputId": "2ea260f5-b4d9-4fc1-b7fa-3fcff27afdb0",
        "colab": {
          "base_uri": "https://localhost:8080/",
          "height": 35
        }
      },
      "source": [
        "print(matches[0])"
      ],
      "execution_count": 0,
      "outputs": [
        {
          "output_type": "stream",
          "text": [
            "Game(name='фифа', version='15')\n"
          ],
          "name": "stdout"
        }
      ]
    },
    {
      "cell_type": "code",
      "metadata": {
        "id": "24zpcFXs2C-s",
        "colab_type": "code",
        "outputId": "14fc914a-0a96-40a4-94ca-1ee86b0ae7d0",
        "colab": {
          "base_uri": "https://localhost:8080/",
          "height": 104
        }
      },
      "source": [
        "for m in matches[:5]:\n",
        "  print(m.name, m.version)"
      ],
      "execution_count": 0,
      "outputs": [
        {
          "output_type": "stream",
          "text": [
            "фифа 15\n",
            "гта 5\n",
            "гта 4\n",
            "видмак 3\n",
            "FIFA 16\n"
          ],
          "name": "stdout"
        }
      ]
    },
    {
      "cell_type": "markdown",
      "metadata": {
        "id": "WIi_8jpQXtHn",
        "colab_type": "text"
      },
      "source": [
        "извлекает только те, которые имеют оба name и version (FIFA 16, ГТА 5)\n",
        "\n",
        "нельзя извлекать те, которые имеют только name (GTA，FIFA)"
      ]
    },
    {
      "cell_type": "markdown",
      "metadata": {
        "id": "bYczl3Lwy_Pf",
        "colab_type": "text"
      },
      "source": [
        "# заменить все на одно слово .const(\"\")"
      ]
    },
    {
      "cell_type": "code",
      "metadata": {
        "colab_type": "code",
        "id": "ad3ipmDazVrD",
        "colab": {}
      },
      "source": [
        "GTA = rule(\n",
        "    morph_pipeline(['GTA', 'gta', 'Grand Theft Auto', \"гта\", 'ГТА']).interpretation(Game.name.const(\"GTA\")), \n",
        "    morph_pipeline(['5', '4', 'IV', 'V', 'Chinatown Wars', 'Vice City Stories']).interpretation(Game.version)) "
      ],
      "execution_count": 0,
      "outputs": []
    },
    {
      "cell_type": "code",
      "metadata": {
        "colab_type": "code",
        "id": "mXQmJb_wzdDh",
        "colab": {}
      },
      "source": [
        "GAME = or_(GTA).interpretation(Game)\n",
        "\n",
        "parser = Parser(GAME) "
      ],
      "execution_count": 0,
      "outputs": []
    },
    {
      "cell_type": "code",
      "metadata": {
        "colab_type": "code",
        "id": "Y_BiyijczlBi",
        "outputId": "2ede0674-ee48-4a6b-fae1-9cd39437e4f0",
        "colab": {
          "base_uri": "https://localhost:8080/",
          "height": 35
        }
      },
      "source": [
        "matches = []\n",
        "\n",
        "for sent in data.text[:9000]:\n",
        "    for match in parser.findall(sent):\n",
        "        matches.append(match.fact)\n",
        "print(len(matches))"
      ],
      "execution_count": 0,
      "outputs": [
        {
          "output_type": "stream",
          "text": [
            "565\n"
          ],
          "name": "stdout"
        }
      ]
    },
    {
      "cell_type": "code",
      "metadata": {
        "colab_type": "code",
        "outputId": "b3679ab2-8b32-407f-9e7a-2877f7c23d23",
        "id": "UyBesH9jzpny",
        "colab": {
          "base_uri": "https://localhost:8080/",
          "height": 242
        }
      },
      "source": [
        "for m in matches[42:55]:\n",
        "    print(m.name, m.version)"
      ],
      "execution_count": 0,
      "outputs": [
        {
          "output_type": "stream",
          "text": [
            "GTA vice city stories\n",
            "GTA 5\n",
            "GTA 5\n",
            "GTA 5\n",
            "GTA 5\n",
            "GTA V\n",
            "GTA 5\n",
            "GTA 5\n",
            "GTA 4\n",
            "GTA 5\n",
            "GTA 5\n",
            "GTA IV\n",
            "GTA 4\n"
          ],
          "name": "stdout"
        }
      ]
    },
    {
      "cell_type": "markdown",
      "metadata": {
        "id": "unDN1UQqZ9QC",
        "colab_type": "text"
      },
      "source": [
        "только унифицирует формы name ('GTA' вместо 'gta', 'Grand Theft Auto', \"гта\", 'ГТА'), \n",
        "\n",
        "нельзя унифицирует одинаковые версии, написанные римскими и арабскими цифрами (GTA IV, GTA 4)."
      ]
    },
    {
      "cell_type": "markdown",
      "metadata": {
        "id": "oUVHqcvVyp-F",
        "colab_type": "text"
      },
      "source": [
        "# три атрибута с .optional():"
      ]
    },
    {
      "cell_type": "code",
      "metadata": {
        "colab_type": "code",
        "id": "kTYFvLsEpCyP",
        "colab": {}
      },
      "source": [
        "Game = fact(\n",
        "    'Game',\n",
        "    ['name', 'subname','version']\n",
        ")\n",
        "\n",
        "Battlefield = rule(\n",
        "    morph_pipeline(['Battlefield', 'Battlefield:', 'Батлфилд', \"батлфилд\", 'battlefield']).interpretation(Game.name),\n",
        "    morph_pipeline(['Bad Company', '1943', 'Heroes', 'Hardline']).interpretation(Game.subname).optional(),\n",
        "    morph_pipeline(['I', '1', 'II', '2', 'III', '3', 'IV', '4', 'V', '5']).interpretation(Game.version).optional()\n",
        "    )\n",
        "\n",
        "Duty = rule(\n",
        "    morph_pipeline(['Call Of Duty', 'Call Of Duty:', 'Call of Duty', \"сал оф дьюти\", 'Сал Оф Дьюти']).interpretation(Game.name),\n",
        "    morph_pipeline(['Ghosts', 'Black Ops', 'Modern Warfare', 'Modern warfare', 'MW3', 'WWII', 'World at War', 'Модерн Варфаре', 'модерн варфаре', 'варфаре', 'Варфаре']).interpretation(Game.subname).optional(),\n",
        "    morph_pipeline(['I', '1', 'II', '2', 'III', '3', 'IV', '4', 'V', '5']).interpretation(Game.version).optional()\n",
        "    )\n",
        "\n",
        "Forza = rule(\n",
        "    morph_pipeline(['Forza', 'форза', 'Форза', \"FORZA\", 'forza']).interpretation(Game.name),\n",
        "    morph_pipeline(['Horizon', 'horizon', 'Motorsport', 'motorsport']).interpretation(Game.subname).optional(),\n",
        "    morph_pipeline(['I', '1', 'II', '2', 'III', '3', 'IV', '4', 'V', '5', '6']).interpretation(Game.version).optional()\n",
        "    )\n",
        "\n",
        "GAME = or_(Battlefield, Duty, Forza).interpretation(Game)\n",
        "\n",
        "parser = Parser(GAME) "
      ],
      "execution_count": 0,
      "outputs": []
    },
    {
      "cell_type": "code",
      "metadata": {
        "id": "bTLapBPG2DAX",
        "colab_type": "code",
        "colab": {}
      },
      "source": [
        "matches = []\n",
        "\n",
        "for sent in data.text[:9000]:\n",
        "    for match in parser.findall(sent):\n",
        "        matches.append(match.fact)"
      ],
      "execution_count": 0,
      "outputs": []
    },
    {
      "cell_type": "code",
      "metadata": {
        "id": "y2can-op1-wT",
        "colab_type": "code",
        "outputId": "5276b578-14cb-45bb-d7c2-47fb0580956b",
        "colab": {
          "base_uri": "https://localhost:8080/",
          "height": 52
        }
      },
      "source": [
        "print(len(matches))\n",
        "print(matches[0])"
      ],
      "execution_count": 11,
      "outputs": [
        {
          "output_type": "stream",
          "text": [
            "537\n",
            "Game(name='Call of Duty', subname='Ghosts', version=None)\n"
          ],
          "name": "stdout"
        }
      ]
    },
    {
      "cell_type": "code",
      "metadata": {
        "id": "IY5iysoJaRDy",
        "colab_type": "code",
        "outputId": "94c0cee1-baa1-4b68-cb36-25a55ab64ac7",
        "colab": {
          "base_uri": "https://localhost:8080/",
          "height": 104
        }
      },
      "source": [
        "for m in matches[100:105]:\n",
        "    print(m.name, m.subname, m.version)"
      ],
      "execution_count": 13,
      "outputs": [
        {
          "output_type": "stream",
          "text": [
            "Battlefield None 4\n",
            "Battlefield Hardline None\n",
            "Forza MotorSport 3\n",
            "Forza Motorsport 4\n",
            "Forza Motorsport 4\n"
          ],
          "name": "stdout"
        }
      ]
    },
    {
      "cell_type": "markdown",
      "metadata": {
        "id": "8JT2RiTMaSbF",
        "colab_type": "text"
      },
      "source": [
        "добавлены опции (forza horizon 2, Call of Duty: Black Ops III), \n",
        "\n",
        "но там, где опций нет, стоит NONE (Батлфилд None None, BATTLEFIELD None 4, Battlefield Hardline None)\n",
        "\n"
      ]
    },
    {
      "cell_type": "markdown",
      "metadata": {
        "id": "7Vzl03s-mRoI",
        "colab_type": "text"
      },
      "source": [
        "Уберем NONE, и теперь красиво выводит:"
      ]
    },
    {
      "cell_type": "code",
      "metadata": {
        "scrolled": true,
        "id": "2qgVEQRq2DAp",
        "colab_type": "code",
        "outputId": "a9534769-0f0a-43d5-a12d-c4d9d3122ab2",
        "colab": {
          "base_uri": "https://localhost:8080/",
          "height": 1000
        }
      },
      "source": [
        "for m in matches:\n",
        "  if m.subname:\n",
        "    if not m.version:\n",
        "      print(m.name, m.subname)\n",
        "    else:\n",
        "      print(m.name, m.subname, m.version)\n",
        "  else:\n",
        "    if not m.version:\n",
        "      print(m.name)\n",
        "    else:\n",
        "      print(m.name, m.version)\n"
      ],
      "execution_count": 0,
      "outputs": [
        {
          "output_type": "stream",
          "text": [
            "Call of Duty Ghosts\n",
            "Call of Duty 4\n",
            "Call of Duty MW3\n",
            "Battlefield 3\n",
            "Battlefield 4\n",
            "Battlefield: Bad company 2\n",
            "Battlefield: Hardline\n",
            "Call Of Duty: Black Ops\n",
            "Call Of Duty: Modern Warfare\n",
            "Battlefield 4\n",
            "Battlefield 4\n",
            "Battlefield 4\n",
            "Call of Duty\n",
            "Call of Duty\n",
            "Battlefield 3\n",
            "Battlefield 1\n",
            "Forza Horizon 3\n",
            "battlefield 4\n",
            "forza\n",
            "Call of Duty\n",
            "battlefield 1\n",
            "Call of Duty: Black Ops\n",
            "Battlefield 4\n",
            "battlefield 1\n",
            "Battlefield Hardline\n",
            "Battlefield 4\n",
            "Call of duty Black ops III\n",
            "Battlefield 4\n",
            "Call of Duty\n",
            "Forza\n",
            "Call of Duty black ops\n",
            "Forza horizon\n",
            "Forza\n",
            "battlefield 4\n",
            "Battlefield Bad Company 2\n",
            "Battlefield 4\n",
            "Forza Motorsport 5\n",
            "Call Of Duty:\n",
            "Forza Motorsport 4\n",
            "Battlefield 3\n",
            "Call of Duty Black Ops 3\n",
            "Call of Duty Black Ops 1\n",
            "Call of Duty\n",
            "Call of Duty\n",
            "Call Of Duty: Black Ops\n",
            "Battlefield 4\n",
            "Battlefield\n",
            "CALL OF DUTY BLACK OPS\n",
            "Call of Duty Black Ops 2\n",
            "Battlefield 3\n",
            "call of duty world at war\n",
            "Call of Duty\n",
            "Battlefield: Bad Company 2\n",
            "Battlefield 3\n",
            "Battlefield 4\n",
            "Call of duty\n",
            "BattleField 1\n",
            "Battlefield 4\n",
            "call of duty\n",
            "forza horizon 2\n",
            "BATTLEFIELD 1\n",
            "Call of Duty:\n",
            "Battlefield hardline\n",
            "Call of duty black ops 3\n",
            "Battlefield 4\n",
            "CALL of DUTY GHOSTS\n",
            "Forza Horizon 2\n",
            "Call of Duty: Ghosts\n",
            "Call of Duty: Black Ops II\n",
            "Battlefield 4\n",
            "CALL OF DUTY 3\n",
            "Forza Horizon 2\n",
            "Forza Horizon 2\n",
            "Forza\n",
            "battlefield 4\n",
            "Battlefield 4\n",
            "Battlefield\n",
            "Battlefield 3\n",
            "Call of Duty\n",
            "BATTLEFIELD 4\n",
            "BATTLEFIELD 4\n",
            "Battlefield 1\n",
            "Battlefield 4\n",
            "Forza\n",
            "Forza Horizon\n",
            "Forza Motorsport 4\n",
            "Battlefield Bad Company 2\n",
            "Battlefield 1\n",
            "Battlefield 4\n",
            "Battlefield 4\n",
            "call of duty black ops 3\n",
            "Battlefield 4\n",
            "Battlefield 4\n",
            "Call of Duty\n",
            "Battlefield 4\n",
            "Battlefield Hardline\n",
            "Forza Motorsport 4\n",
            "Forza\n",
            "Battlefield 2\n",
            "Battlefield 3\n",
            "Battlefield 4\n",
            "Battlefield Hardline\n",
            "Forza MotorSport 3\n",
            "Forza Motorsport 4\n",
            "Forza Motorsport 4\n",
            "Call of Duty: Modern Warfare 3\n",
            "Call of Duty: Ghosts\n",
            "battlefield\n",
            "Forza 4\n",
            "Battlefield 3\n",
            "Forza Horizon\n",
            "Forza Motorsport 4\n",
            "Battlefield 1\n",
            "Battlefield 1\n",
            "Forza Horizon 2\n",
            "Батлфилд 1\n",
            "батлфилд 1\n",
            "Call of duty\n",
            "Battlefield 1\n",
            "Battlefield 4\n",
            "Call of duty\n",
            "Call of Duty\n",
            "Call of Duty black ops 3\n",
            "Call of Duty: Black Ops III\n",
            "Call of Duty: Black Ops III\n",
            "battlefield 4\n",
            "battlefield hardline\n",
            "Forza Horizon 2\n",
            "Call of Duty Black Ops III\n",
            "Battlefield Hardline\n",
            "Battlefield 4\n",
            "Forza Motorsport 3\n",
            "call of duty\n",
            "Call of Duty Black Ops\n",
            "battlefield 4\n",
            "battlefield 1\n",
            "battlefield 4\n",
            "Call of duty 4\n",
            "Call Of Duty:\n",
            "Call Of Duty: Black Ops 3\n",
            "Forza Motorsport 6\n",
            "Call of Duty: Black Ops\n",
            "Call of Duty: Modern Warfare 3\n",
            "battlefield bad company\n",
            "battlefield bad company 2\n",
            "Battlefield 1\n",
            "Battlefield Hardline\n",
            "Battlefield\n",
            "Battlefield 3\n",
            "Call of Duty: Modern Warfare 3\n",
            "Call of Duty 2\n",
            "Call of Duty 3\n",
            "Call of Duty World at War\n",
            "Call of Duty Modern Warfare 2\n",
            "Call of Duty Black Ops 2\n",
            "Forza\n",
            "Forza Motorsport 6\n",
            "Forza Horizon 2\n",
            "Forza 6\n",
            "Forza Horizon 2\n",
            "Call of Duty:\n",
            "Forza horizon\n",
            "Battlefield\n",
            "Battlefield Bad Company\n",
            "Call of Duty 4\n",
            "Battlefield 3\n",
            "FORZA MOTORSPORT 3\n",
            "BATTLEFIELD 4\n",
            "Call of Duty Ghosts\n",
            "Call of Duty Black Ops 2\n",
            "Forza Horizon\n",
            "Forza Motorsport 4\n",
            "Call of duty black ops 3\n",
            "FORZA\n",
            "battlefield 1\n",
            "Battlefield 4\n",
            "батлфилд\n",
            "Call Of Duty: Black Ops 3\n",
            "CALL OF DUTY\n",
            "Battlefield 3\n",
            "Forza 4\n",
            "BATTLEFIELD 3\n",
            "Forza 2\n",
            "Battlefield 4\n",
            "Battlefield 1\n",
            "battlefield\n",
            "call of duty 3\n",
            "Battlefield\n",
            "Forza horizon 3\n",
            "BATTLEFIELD 4\n",
            "Call of Duty:\n",
            "Call of Duty\n",
            "батлфилд 1\n",
            "Call of Duty black OPS\n",
            "Call of Duty:\n",
            "Call of duty MW3\n",
            "Call of duty\n",
            "call of duty 4\n",
            "Call of Duty\n",
            "Battlefield\n",
            "Forza 6\n",
            "батлфилд 1\n",
            "CALL of DUTY Black ops\n",
            "батлфилд 1\n",
            "battlefield hardline\n",
            "Battlefield 4\n",
            "Battlefield 4\n",
            "Battlefield 4\n",
            "Battlefield 4\n",
            "BATTLEFIELD Hardline\n",
            "BATTLEFIELD 4\n",
            "Battlefield Bad Company 2\n",
            "Battlefield 4\n",
            "Battlefield 1\n",
            "BATTLEFIELD 1\n",
            "Battlefield 1\n",
            "Forza Horizon 2\n",
            "Battlefield 1\n",
            "Battlefield 4\n",
            "Call of Duty\n",
            "battlefield 4\n",
            "BATTLEFIELD 4\n",
            "BATTLEFIELD 1\n",
            "Battlefield 4\n",
            "Call of Duty 3\n",
            "Call of Duty 4\n",
            "Call of Duty Modern Warfare 3\n",
            "Battlefield 3\n",
            "Battlefield Bad Company 2\n",
            "Call of Duty\n",
            "call of duty ghosts\n",
            "Battlefield 4\n",
            "форза 4\n",
            "Battlefield 1\n",
            "Call of duty :\n",
            "Forza Horizon 3\n",
            "Forza Motorsport 2\n",
            "Forza Horizon 2\n",
            "Battlefield\n",
            "battlefield 1\n",
            "Forza motorsport 5\n",
            "Battlefield hardline\n",
            "BATTLEFIELD 4\n",
            "Call of Duty Modern Warfare 2\n",
            "Forza\n",
            "Battlefield 3\n",
            "call of duty modern warfare 3\n",
            "Call of Duty:\n",
            "форзы\n",
            "FORZA 4\n",
            "BATTLEFIELD 3\n",
            "Battlefield 4\n",
            "battlefield 4\n",
            "BATTLEFIELD 3\n",
            "BATTLEFIELD 1\n",
            "Battlefield 1\n",
            "Call of Duty:\n",
            "Call of duty black ops\n",
            "Call of duty black ops 1\n",
            "Battlefield: Hardline\n",
            "Battlefield 4\n",
            "battlefield : hardline\n",
            "call of duty\n",
            "Battlefield 4\n",
            "Battlefield 4\n",
            "CALL of DUTY\n",
            "Battlefield\n",
            "Call of Duty\n",
            "батлфилд 4\n",
            "батлфилд 1\n",
            "battlefield 1\n",
            "Call of duty\n",
            "Battlefield Bad Company\n",
            "Battlefield 4\n",
            "Battlefield Hardline\n",
            "call of duty black ops 3\n",
            "Battlefield 4\n",
            "call of duty: ghosts\n",
            "BATTLEFIELD 4\n",
            "Battlefield 1\n",
            "call of duty\n",
            "Forza Horizon 2\n",
            "BATTLEFIELD hardline\n",
            "battlefield 4\n",
            "battlefield hardline\n",
            "Battlefield 4\n",
            "Battlefield Hardline\n",
            "Forza Horizon 2\n",
            "батлфилд 4\n",
            "Call of duty ghosts\n",
            "Battlefield 3\n",
            "Battlefield 4\n",
            "battlefield 4\n",
            "call of duty black ops\n",
            "Battlefield 4\n",
            "Call of Duty: Ghosts\n",
            "Battlefield 4\n",
            "Battlefield Hardline\n",
            "Call of duty Black ops 2\n",
            "Call of duty\n",
            "forza Motorsport 6\n",
            "CALL OF DUTY 3\n",
            "Батлфилд\n",
            "BATTLEFIELD 4\n",
            "forza horizon 2\n",
            "Battlefield 4\n",
            "Battlefield bad company 2\n",
            "Forza\n",
            "Battlefield 3\n",
            "Call of Duty\n",
            "Call of Duty Black Ops 2\n",
            "Call of Duty: World at War\n",
            "Battlefield Hardline\n",
            "Forza Horizon\n",
            "BATTLEFIELD HARDLINE\n",
            "Call of duty\n",
            "Forza Horizon\n",
            "Battlefield Bad Company 2\n",
            "BATTLEFIELD\n",
            "Battlefield Hardline\n",
            "Battlefield\n",
            "Call of Duty: Black Ops\n",
            "CALL of DUTY\n",
            "Battlefield 4\n",
            "Call of Duty\n",
            "Forza 4\n",
            "Call of Duty: Ghosts\n",
            "call of duty\n",
            "Battlefield bad company 2\n",
            "Battlefield Hardline\n",
            "Call of duty\n",
            "battlefield 4\n",
            "Call of Duty Modern Warfare 2\n",
            "call of duty 2\n",
            "Батлфилд 1\n",
            "Battlefield 4\n",
            "Call of Duty\n",
            "Battlefield 1\n",
            "Battlefield 1\n",
            "Battlefield 4\n",
            "call of duty\n",
            "battlefield 1\n",
            "BATTLEFIELD 1\n",
            "CALL of DUTY BLACK OPS\n",
            "battlefield 1\n",
            "Battlefield: Bad Company\n",
            "Battlefield 4\n",
            "Battlefield\n",
            "Battlefield 3\n",
            "Battlefield 4\n",
            "Battlefield\n",
            "Call of Duty\n",
            "Call of Duty Black Ops 2\n",
            "Call of Duty Black Ops\n",
            "Call of Duty Ghosts\n",
            "Call of Duty Modern Warfare 3\n",
            "Forza Horizon 2\n",
            "Forza Horizon\n",
            "Forza Motorsport 5\n",
            "Forza Motorsport 5\n",
            "Battlefield hardline\n",
            "Battlefield 1\n",
            "батлфилд 4\n",
            "CALL OF DUTY\n",
            "Battlefield 4\n",
            "Forza motorsport 4\n",
            "Battlefield 4\n",
            "Forza Horizon\n",
            "CALL OF DUTY\n",
            "BATTLEFIELD\n",
            "Forza Motorsport 6\n",
            "Call of Duty:\n",
            "Battlefield Hardline\n",
            "Battlefield 4\n",
            "Call of Duty\n",
            "Forza Horizon 2\n",
            "Forza 5\n",
            "Battlefield 4\n",
            "Call of Duty\n",
            "call of duty\n",
            "Call of duty\n",
            "Battlefield Hardline\n",
            "Battlefield 4\n",
            "Call of duty\n",
            "forza\n",
            "Forza Horizon\n",
            "Forza Motorsport 5\n",
            "Battlefield Hardline\n",
            "Call of Duty:\n",
            "Battlefield 3\n",
            "Forza Motorsport 3\n",
            "Call of Duty : Modern Warfare 3\n",
            "Forza Horizon\n",
            "CALL of DUTY ghosts\n",
            "Battlefield 4\n",
            "Forza Horizon 2\n",
            "Battlefield Hardline\n",
            "Battlefield 3\n",
            "call of duty\n",
            "Battlefield 1\n",
            "Call of duty\n",
            "battlefield 3\n",
            "call of duty mw3\n",
            "Call of Duty\n",
            "Battlefield\n",
            "Battlefield Bad Company 1\n",
            "Battlefield Bad Company 2\n",
            "Battlefield 3\n",
            "Battlefield 4\n",
            "Battlefield 1\n",
            "Battlefield 4\n",
            "FORZA\n",
            "Battlefield 4\n",
            "Forza Horizon 3\n",
            "Battlefield 4\n",
            "Forza Horizon 2\n",
            "Call of Duty : World at War\n",
            "Battlefield Bad Company\n",
            "Call of Duty\n",
            "Battlefield 4\n",
            "Call of duty 4\n",
            "Battlefield 3\n",
            "Battlefield 2\n",
            "Call of duty MW3\n",
            "Call of Duty\n",
            "Call Of Duty black ops 2\n",
            "Call of Duty 4\n",
            "Forza 2\n",
            "forza horizon\n",
            "Battlefield 1\n",
            "Call of Duty\n",
            "Battlefield 4\n",
            "Battlefield 3\n",
            "forza\n",
            "Call of duty\n",
            "Battlefield 4\n",
            "Call of Duty\n",
            "Call of Duty Black Ops 1\n",
            "Battlefield 3\n",
            "Forza Motorsport\n",
            "Call of Duty\n",
            "Forza Horizon 2\n",
            "Forza Motorsport 4\n",
            "Battlefield 3\n",
            "Call of Duty 4\n",
            "call of duty ghosts\n",
            "call of duty black ops 2\n",
            "Battlefield 1\n",
            "Battlefield 4\n",
            "Battlefield Hardline\n",
            "call of duty ghosts\n",
            "battlefield 4\n",
            "battlefield 1\n",
            "Battlefield 4\n",
            "Call of Duty Black Ops\n",
            "Call of Duty:\n",
            "Forza Horizon 2\n",
            "BATTLEFIELD\n",
            "Battlefield 4\n",
            "Call of Duty: Black Ops III\n",
            "Forza Horizon 2\n",
            "Call of duty\n",
            "Battlefield Hardline\n",
            "CALL OF DUTY 2\n",
            "Call of Duty\n",
            "Battlefield Bad Company\n",
            "Call of Duty Black ops\n",
            "Forza Motorsport 5\n",
            "Forza Motorsport 5\n",
            "Battlefield 4\n",
            "CALL OF DUTY GHOSTS\n",
            "FORZA 5\n",
            "CALL OF DUTY\n",
            "Battlefield 4\n",
            "Call of Duty\n",
            "Forza\n",
            "Battlefield 3\n",
            "Call of Duty\n",
            "Call Of Duty\n",
            "Call of Duty\n",
            "Battlefield 1\n",
            "Battlefield 3\n",
            "Forza 4\n",
            "Forza Horizon 3\n",
            "Battlefield 4\n",
            "Battlefield: Hardline\n",
            "Call of Duty: Ghosts\n",
            "CALL OF DUTY\n",
            "FORZA\n",
            "Call of Duty\n",
            "Call of Duty\n",
            "Battlefield 1\n",
            "battlefield\n",
            "Battlefield 4\n",
            "Call of Duty\n",
            "Батлфилд 1\n",
            "Battlefield 3\n",
            "Forza horizon 2\n",
            "Forza motorsport 6\n",
            "Call of Duty\n",
            "Forza Horizon\n",
            "Battlefield 4\n",
            "Battlefield Hardline\n",
            "Battlefield\n",
            "Battlefield\n",
            "Battlefield Hardline\n",
            "Battlefield Hardline\n",
            "Call Of Duty\n",
            "Call of Duty MW3\n",
            "Call of Duty Black Ops\n",
            "Forza Horizon 2\n",
            "Call of Duty: World at War\n",
            "BATTLEFIELD 3\n",
            "Forza Motorsport 5\n",
            "CALL of DUTY\n",
            "Call of Duty:\n",
            "Call of Duty 4\n",
            "Call of Duty: Modern Warfare 3\n",
            "Call of Duty: Modern Warfare 2\n",
            "Call of Duty: Modern Warfare\n",
            "Battlefield 2\n",
            "Battlefield:\n",
            "Call of Duty GHOSTS\n",
            "Call of Duty: Black Ops III\n",
            "Battlefield 3\n",
            "Battlefield 4\n",
            "Battlefield 4\n",
            "Call of Duty Black Ops 2\n",
            "Battlefield 3\n",
            "Battlefield 3\n",
            "Call of Duty: Ghosts\n",
            "Батлфилд 1\n",
            "Forza Motorsport 4\n",
            "Battlefield 4\n",
            "Battlefield\n",
            "Battlefield 2\n",
            "Call of Duty Black Ops 3\n"
          ],
          "name": "stdout"
        }
      ]
    }
  ]
}