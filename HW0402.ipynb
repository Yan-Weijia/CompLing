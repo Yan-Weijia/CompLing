{
  "nbformat": 4,
  "nbformat_minor": 0,
  "metadata": {
    "colab": {
      "name": "HW0402.ipynb",
      "provenance": [],
      "machine_shape": "hm",
      "authorship_tag": "ABX9TyN3VqBCdFE+z5DjrhAKGx8R",
      "include_colab_link": true
    },
    "kernelspec": {
      "name": "python3",
      "display_name": "Python 3"
    }
  },
  "cells": [
    {
      "cell_type": "markdown",
      "metadata": {
        "id": "view-in-github",
        "colab_type": "text"
      },
      "source": [
        "<a href=\"https://colab.research.google.com/github/Yan-Weijia/CompLing/blob/master/HW0402.ipynb\" target=\"_parent\"><img src=\"https://colab.research.google.com/assets/colab-badge.svg\" alt=\"Open In Colab\"/></a>"
      ]
    },
    {
      "cell_type": "code",
      "metadata": {
        "id": "jlfTTnM03kZL",
        "colab_type": "code",
        "colab": {}
      },
      "source": [
        "!pip install deeppavlov"
      ],
      "execution_count": 0,
      "outputs": []
    },
    {
      "cell_type": "code",
      "metadata": {
        "id": "NFgSqu6V5LYt",
        "colab_type": "code",
        "colab": {}
      },
      "source": [
        "!pip install tensorflow==1.15.0"
      ],
      "execution_count": 0,
      "outputs": []
    },
    {
      "cell_type": "code",
      "metadata": {
        "id": "DBe-hpGg5MGU",
        "colab_type": "code",
        "colab": {}
      },
      "source": [
        "!apt-get --yes install git"
      ],
      "execution_count": 0,
      "outputs": []
    },
    {
      "cell_type": "code",
      "metadata": {
        "id": "AKtKZbaI5Sd5",
        "colab_type": "code",
        "colab": {}
      },
      "source": [
        "!pip install git+https://github.com/deepmipt/bert.git@feat/multi_gpu"
      ],
      "execution_count": 0,
      "outputs": []
    },
    {
      "cell_type": "code",
      "metadata": {
        "id": "vyecyK6E6SmL",
        "colab_type": "code",
        "colab": {}
      },
      "source": [
        "import pandas as pd"
      ],
      "execution_count": 0,
      "outputs": []
    },
    {
      "cell_type": "code",
      "metadata": {
        "id": "ciBqxG1v6mr3",
        "colab_type": "code",
        "colab": {}
      },
      "source": [
        "!wget https://raw.githubusercontent.com/mannefedov/compling_nlp_hse_course/master/data/pristavki.csv"
      ],
      "execution_count": 0,
      "outputs": []
    },
    {
      "cell_type": "code",
      "metadata": {
        "colab_type": "code",
        "id": "_Bf7wBP-Q-v0",
        "colab": {}
      },
      "source": [
        "data = pd.read_csv('pristavki.csv', header=None, names=['text'])"
      ],
      "execution_count": 0,
      "outputs": []
    },
    {
      "cell_type": "code",
      "metadata": {
        "id": "Q9JswsnA9aU8",
        "colab_type": "code",
        "colab": {}
      },
      "source": [
        "!wget https://raw.githubusercontent.com/Yan-Weijia/CompLing/master/HW04data/test.txt\n",
        "!wget https://raw.githubusercontent.com/Yan-Weijia/CompLing/master/HW04data/train.txt\n",
        "!wget https://raw.githubusercontent.com/Yan-Weijia/CompLing/master/HW04data/valid.txt"
      ],
      "execution_count": 0,
      "outputs": []
    },
    {
      "cell_type": "code",
      "metadata": {
        "id": "IJpy-yDwCKPv",
        "colab_type": "code",
        "outputId": "656e40f6-7f3c-4f38-9f7e-9c8f5345ca32",
        "colab": {
          "base_uri": "https://localhost:8080/",
          "height": 35
        }
      },
      "source": [
        "!ls *.txt"
      ],
      "execution_count": 9,
      "outputs": [
        {
          "output_type": "stream",
          "text": [
            "test.txt  train.txt  valid.txt\n"
          ],
          "name": "stdout"
        }
      ]
    },
    {
      "cell_type": "code",
      "metadata": {
        "id": "m_MW99yi7SAt",
        "colab_type": "code",
        "outputId": "a23967a0-415e-42f3-a7dd-62651fb2dd7c",
        "colab": {
          "base_uri": "https://localhost:8080/",
          "height": 190
        }
      },
      "source": [
        "!head test.txt"
      ],
      "execution_count": 10,
      "outputs": [
        {
          "output_type": "stream",
          "text": [
            "Brother B-PRS\r\n",
            "In I-PRS\r\n",
            "Arms I-PRS\r\n",
            ": I-PRS\r\n",
            "Earned I-PRS\r\n",
            "In I-PRS\r\n",
            "Blood I-PRS\r\n",
            "- O\r\n",
            "продолжение O\r\n",
            "отменного O\r\n"
          ],
          "name": "stdout"
        }
      ]
    },
    {
      "cell_type": "code",
      "metadata": {
        "colab_type": "code",
        "id": "tsvydQwjbHo2",
        "colab": {}
      },
      "source": [
        "import json\n",
        "from deeppavlov import configs, build_model, train_model"
      ],
      "execution_count": 0,
      "outputs": []
    },
    {
      "cell_type": "code",
      "metadata": {
        "id": "0ig-ncJQ9yK4",
        "colab_type": "code",
        "colab": {}
      },
      "source": [
        "with configs.ner.ner_ontonotes_bert_mult.open(encoding='utf8') as f:\n",
        "    ner_config = json.load(f)\n",
        "\n",
        "ner_config['dataset_reader']['data_path'] = './'  # directory with train.txt, valid.txt and test.txt files\n",
        "ner_config['metadata']['variables']['NER_PATH'] = './'\n",
        "ner_config['metadata']['download'] = [ner_config['metadata']['download'][-1]]  # do not download the pretrained ontonotes model\n",
        "\n",
        "ner_model = train_model(ner_config, download=True)"
      ],
      "execution_count": 0,
      "outputs": []
    },
    {
      "cell_type": "code",
      "metadata": {
        "id": "dt2iZekX_glj",
        "colab_type": "code",
        "outputId": "7c8f9667-c32a-4dc0-bb79-6a0bf997dead",
        "colab": {
          "base_uri": "https://localhost:8080/",
          "height": 155
        }
      },
      "source": [
        "ner_model(['Battlefield Bad Company 2', 'Battlefield: Bad Company 2', 'BATTLEFIELD 3', 'бателфилд: бэд компани 2'])"
      ],
      "execution_count": 25,
      "outputs": [
        {
          "output_type": "execute_result",
          "data": {
            "text/plain": [
              "[[['Battlefield', 'Bad', 'Company', '2'],\n",
              "  ['Battlefield', ':', 'Bad', 'Company', '2'],\n",
              "  ['BATTLEFIELD', '3'],\n",
              "  ['бателфилд', ':', 'бэд', 'компани', '2']],\n",
              " [['B-PRS', 'I-PRS', 'I-PRS', 'I-PRS'],\n",
              "  ['B-PRS', 'I-PRS', 'B-PRS', 'I-PRS', 'I-PRS'],\n",
              "  ['B-PRS', 'I-PRS'],\n",
              "  ['O', 'O', 'B-PRS', 'I-PRS', 'I-PRS']]]"
            ]
          },
          "metadata": {
            "tags": []
          },
          "execution_count": 25
        }
      ]
    },
    {
      "cell_type": "code",
      "metadata": {
        "colab_type": "code",
        "id": "V42xCMelFJ2c",
        "outputId": "a7d64096-1356-43b0-8f85-661bcbe6753f",
        "colab": {
          "base_uri": "https://localhost:8080/",
          "height": 121
        }
      },
      "source": [
        "ner_model(['fifa 17', 'фифа 11', 'гта 5', 'GTA V', 'видмак 3'])"
      ],
      "execution_count": 19,
      "outputs": [
        {
          "output_type": "execute_result",
          "data": {
            "text/plain": [
              "[[['fifa', '17'], ['фифа', '11'], ['гта', '5'], ['GTA', 'V'], ['видмак', '3']],\n",
              " [['B-PRS', 'I-PRS'],\n",
              "  ['B-PRS', 'I-PRS'],\n",
              "  ['B-PRS', 'I-PRS'],\n",
              "  ['B-PRS', 'I-PRS'],\n",
              "  ['B-PRS', 'I-PRS']]]"
            ]
          },
          "metadata": {
            "tags": []
          },
          "execution_count": 19
        }
      ]
    },
    {
      "cell_type": "code",
      "metadata": {
        "colab_type": "code",
        "id": "D8yS25bvFk3J",
        "outputId": "5ce67b31-6d6a-413d-b2cd-c1aec6a56f17",
        "colab": {
          "base_uri": "https://localhost:8080/",
          "height": 155
        }
      },
      "source": [
        "ner_model(['Street Fighter IV', 'Grand Theft Auto 4', 'Gold of Wars', 'The Witcher 3: Wild Hunt'])"
      ],
      "execution_count": 22,
      "outputs": [
        {
          "output_type": "execute_result",
          "data": {
            "text/plain": [
              "[[['Street', 'Fighter', 'IV'],\n",
              "  ['Grand', 'Theft', 'Auto', '4'],\n",
              "  ['Gold', 'of', 'Wars'],\n",
              "  ['The', 'Witcher', '3', ':', 'Wild', 'Hunt']],\n",
              " [['B-PRS', 'I-PRS', 'I-PRS'],\n",
              "  ['B-PRS', 'I-PRS', 'I-PRS', 'I-PRS'],\n",
              "  ['B-PRS', 'I-PRS', 'I-PRS'],\n",
              "  ['B-PRS', 'I-PRS', 'I-PRS', 'O', 'B-PRS', 'I-PRS']]]"
            ]
          },
          "metadata": {
            "tags": []
          },
          "execution_count": 22
        }
      ]
    },
    {
      "cell_type": "code",
      "metadata": {
        "id": "CoigG9HDc1bi",
        "colab_type": "code",
        "colab": {
          "base_uri": "https://localhost:8080/",
          "height": 121
        },
        "outputId": "a9b70f40-2e74-4fb6-ccfd-f4ddc5dd95a6"
      },
      "source": [
        "ner_model(['Call of duty Black ops 2', 'Call of Duty: Black Ops III', 'Call of Duty: Black Ops Declassified'])"
      ],
      "execution_count": 21,
      "outputs": [
        {
          "output_type": "execute_result",
          "data": {
            "text/plain": [
              "[[['Call', 'of', 'duty', 'Black', 'ops', '2'],\n",
              "  ['Call', 'of', 'Duty', ':', 'Black', 'Ops', 'III'],\n",
              "  ['Call', 'of', 'Duty', ':', 'Black', 'Ops', 'Declassified']],\n",
              " [['B-PRS', 'I-PRS', 'I-PRS', 'I-PRS', 'I-PRS', 'I-PRS'],\n",
              "  ['B-PRS', 'I-PRS', 'I-PRS', 'O', 'B-PRS', 'I-PRS', 'I-PRS'],\n",
              "  ['B-PRS', 'I-PRS', 'I-PRS', 'O', 'B-PRS', 'I-PRS', 'I-PRS']]]"
            ]
          },
          "metadata": {
            "tags": []
          },
          "execution_count": 21
        }
      ]
    },
    {
      "cell_type": "code",
      "metadata": {
        "id": "iDRcBNlOi091",
        "colab_type": "code",
        "colab": {
          "base_uri": "https://localhost:8080/",
          "height": 35
        },
        "outputId": "a21d2779-06b6-4a37-c2c0-632de2e5d03d"
      },
      "source": [
        "ner_model(['PS 4', 'Xbox 360'])"
      ],
      "execution_count": 26,
      "outputs": [
        {
          "output_type": "execute_result",
          "data": {
            "text/plain": [
              "[[['PS', '4'], ['Xbox', '360']], [['B-PRS', 'I-PRS'], ['B-PRS', 'I-PRS']]]"
            ]
          },
          "metadata": {
            "tags": []
          },
          "execution_count": 26
        }
      ]
    },
    {
      "cell_type": "code",
      "metadata": {
        "colab_type": "code",
        "id": "VKEWNLwhiK-H",
        "colab": {}
      },
      "source": [
        "marked = []\n",
        "\n",
        "for text in data.text.values[:1000]:\n",
        "    # BERT имеет лимит на длину текста в 512 слов, возьмем даже еще меньше\n",
        "    if len(text.split()) > 100:\n",
        "        continue\n",
        "    pred = ner_model([text])\n",
        "    sent, tags = pred[0][0], pred[1][0]\n",
        "    \n",
        "    # достанем только тексты с сущностями\n",
        "    if len(set(tags[0])) > 1:\n",
        "        marked.append(list(zip(sent,tags)))"
      ],
      "execution_count": 0,
      "outputs": []
    },
    {
      "cell_type": "code",
      "metadata": {
        "id": "MaRntsMQ_-rZ",
        "colab_type": "code",
        "outputId": "fa13232d-74ef-449b-ab1f-b32eade2a6ad",
        "colab": {
          "base_uri": "https://localhost:8080/",
          "height": 259
        }
      },
      "source": [
        "marked[0]"
      ],
      "execution_count": 17,
      "outputs": [
        {
          "output_type": "execute_result",
          "data": {
            "text/plain": [
              "[('Игра', 'B-PRS'),\n",
              " ('праздник', 'I-PRS'),\n",
              " ('спорта', 'I-PRS'),\n",
              " ('/', 'O'),\n",
              " ('\\n', 'O'),\n",
              " ('/', 'O'),\n",
              " ('\\n', 'O'),\n",
              " ('ПС3', 'B-PRS'),\n",
              " ('Мув', 'I-PRS'),\n",
              " ('/', 'O'),\n",
              " ('\\n', 'B-PRS'),\n",
              " ('/', 'O'),\n",
              " ('\\n', 'B-PRS'),\n",
              " ('Камера', 'I-PRS')]"
            ]
          },
          "metadata": {
            "tags": []
          },
          "execution_count": 17
        }
      ]
    },
    {
      "cell_type": "markdown",
      "metadata": {
        "id": "Hgvt5xoPfErK",
        "colab_type": "text"
      },
      "source": [
        "Хорошо опознавает сущности без двоеточия\n",
        "\n",
        "['Battlefield', 'Bad', 'Company', '2'] ['B-PRS', 'I-PRS', 'I-PRS', 'I-PRS']\n",
        "\n",
        "['Call', 'of', 'duty', 'Black', 'ops', '2'] ['B-PRS', 'I-PRS', 'I-PRS', 'I-PRS', 'I-PRS', 'I-PRS']\n",
        "\n",
        "[[['fifa', '17'], \n",
        "\n",
        "  ['фифа', '11'], \n",
        "\n",
        "  ['гта', '5'], \n",
        "\n",
        "  ['GTA', 'V'], \n",
        "\n",
        "  ['видмак', '3']],\n",
        "\n",
        " [['B-PRS', 'I-PRS'],\n",
        "\n",
        "  ['B-PRS', 'I-PRS'],\n",
        "\n",
        "  ['B-PRS', 'I-PRS'],\n",
        "\n",
        "  ['B-PRS', 'I-PRS'],\n",
        "\n",
        "  ['B-PRS', 'I-PRS']]]"
      ]
    },
    {
      "cell_type": "markdown",
      "metadata": {
        "id": "49jwCGQHnPCg",
        "colab_type": "text"
      },
      "source": [
        "Не очень умно опознавает версии после \"name\" + \":\" \n",
        "\n",
        "['бателфилд', ':', 'бэд', 'компани', '2'] ['O', 'O', 'B-PRS', 'I-PRS', 'I-PRS']\n",
        "\n",
        "['Battlefield', ':', 'Bad', 'Company', '2'] ['B-PRS', 'I-PRS', 'B-PRS', 'I-PRS', 'I-PRS'] \n",
        "\n",
        "['Call', 'of', 'Duty', ':', 'Black', 'Ops', 'III'] ['B-PRS', 'I-PRS', 'I-PRS', 'O', 'B-PRS', 'I-PRS', 'I-PRS']\n",
        "\n",
        "['Call', 'of', 'Duty', ':', 'Black', 'Ops', 'Declassified'] ['B-PRS', 'I-PRS', 'I-PRS', 'O', 'B-PRS', 'I-PRS', 'I-PRS']\n",
        "\n",
        "['The', 'Witcher', '3', ':', 'Wild', 'Hunt'] ['B-PRS', 'I-PRS', 'I-PRS', 'O', 'B-PRS', 'I-PRS']"
      ]
    },
    {
      "cell_type": "markdown",
      "metadata": {
        "id": "OBjJlRAkjFfj",
        "colab_type": "text"
      },
      "source": [
        "Ошибочно опознавает PS 4, Xbox 360\n",
        "\n",
        "[[['PS', '4'], ['Xbox', '360']], [['B-PRS', 'I-PRS'], ['B-PRS', 'I-PRS']]]"
      ]
    }
  ]
}