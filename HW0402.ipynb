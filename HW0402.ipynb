{
  "nbformat": 4,
  "nbformat_minor": 0,
  "metadata": {
    "colab": {
      "name": "HW0402.ipynb",
      "provenance": [],
      "machine_shape": "hm",
      "authorship_tag": "ABX9TyORQv5nwTDhLmXfQLDGr6BA",
      "include_colab_link": true
    },
    "kernelspec": {
      "name": "python3",
      "display_name": "Python 3"
    }
  },
  "cells": [
    {
      "cell_type": "markdown",
      "metadata": {
        "id": "view-in-github",
        "colab_type": "text"
      },
      "source": [
        "<a href=\"https://colab.research.google.com/github/Yan-Weijia/CompLing/blob/master/HW0402.ipynb\" target=\"_parent\"><img src=\"https://colab.research.google.com/assets/colab-badge.svg\" alt=\"Open In Colab\"/></a>"
      ]
    },
    {
      "cell_type": "code",
      "metadata": {
        "id": "jlfTTnM03kZL",
        "colab_type": "code",
        "colab": {}
      },
      "source": [
        "!pip install deeppavlov"
      ],
      "execution_count": 0,
      "outputs": []
    },
    {
      "cell_type": "code",
      "metadata": {
        "id": "NFgSqu6V5LYt",
        "colab_type": "code",
        "colab": {}
      },
      "source": [
        "!pip install tensorflow==1.15.0"
      ],
      "execution_count": 0,
      "outputs": []
    },
    {
      "cell_type": "code",
      "metadata": {
        "id": "DBe-hpGg5MGU",
        "colab_type": "code",
        "colab": {}
      },
      "source": [
        "!apt-get --yes install git"
      ],
      "execution_count": 0,
      "outputs": []
    },
    {
      "cell_type": "code",
      "metadata": {
        "id": "AKtKZbaI5Sd5",
        "colab_type": "code",
        "colab": {}
      },
      "source": [
        "!pip install git+https://github.com/deepmipt/bert.git@feat/multi_gpu"
      ],
      "execution_count": 0,
      "outputs": []
    },
    {
      "cell_type": "code",
      "metadata": {
        "id": "vyecyK6E6SmL",
        "colab_type": "code",
        "colab": {}
      },
      "source": [
        "import pandas as pd"
      ],
      "execution_count": 0,
      "outputs": []
    },
    {
      "cell_type": "code",
      "metadata": {
        "id": "ciBqxG1v6mr3",
        "colab_type": "code",
        "colab": {}
      },
      "source": [
        "!wget https://raw.githubusercontent.com/mannefedov/compling_nlp_hse_course/master/data/pristavki.csv"
      ],
      "execution_count": 0,
      "outputs": []
    },
    {
      "cell_type": "code",
      "metadata": {
        "colab_type": "code",
        "id": "_Bf7wBP-Q-v0",
        "colab": {}
      },
      "source": [
        "data = pd.read_csv('pristavki.csv', header=None, names=['text'])"
      ],
      "execution_count": 0,
      "outputs": []
    },
    {
      "cell_type": "code",
      "metadata": {
        "id": "Q9JswsnA9aU8",
        "colab_type": "code",
        "colab": {}
      },
      "source": [
        "!wget https://raw.githubusercontent.com/Yan-Weijia/CompLing/master/HW04data/test.txt\n",
        "!wget https://raw.githubusercontent.com/Yan-Weijia/CompLing/master/HW04data/train.txt\n",
        "!wget https://raw.githubusercontent.com/Yan-Weijia/CompLing/master/HW04data/valid.txt"
      ],
      "execution_count": 0,
      "outputs": []
    },
    {
      "cell_type": "code",
      "metadata": {
        "id": "IJpy-yDwCKPv",
        "colab_type": "code",
        "outputId": "4583a048-3126-4395-85d2-2316af892157",
        "colab": {
          "base_uri": "https://localhost:8080/",
          "height": 35
        }
      },
      "source": [
        "!ls *.txt"
      ],
      "execution_count": 31,
      "outputs": [
        {
          "output_type": "stream",
          "text": [
            "test.txt  train.txt  valid.txt\n"
          ],
          "name": "stdout"
        }
      ]
    },
    {
      "cell_type": "code",
      "metadata": {
        "id": "m_MW99yi7SAt",
        "colab_type": "code",
        "outputId": "69674be8-ba2f-4b92-eaa2-406718892cbb",
        "colab": {
          "base_uri": "https://localhost:8080/",
          "height": 190
        }
      },
      "source": [
        "!head test.txt"
      ],
      "execution_count": 32,
      "outputs": [
        {
          "output_type": "stream",
          "text": [
            "Brother B-PRS\r\n",
            "In I-PRS\r\n",
            "Arms: I-PRS\r\n",
            "Earned I-PRS\r\n",
            "In I-PRS\r\n",
            "Blood I-PRS\r\n",
            "- O\r\n",
            "продолжение O\r\n",
            "отменного O\r\n",
            "экшна O\r\n"
          ],
          "name": "stdout"
        }
      ]
    },
    {
      "cell_type": "code",
      "metadata": {
        "colab_type": "code",
        "id": "tsvydQwjbHo2",
        "colab": {}
      },
      "source": [
        "import json\n",
        "from deeppavlov import configs, build_model, train_model"
      ],
      "execution_count": 0,
      "outputs": []
    },
    {
      "cell_type": "code",
      "metadata": {
        "id": "0ig-ncJQ9yK4",
        "colab_type": "code",
        "colab": {}
      },
      "source": [
        "with configs.ner.ner_ontonotes_bert_mult.open(encoding='utf8') as f:\n",
        "    ner_config = json.load(f)\n",
        "\n",
        "ner_config['dataset_reader']['data_path'] = './'  # directory with train.txt, valid.txt and test.txt files\n",
        "ner_config['metadata']['variables']['NER_PATH'] = './'\n",
        "ner_config['metadata']['download'] = [ner_config['metadata']['download'][-1]]  # do not download the pretrained ontonotes model\n",
        "\n",
        "ner_model = train_model(ner_config, download=True)"
      ],
      "execution_count": 0,
      "outputs": []
    },
    {
      "cell_type": "code",
      "metadata": {
        "id": "dt2iZekX_glj",
        "colab_type": "code",
        "outputId": "2f41cd0f-c4bd-45d0-e2e6-0d04eb480eb9",
        "colab": {
          "base_uri": "https://localhost:8080/",
          "height": 86
        }
      },
      "source": [
        "ner_model(['Brother In Arms: Earned In Blood', 'Brother In Arms: Road To Hill 30'])"
      ],
      "execution_count": 35,
      "outputs": [
        {
          "output_type": "execute_result",
          "data": {
            "text/plain": [
              "[[['Brother', 'In', 'Arms', ':', 'Earned', 'In', 'Blood'],\n",
              "  ['Brother', 'In', 'Arms', ':', 'Road', 'To', 'Hill', '30']],\n",
              " [['B-PRS', 'I-PRS', 'I-PRS', 'O', 'B-PRS', 'I-PRS', 'I-PRS'],\n",
              "  ['B-PRS', 'I-PRS', 'I-PRS', 'I-PRS', 'B-PRS', 'I-PRS', 'I-PRS', 'I-PRS']]]"
            ]
          },
          "metadata": {
            "tags": []
          },
          "execution_count": 35
        }
      ]
    },
    {
      "cell_type": "code",
      "metadata": {
        "colab_type": "code",
        "id": "V42xCMelFJ2c",
        "outputId": "328df6b6-d169-4fb6-9246-932d4181c2d7",
        "colab": {
          "base_uri": "https://localhost:8080/",
          "height": 190
        }
      },
      "source": [
        "ner_model(['fifa 17', 'фифа 15, 16', 'гта 5', 'GTA V', 'видмак 3'])"
      ],
      "execution_count": 36,
      "outputs": [
        {
          "output_type": "execute_result",
          "data": {
            "text/plain": [
              "[[['fifa', '17'],\n",
              "  ['фифа', '15', ',', '16'],\n",
              "  ['гта', '5'],\n",
              "  ['GTA', 'V'],\n",
              "  ['видмак', '3']],\n",
              " [['B-PRS', 'I-PRS'],\n",
              "  ['B-PRS', 'I-PRS', 'O', 'I-PRS'],\n",
              "  ['B-PRS', 'I-PRS'],\n",
              "  ['B-PRS', 'I-PRS'],\n",
              "  ['B-PRS', 'I-PRS']]]"
            ]
          },
          "metadata": {
            "tags": []
          },
          "execution_count": 36
        }
      ]
    },
    {
      "cell_type": "code",
      "metadata": {
        "colab_type": "code",
        "id": "D8yS25bvFk3J",
        "outputId": "384a38dc-a101-4a49-ea72-6b73372697af",
        "colab": {
          "base_uri": "https://localhost:8080/",
          "height": 155
        }
      },
      "source": [
        "ner_model(['Street Fighter IV', 'Grand Theft Auto 4', 'Call of Duty: Black Ops III', 'Gold of Wars'])"
      ],
      "execution_count": 37,
      "outputs": [
        {
          "output_type": "execute_result",
          "data": {
            "text/plain": [
              "[[['Street', 'Fighter', 'IV'],\n",
              "  ['Grand', 'Theft', 'Auto', '4'],\n",
              "  ['Call', 'of', 'Duty', ':', 'Black', 'Ops', 'III'],\n",
              "  ['Gold', 'of', 'Wars']],\n",
              " [['B-PRS', 'I-PRS', 'I-PRS'],\n",
              "  ['B-PRS', 'I-PRS', 'I-PRS', 'I-PRS'],\n",
              "  ['B-PRS', 'I-PRS', 'I-PRS', 'I-PRS', 'B-PRS', 'I-PRS', 'I-PRS'],\n",
              "  ['B-PRS', 'I-PRS', 'I-PRS']]]"
            ]
          },
          "metadata": {
            "tags": []
          },
          "execution_count": 37
        }
      ]
    },
    {
      "cell_type": "code",
      "metadata": {
        "colab_type": "code",
        "id": "VKEWNLwhiK-H",
        "colab": {}
      },
      "source": [
        "marked = []\n",
        "\n",
        "for text in data.text.values[:1000]:\n",
        "    # BERT имеет лимит на длину текста в 512 слов, возьмем даже еще меньше\n",
        "    if len(text.split()) > 100:\n",
        "        continue\n",
        "    pred = ner_model([text])\n",
        "    sent, tags = pred[0][0], pred[1][0]\n",
        "    \n",
        "    # достанем только тексты с сущностями\n",
        "    if len(set(tags[0])) > 1:\n",
        "        marked.append(list(zip(sent,tags)))"
      ],
      "execution_count": 0,
      "outputs": []
    },
    {
      "cell_type": "code",
      "metadata": {
        "id": "MaRntsMQ_-rZ",
        "colab_type": "code",
        "outputId": "e8337fbc-d34c-4796-9eae-bf06650d9740",
        "colab": {
          "base_uri": "https://localhost:8080/",
          "height": 294
        }
      },
      "source": [
        "marked[0]"
      ],
      "execution_count": 43,
      "outputs": [
        {
          "output_type": "execute_result",
          "data": {
            "text/plain": [
              "[('Battlefield', 'B-PRS'),\n",
              " ('4', 'I-PRS'),\n",
              " (',', 'O'),\n",
              " ('Granturismo', 'B-PRS'),\n",
              " ('3', 'I-PRS'),\n",
              " ('и', 'O'),\n",
              " ('Звезды', 'O'),\n",
              " ('Playstation', 'O'),\n",
              " ('Битва', 'O'),\n",
              " ('сильнейших', 'O'),\n",
              " ('.', 'O'),\n",
              " ('За', 'O'),\n",
              " ('все', 'O'),\n",
              " ('1500', 'O'),\n",
              " ('руб', 'O'),\n",
              " ('.', 'O')]"
            ]
          },
          "metadata": {
            "tags": []
          },
          "execution_count": 43
        }
      ]
    },
    {
      "cell_type": "markdown",
      "metadata": {
        "id": "49jwCGQHnPCg",
        "colab_type": "text"
      },
      "source": [
        "Не очень умно опознавает версии после \"name\" + \":\""
      ]
    }
  ]
}